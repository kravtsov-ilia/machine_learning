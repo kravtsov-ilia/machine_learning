{
 "cells": [
  {
   "cell_type": "markdown",
   "metadata": {},
   "source": [
    "<b>Где дешевле жить? Предсказание цен в Airbnb - учимся генерировать признаки и интерпретировать результаты модели.  \n",
    "Цель: В этом проекте вы потренируетесь строить интерпретируемые модели линейной регрессии с регуляризацией и без, а также придумывать новые признаки для\n",
    "улучшения качества модели.</b>"
   ]
  },
  {
   "cell_type": "markdown",
   "metadata": {},
   "source": [
    "## EDA"
   ]
  },
  {
   "cell_type": "code",
   "execution_count": 1,
   "metadata": {},
   "outputs": [],
   "source": [
    "import numpy as np\n",
    "import pandas as pd\n",
    "import matplotlib.pyplot as plt\n",
    "import seaborn as sns\n",
    "\n",
    "%matplotlib inline\n"
   ]
  },
  {
   "cell_type": "code",
   "execution_count": 2,
   "metadata": {},
   "outputs": [],
   "source": [
    "all_data = pd.read_csv('AB_NYC_2019.csv', index_col='id')"
   ]
  },
  {
   "cell_type": "code",
   "execution_count": 3,
   "metadata": {},
   "outputs": [],
   "source": [
    "all_data = all_data[~all_data.duplicated()]"
   ]
  },
  {
   "cell_type": "code",
   "execution_count": 4,
   "metadata": {},
   "outputs": [],
   "source": [
    "data = all_data.drop(['name', 'host_id', 'host_name', 'last_review'], axis=1)"
   ]
  },
  {
   "cell_type": "code",
   "execution_count": 5,
   "metadata": {},
   "outputs": [
    {
     "data": {
      "text/html": [
       "<div>\n",
       "<style scoped>\n",
       "    .dataframe tbody tr th:only-of-type {\n",
       "        vertical-align: middle;\n",
       "    }\n",
       "\n",
       "    .dataframe tbody tr th {\n",
       "        vertical-align: top;\n",
       "    }\n",
       "\n",
       "    .dataframe thead th {\n",
       "        text-align: right;\n",
       "    }\n",
       "</style>\n",
       "<table border=\"1\" class=\"dataframe\">\n",
       "  <thead>\n",
       "    <tr style=\"text-align: right;\">\n",
       "      <th></th>\n",
       "      <th>neighbourhood_group</th>\n",
       "      <th>neighbourhood</th>\n",
       "      <th>latitude</th>\n",
       "      <th>longitude</th>\n",
       "      <th>room_type</th>\n",
       "      <th>price</th>\n",
       "      <th>minimum_nights</th>\n",
       "      <th>number_of_reviews</th>\n",
       "      <th>reviews_per_month</th>\n",
       "      <th>calculated_host_listings_count</th>\n",
       "      <th>availability_365</th>\n",
       "    </tr>\n",
       "    <tr>\n",
       "      <th>id</th>\n",
       "      <th></th>\n",
       "      <th></th>\n",
       "      <th></th>\n",
       "      <th></th>\n",
       "      <th></th>\n",
       "      <th></th>\n",
       "      <th></th>\n",
       "      <th></th>\n",
       "      <th></th>\n",
       "      <th></th>\n",
       "      <th></th>\n",
       "    </tr>\n",
       "  </thead>\n",
       "  <tbody>\n",
       "    <tr>\n",
       "      <th>2539</th>\n",
       "      <td>Brooklyn</td>\n",
       "      <td>Kensington</td>\n",
       "      <td>40.64749</td>\n",
       "      <td>-73.97237</td>\n",
       "      <td>Private room</td>\n",
       "      <td>149</td>\n",
       "      <td>1</td>\n",
       "      <td>9</td>\n",
       "      <td>0.21</td>\n",
       "      <td>6</td>\n",
       "      <td>365</td>\n",
       "    </tr>\n",
       "    <tr>\n",
       "      <th>2595</th>\n",
       "      <td>Manhattan</td>\n",
       "      <td>Midtown</td>\n",
       "      <td>40.75362</td>\n",
       "      <td>-73.98377</td>\n",
       "      <td>Entire home/apt</td>\n",
       "      <td>225</td>\n",
       "      <td>1</td>\n",
       "      <td>45</td>\n",
       "      <td>0.38</td>\n",
       "      <td>2</td>\n",
       "      <td>355</td>\n",
       "    </tr>\n",
       "    <tr>\n",
       "      <th>3647</th>\n",
       "      <td>Manhattan</td>\n",
       "      <td>Harlem</td>\n",
       "      <td>40.80902</td>\n",
       "      <td>-73.94190</td>\n",
       "      <td>Private room</td>\n",
       "      <td>150</td>\n",
       "      <td>3</td>\n",
       "      <td>0</td>\n",
       "      <td>NaN</td>\n",
       "      <td>1</td>\n",
       "      <td>365</td>\n",
       "    </tr>\n",
       "    <tr>\n",
       "      <th>3831</th>\n",
       "      <td>Brooklyn</td>\n",
       "      <td>Clinton Hill</td>\n",
       "      <td>40.68514</td>\n",
       "      <td>-73.95976</td>\n",
       "      <td>Entire home/apt</td>\n",
       "      <td>89</td>\n",
       "      <td>1</td>\n",
       "      <td>270</td>\n",
       "      <td>4.64</td>\n",
       "      <td>1</td>\n",
       "      <td>194</td>\n",
       "    </tr>\n",
       "    <tr>\n",
       "      <th>5022</th>\n",
       "      <td>Manhattan</td>\n",
       "      <td>East Harlem</td>\n",
       "      <td>40.79851</td>\n",
       "      <td>-73.94399</td>\n",
       "      <td>Entire home/apt</td>\n",
       "      <td>80</td>\n",
       "      <td>10</td>\n",
       "      <td>9</td>\n",
       "      <td>0.10</td>\n",
       "      <td>1</td>\n",
       "      <td>0</td>\n",
       "    </tr>\n",
       "  </tbody>\n",
       "</table>\n",
       "</div>"
      ],
      "text/plain": [
       "     neighbourhood_group neighbourhood  latitude  longitude        room_type  \\\n",
       "id                                                                             \n",
       "2539            Brooklyn    Kensington  40.64749  -73.97237     Private room   \n",
       "2595           Manhattan       Midtown  40.75362  -73.98377  Entire home/apt   \n",
       "3647           Manhattan        Harlem  40.80902  -73.94190     Private room   \n",
       "3831            Brooklyn  Clinton Hill  40.68514  -73.95976  Entire home/apt   \n",
       "5022           Manhattan   East Harlem  40.79851  -73.94399  Entire home/apt   \n",
       "\n",
       "      price  minimum_nights  number_of_reviews  reviews_per_month  \\\n",
       "id                                                                  \n",
       "2539    149               1                  9               0.21   \n",
       "2595    225               1                 45               0.38   \n",
       "3647    150               3                  0                NaN   \n",
       "3831     89               1                270               4.64   \n",
       "5022     80              10                  9               0.10   \n",
       "\n",
       "      calculated_host_listings_count  availability_365  \n",
       "id                                                      \n",
       "2539                               6               365  \n",
       "2595                               2               355  \n",
       "3647                               1               365  \n",
       "3831                               1               194  \n",
       "5022                               1                 0  "
      ]
     },
     "execution_count": 5,
     "metadata": {},
     "output_type": "execute_result"
    }
   ],
   "source": [
    "data.head()"
   ]
  },
  {
   "cell_type": "code",
   "execution_count": 6,
   "metadata": {},
   "outputs": [
    {
     "name": "stdout",
     "output_type": "stream",
     "text": [
      "<class 'pandas.core.frame.DataFrame'>\n",
      "Int64Index: 48895 entries, 2539 to 36487245\n",
      "Data columns (total 11 columns):\n",
      " #   Column                          Non-Null Count  Dtype  \n",
      "---  ------                          --------------  -----  \n",
      " 0   neighbourhood_group             48895 non-null  object \n",
      " 1   neighbourhood                   48895 non-null  object \n",
      " 2   latitude                        48895 non-null  float64\n",
      " 3   longitude                       48895 non-null  float64\n",
      " 4   room_type                       48895 non-null  object \n",
      " 5   price                           48895 non-null  int64  \n",
      " 6   minimum_nights                  48895 non-null  int64  \n",
      " 7   number_of_reviews               48895 non-null  int64  \n",
      " 8   reviews_per_month               38843 non-null  float64\n",
      " 9   calculated_host_listings_count  48895 non-null  int64  \n",
      " 10  availability_365                48895 non-null  int64  \n",
      "dtypes: float64(3), int64(5), object(3)\n",
      "memory usage: 4.5+ MB\n"
     ]
    }
   ],
   "source": [
    "data.info()"
   ]
  },
  {
   "cell_type": "markdown",
   "metadata": {},
   "source": [
    "#### Только один признак имеет пропуски при заполненнии - \"reviews_per_month\""
   ]
  },
  {
   "cell_type": "code",
   "execution_count": 7,
   "metadata": {},
   "outputs": [
    {
     "data": {
      "text/html": [
       "<div>\n",
       "<style scoped>\n",
       "    .dataframe tbody tr th:only-of-type {\n",
       "        vertical-align: middle;\n",
       "    }\n",
       "\n",
       "    .dataframe tbody tr th {\n",
       "        vertical-align: top;\n",
       "    }\n",
       "\n",
       "    .dataframe thead th {\n",
       "        text-align: right;\n",
       "    }\n",
       "</style>\n",
       "<table border=\"1\" class=\"dataframe\">\n",
       "  <thead>\n",
       "    <tr style=\"text-align: right;\">\n",
       "      <th></th>\n",
       "      <th>neighbourhood_group</th>\n",
       "      <th>neighbourhood</th>\n",
       "      <th>latitude</th>\n",
       "      <th>longitude</th>\n",
       "      <th>room_type</th>\n",
       "      <th>price</th>\n",
       "      <th>minimum_nights</th>\n",
       "      <th>number_of_reviews</th>\n",
       "      <th>reviews_per_month</th>\n",
       "      <th>calculated_host_listings_count</th>\n",
       "      <th>availability_365</th>\n",
       "    </tr>\n",
       "  </thead>\n",
       "  <tbody>\n",
       "    <tr>\n",
       "      <th>count</th>\n",
       "      <td>48895</td>\n",
       "      <td>48895</td>\n",
       "      <td>48895.000000</td>\n",
       "      <td>48895.000000</td>\n",
       "      <td>48895</td>\n",
       "      <td>48895.000000</td>\n",
       "      <td>48895.000000</td>\n",
       "      <td>48895.000000</td>\n",
       "      <td>38843.000000</td>\n",
       "      <td>48895.000000</td>\n",
       "      <td>48895.000000</td>\n",
       "    </tr>\n",
       "    <tr>\n",
       "      <th>unique</th>\n",
       "      <td>5</td>\n",
       "      <td>221</td>\n",
       "      <td>NaN</td>\n",
       "      <td>NaN</td>\n",
       "      <td>3</td>\n",
       "      <td>NaN</td>\n",
       "      <td>NaN</td>\n",
       "      <td>NaN</td>\n",
       "      <td>NaN</td>\n",
       "      <td>NaN</td>\n",
       "      <td>NaN</td>\n",
       "    </tr>\n",
       "    <tr>\n",
       "      <th>top</th>\n",
       "      <td>Manhattan</td>\n",
       "      <td>Williamsburg</td>\n",
       "      <td>NaN</td>\n",
       "      <td>NaN</td>\n",
       "      <td>Entire home/apt</td>\n",
       "      <td>NaN</td>\n",
       "      <td>NaN</td>\n",
       "      <td>NaN</td>\n",
       "      <td>NaN</td>\n",
       "      <td>NaN</td>\n",
       "      <td>NaN</td>\n",
       "    </tr>\n",
       "    <tr>\n",
       "      <th>freq</th>\n",
       "      <td>21661</td>\n",
       "      <td>3920</td>\n",
       "      <td>NaN</td>\n",
       "      <td>NaN</td>\n",
       "      <td>25409</td>\n",
       "      <td>NaN</td>\n",
       "      <td>NaN</td>\n",
       "      <td>NaN</td>\n",
       "      <td>NaN</td>\n",
       "      <td>NaN</td>\n",
       "      <td>NaN</td>\n",
       "    </tr>\n",
       "    <tr>\n",
       "      <th>mean</th>\n",
       "      <td>NaN</td>\n",
       "      <td>NaN</td>\n",
       "      <td>40.728949</td>\n",
       "      <td>-73.952170</td>\n",
       "      <td>NaN</td>\n",
       "      <td>152.720687</td>\n",
       "      <td>7.029962</td>\n",
       "      <td>23.274466</td>\n",
       "      <td>1.373221</td>\n",
       "      <td>7.143982</td>\n",
       "      <td>112.781327</td>\n",
       "    </tr>\n",
       "    <tr>\n",
       "      <th>std</th>\n",
       "      <td>NaN</td>\n",
       "      <td>NaN</td>\n",
       "      <td>0.054530</td>\n",
       "      <td>0.046157</td>\n",
       "      <td>NaN</td>\n",
       "      <td>240.154170</td>\n",
       "      <td>20.510550</td>\n",
       "      <td>44.550582</td>\n",
       "      <td>1.680442</td>\n",
       "      <td>32.952519</td>\n",
       "      <td>131.622289</td>\n",
       "    </tr>\n",
       "    <tr>\n",
       "      <th>min</th>\n",
       "      <td>NaN</td>\n",
       "      <td>NaN</td>\n",
       "      <td>40.499790</td>\n",
       "      <td>-74.244420</td>\n",
       "      <td>NaN</td>\n",
       "      <td>0.000000</td>\n",
       "      <td>1.000000</td>\n",
       "      <td>0.000000</td>\n",
       "      <td>0.010000</td>\n",
       "      <td>1.000000</td>\n",
       "      <td>0.000000</td>\n",
       "    </tr>\n",
       "    <tr>\n",
       "      <th>25%</th>\n",
       "      <td>NaN</td>\n",
       "      <td>NaN</td>\n",
       "      <td>40.690100</td>\n",
       "      <td>-73.983070</td>\n",
       "      <td>NaN</td>\n",
       "      <td>69.000000</td>\n",
       "      <td>1.000000</td>\n",
       "      <td>1.000000</td>\n",
       "      <td>0.190000</td>\n",
       "      <td>1.000000</td>\n",
       "      <td>0.000000</td>\n",
       "    </tr>\n",
       "    <tr>\n",
       "      <th>50%</th>\n",
       "      <td>NaN</td>\n",
       "      <td>NaN</td>\n",
       "      <td>40.723070</td>\n",
       "      <td>-73.955680</td>\n",
       "      <td>NaN</td>\n",
       "      <td>106.000000</td>\n",
       "      <td>3.000000</td>\n",
       "      <td>5.000000</td>\n",
       "      <td>0.720000</td>\n",
       "      <td>1.000000</td>\n",
       "      <td>45.000000</td>\n",
       "    </tr>\n",
       "    <tr>\n",
       "      <th>75%</th>\n",
       "      <td>NaN</td>\n",
       "      <td>NaN</td>\n",
       "      <td>40.763115</td>\n",
       "      <td>-73.936275</td>\n",
       "      <td>NaN</td>\n",
       "      <td>175.000000</td>\n",
       "      <td>5.000000</td>\n",
       "      <td>24.000000</td>\n",
       "      <td>2.020000</td>\n",
       "      <td>2.000000</td>\n",
       "      <td>227.000000</td>\n",
       "    </tr>\n",
       "    <tr>\n",
       "      <th>max</th>\n",
       "      <td>NaN</td>\n",
       "      <td>NaN</td>\n",
       "      <td>40.913060</td>\n",
       "      <td>-73.712990</td>\n",
       "      <td>NaN</td>\n",
       "      <td>10000.000000</td>\n",
       "      <td>1250.000000</td>\n",
       "      <td>629.000000</td>\n",
       "      <td>58.500000</td>\n",
       "      <td>327.000000</td>\n",
       "      <td>365.000000</td>\n",
       "    </tr>\n",
       "  </tbody>\n",
       "</table>\n",
       "</div>"
      ],
      "text/plain": [
       "       neighbourhood_group neighbourhood      latitude     longitude  \\\n",
       "count                48895         48895  48895.000000  48895.000000   \n",
       "unique                   5           221           NaN           NaN   \n",
       "top              Manhattan  Williamsburg           NaN           NaN   \n",
       "freq                 21661          3920           NaN           NaN   \n",
       "mean                   NaN           NaN     40.728949    -73.952170   \n",
       "std                    NaN           NaN      0.054530      0.046157   \n",
       "min                    NaN           NaN     40.499790    -74.244420   \n",
       "25%                    NaN           NaN     40.690100    -73.983070   \n",
       "50%                    NaN           NaN     40.723070    -73.955680   \n",
       "75%                    NaN           NaN     40.763115    -73.936275   \n",
       "max                    NaN           NaN     40.913060    -73.712990   \n",
       "\n",
       "              room_type         price  minimum_nights  number_of_reviews  \\\n",
       "count             48895  48895.000000    48895.000000       48895.000000   \n",
       "unique                3           NaN             NaN                NaN   \n",
       "top     Entire home/apt           NaN             NaN                NaN   \n",
       "freq              25409           NaN             NaN                NaN   \n",
       "mean                NaN    152.720687        7.029962          23.274466   \n",
       "std                 NaN    240.154170       20.510550          44.550582   \n",
       "min                 NaN      0.000000        1.000000           0.000000   \n",
       "25%                 NaN     69.000000        1.000000           1.000000   \n",
       "50%                 NaN    106.000000        3.000000           5.000000   \n",
       "75%                 NaN    175.000000        5.000000          24.000000   \n",
       "max                 NaN  10000.000000     1250.000000         629.000000   \n",
       "\n",
       "        reviews_per_month  calculated_host_listings_count  availability_365  \n",
       "count        38843.000000                    48895.000000      48895.000000  \n",
       "unique                NaN                             NaN               NaN  \n",
       "top                   NaN                             NaN               NaN  \n",
       "freq                  NaN                             NaN               NaN  \n",
       "mean             1.373221                        7.143982        112.781327  \n",
       "std              1.680442                       32.952519        131.622289  \n",
       "min              0.010000                        1.000000          0.000000  \n",
       "25%              0.190000                        1.000000          0.000000  \n",
       "50%              0.720000                        1.000000         45.000000  \n",
       "75%              2.020000                        2.000000        227.000000  \n",
       "max             58.500000                      327.000000        365.000000  "
      ]
     },
     "execution_count": 7,
     "metadata": {},
     "output_type": "execute_result"
    }
   ],
   "source": [
    "data.describe(include = 'all')"
   ]
  },
  {
   "cell_type": "markdown",
   "metadata": {},
   "source": [
    "#### По гео-данным видно, что записи действительно сконцентрированны примерно в одном городе, также видно что некоторые признаки имеют достаточно большие максимальные значения, которые сильно превосходят межквартильный размах"
   ]
  },
  {
   "cell_type": "code",
   "execution_count": 8,
   "metadata": {},
   "outputs": [
    {
     "data": {
      "text/plain": [
       "<matplotlib.axes._subplots.AxesSubplot at 0x122f06b50>"
      ]
     },
     "execution_count": 8,
     "metadata": {},
     "output_type": "execute_result"
    },
    {
     "data": {
      "image/png": "[encoded data removed]",
      "text/plain": [
       "<Figure size 432x288 with 1 Axes>"
      ]
     },
     "metadata": {
      "needs_background": "light"
     },
     "output_type": "display_data"
    }
   ],
   "source": [
    "data['neighbourhood_group'].hist()"
   ]
  },
  {
   "cell_type": "code",
   "execution_count": 9,
   "metadata": {},
   "outputs": [
    {
     "data": {
      "text/plain": [
       "<matplotlib.axes._subplots.AxesSubplot at 0x122c15ca0>"
      ]
     },
     "execution_count": 9,
     "metadata": {},
     "output_type": "execute_result"
    },
    {
     "data": {
      "image/png": "[encoded data removed]",
      "text/plain": [
       "<Figure size 432x288 with 1 Axes>"
      ]
     },
     "metadata": {
      "needs_background": "light"
     },
     "output_type": "display_data"
    }
   ],
   "source": [
    "data['room_type'].hist()"
   ]
  },
  {
   "cell_type": "code",
   "execution_count": 10,
   "metadata": {},
   "outputs": [
    {
     "data": {
      "text/plain": [
       "<matplotlib.axes._subplots.AxesSubplot at 0x122d5bb50>"
      ]
     },
     "execution_count": 10,
     "metadata": {},
     "output_type": "execute_result"
    },
    {
     "data": {
      "image/png": "[encoded data removed]",
      "text/plain": [
       "<Figure size 432x288 with 1 Axes>"
      ]
     },
     "metadata": {
      "needs_background": "light"
     },
     "output_type": "display_data"
    }
   ],
   "source": [
    "data['minimum_nights'].hist()"
   ]
  },
  {
   "cell_type": "code",
   "execution_count": 11,
   "metadata": {},
   "outputs": [
    {
     "data": {
      "text/plain": [
       "neighbourhood_group               11\n",
       "neighbourhood                     11\n",
       "latitude                          11\n",
       "longitude                         11\n",
       "room_type                         11\n",
       "price                             11\n",
       "minimum_nights                    11\n",
       "number_of_reviews                 11\n",
       "reviews_per_month                  5\n",
       "calculated_host_listings_count    11\n",
       "availability_365                  11\n",
       "dtype: int64"
      ]
     },
     "execution_count": 11,
     "metadata": {},
     "output_type": "execute_result"
    }
   ],
   "source": [
    "data[data['minimum_nights'] > 400].count()"
   ]
  },
  {
   "cell_type": "code",
   "execution_count": null,
   "metadata": {},
   "outputs": [],
   "source": []
  },
  {
   "cell_type": "code",
   "execution_count": 12,
   "metadata": {},
   "outputs": [
    {
     "data": {
      "text/plain": [
       "<matplotlib.axes._subplots.AxesSubplot at 0x122fc66d0>"
      ]
     },
     "execution_count": 12,
     "metadata": {},
     "output_type": "execute_result"
    },
    {
     "data": {
      "image/png": "[encoded data removed]",
      "text/plain": [
       "<Figure size 432x288 with 1 Axes>"
      ]
     },
     "metadata": {
      "needs_background": "light"
     },
     "output_type": "display_data"
    }
   ],
   "source": [
    "data['number_of_reviews'].hist()"
   ]
  },
  {
   "cell_type": "code",
   "execution_count": 13,
   "metadata": {},
   "outputs": [
    {
     "data": {
      "text/plain": [
       "<matplotlib.axes._subplots.AxesSubplot at 0x123cc16a0>"
      ]
     },
     "execution_count": 13,
     "metadata": {},
     "output_type": "execute_result"
    },
    {
     "data": {
      "image/png": "[encoded data removed]",
      "text/plain": [
       "<Figure size 432x288 with 1 Axes>"
      ]
     },
     "metadata": {
      "needs_background": "light"
     },
     "output_type": "display_data"
    }
   ],
   "source": [
    "data['reviews_per_month'].hist()"
   ]
  },
  {
   "cell_type": "code",
   "execution_count": 14,
   "metadata": {},
   "outputs": [
    {
     "data": {
      "text/plain": [
       "id\n",
       "30423106    11\n",
       "32678719    11\n",
       "32678720    11\n",
       "dtype: int64"
      ]
     },
     "execution_count": 14,
     "metadata": {},
     "output_type": "execute_result"
    }
   ],
   "source": [
    "data[data['reviews_per_month'] > 20].count(axis=1)"
   ]
  },
  {
   "cell_type": "code",
   "execution_count": 15,
   "metadata": {},
   "outputs": [
    {
     "data": {
      "text/plain": [
       "<matplotlib.axes._subplots.AxesSubplot at 0x123e60c40>"
      ]
     },
     "execution_count": 15,
     "metadata": {},
     "output_type": "execute_result"
    },
    {
     "data": {
      "image/png": "[encoded data removed]",
      "text/plain": [
       "<Figure size 432x288 with 1 Axes>"
      ]
     },
     "metadata": {
      "needs_background": "light"
     },
     "output_type": "display_data"
    }
   ],
   "source": [
    "data['calculated_host_listings_count'].hist()"
   ]
  },
  {
   "cell_type": "markdown",
   "metadata": {},
   "source": [
    "#### Видим значительную концентрацию записей в районе значений 250 и 300"
   ]
  },
  {
   "cell_type": "code",
   "execution_count": 16,
   "metadata": {},
   "outputs": [
    {
     "data": {
      "text/plain": [
       "<matplotlib.axes._subplots.AxesSubplot at 0x123ef01c0>"
      ]
     },
     "execution_count": 16,
     "metadata": {},
     "output_type": "execute_result"
    },
    {
     "data": {
      "image/png": "[encoded data removed]",
      "text/plain": [
       "<Figure size 432x288 with 1 Axes>"
      ]
     },
     "metadata": {
      "needs_background": "light"
     },
     "output_type": "display_data"
    }
   ],
   "source": [
    "data['availability_365'].hist()"
   ]
  },
  {
   "cell_type": "code",
   "execution_count": 17,
   "metadata": {},
   "outputs": [
    {
     "data": {
      "text/plain": [
       "<matplotlib.axes._subplots.AxesSubplot at 0x122fb9730>"
      ]
     },
     "execution_count": 17,
     "metadata": {},
     "output_type": "execute_result"
    },
    {
     "data": {
      "image/png": "[encoded data removed]",
      "text/plain": [
       "<Figure size 432x288 with 1 Axes>"
      ]
     },
     "metadata": {
      "needs_background": "light"
     },
     "output_type": "display_data"
    }
   ],
   "source": [
    "data['latitude'].hist(bins=200)"
   ]
  },
  {
   "cell_type": "code",
   "execution_count": 18,
   "metadata": {},
   "outputs": [
    {
     "data": {
      "text/plain": [
       "<matplotlib.axes._subplots.AxesSubplot at 0x1240dba00>"
      ]
     },
     "execution_count": 18,
     "metadata": {},
     "output_type": "execute_result"
    },
    {
     "data": {
      "image/png": "[encoded data removed]",
      "text/plain": [
       "<Figure size 432x288 with 1 Axes>"
      ]
     },
     "metadata": {
      "needs_background": "light"
     },
     "output_type": "display_data"
    }
   ],
   "source": [
    "data['longitude'].hist(bins=200)"
   ]
  },
  {
   "cell_type": "markdown",
   "metadata": {},
   "source": [
    "#### Распределения данных о координатах выглядят как нормальные с 3 и 2 смесями соответственно."
   ]
  },
  {
   "cell_type": "code",
   "execution_count": 19,
   "metadata": {},
   "outputs": [
    {
     "data": {
      "text/plain": [
       "<matplotlib.axes._subplots.AxesSubplot at 0x124660460>"
      ]
     },
     "execution_count": 19,
     "metadata": {},
     "output_type": "execute_result"
    },
    {
     "data": {
      "image/png": "[encoded data removed]",
      "text/plain": [
       "<Figure size 432x288 with 1 Axes>"
      ]
     },
     "metadata": {
      "needs_background": "light"
     },
     "output_type": "display_data"
    }
   ],
   "source": [
    "data['price'].hist()"
   ]
  },
  {
   "cell_type": "code",
   "execution_count": 20,
   "metadata": {},
   "outputs": [
    {
     "data": {
      "text/plain": [
       "neighbourhood_group               239\n",
       "neighbourhood                     239\n",
       "latitude                          239\n",
       "longitude                         239\n",
       "room_type                         239\n",
       "price                             239\n",
       "minimum_nights                    239\n",
       "number_of_reviews                 239\n",
       "reviews_per_month                 107\n",
       "calculated_host_listings_count    239\n",
       "availability_365                  239\n",
       "dtype: int64"
      ]
     },
     "execution_count": 20,
     "metadata": {},
     "output_type": "execute_result"
    }
   ],
   "source": [
    "data[data['price'] > 1000].count()"
   ]
  },
  {
   "cell_type": "markdown",
   "metadata": {},
   "source": [
    "#### Варианты с нулевой ценой стоимости аренды - скорее всего ошибка заполнения, уберем эти данные, также уберем единичные выбросы "
   ]
  },
  {
   "cell_type": "code",
   "execution_count": 21,
   "metadata": {},
   "outputs": [],
   "source": [
    "mask = data['price'] != 0"
   ]
  },
  {
   "cell_type": "code",
   "execution_count": 22,
   "metadata": {},
   "outputs": [],
   "source": [
    "data = data[mask]"
   ]
  },
  {
   "cell_type": "code",
   "execution_count": 23,
   "metadata": {},
   "outputs": [],
   "source": [
    "neighbourhoods_names = data.neighbourhood_group.unique()"
   ]
  },
  {
   "cell_type": "code",
   "execution_count": 24,
   "metadata": {},
   "outputs": [
    {
     "data": {
      "image/png": "[encoded data removed]",
      "text/plain": [
       "<Figure size 432x288 with 1 Axes>"
      ]
     },
     "metadata": {
      "needs_background": "light"
     },
     "output_type": "display_data"
    }
   ],
   "source": [
    "for neighbourhood in neighbourhoods_names:\n",
    "    sns.kdeplot(data[data['neighbourhood_group'] == neighbourhood]['price'], label = neighbourhood);"
   ]
  },
  {
   "cell_type": "code",
   "execution_count": 25,
   "metadata": {},
   "outputs": [],
   "source": [
    "room_types = data.room_type.unique()"
   ]
  },
  {
   "cell_type": "code",
   "execution_count": 26,
   "metadata": {},
   "outputs": [
    {
     "data": {
      "image/png": "[encoded data removed]",
      "text/plain": [
       "<Figure size 432x288 with 1 Axes>"
      ]
     },
     "metadata": {
      "needs_background": "light"
     },
     "output_type": "display_data"
    }
   ],
   "source": [
    "for room_type in room_types:\n",
    "    sns.kdeplot(data[data['room_type'] == room_type]['price'], label = room_type);"
   ]
  },
  {
   "cell_type": "code",
   "execution_count": 27,
   "metadata": {},
   "outputs": [
    {
     "data": {
      "text/plain": [
       "<Figure size 432x288 with 0 Axes>"
      ]
     },
     "metadata": {},
     "output_type": "display_data"
    }
   ],
   "source": [
    "# Function to calculate correlation coefficient between two columns\n",
    "def corr_func(x, y, **kwargs):\n",
    "    r = np.corrcoef(x, y)[0][1]\n",
    "    ax = plt.gca()\n",
    "    ax.annotate(\"r = {:.2f}\".format(r),\n",
    "                xy=(.2, .8), xycoords=ax.transAxes,\n",
    "                size = 20)\n",
    "\n",
    "# Create the pairgrid object\n",
    "#grid = sns.PairGrid(data=data, height=3)\n",
    "\n",
    "# Upper is a scatter plot\n",
    "#grid.map_upper(plt.scatter, color='red', alpha=0.6)\n",
    "\n",
    "# Diagonal is a histogram\n",
    "#grid.map_diag(plt.hist, color='red', edgecolor='black')\n",
    "\n",
    "# Bottom is correlation and density plot\n",
    "#grid.map_lower(corr_func);\n",
    "#grid.map_lower(sns.kdeplot, cmap=plt.cm.Reds)\n",
    "\n",
    "# Title for entire plot\n",
    "plt.suptitle('Pairs Plot of AirBnB Data', size = 36, y = 1.02);"
   ]
  },
  {
   "cell_type": "code",
   "execution_count": 28,
   "metadata": {},
   "outputs": [
    {
     "data": {
      "text/html": [
       "<div>\n",
       "<style scoped>\n",
       "    .dataframe tbody tr th:only-of-type {\n",
       "        vertical-align: middle;\n",
       "    }\n",
       "\n",
       "    .dataframe tbody tr th {\n",
       "        vertical-align: top;\n",
       "    }\n",
       "\n",
       "    .dataframe thead th {\n",
       "        text-align: right;\n",
       "    }\n",
       "</style>\n",
       "<table border=\"1\" class=\"dataframe\">\n",
       "  <thead>\n",
       "    <tr style=\"text-align: right;\">\n",
       "      <th></th>\n",
       "      <th>latitude</th>\n",
       "      <th>longitude</th>\n",
       "      <th>price</th>\n",
       "      <th>minimum_nights</th>\n",
       "      <th>number_of_reviews</th>\n",
       "      <th>reviews_per_month</th>\n",
       "      <th>calculated_host_listings_count</th>\n",
       "      <th>availability_365</th>\n",
       "    </tr>\n",
       "  </thead>\n",
       "  <tbody>\n",
       "    <tr>\n",
       "      <th>latitude</th>\n",
       "      <td>1.000000</td>\n",
       "      <td>0.084830</td>\n",
       "      <td>0.033899</td>\n",
       "      <td>0.024893</td>\n",
       "      <td>-0.015357</td>\n",
       "      <td>-0.010117</td>\n",
       "      <td>0.019518</td>\n",
       "      <td>-0.010942</td>\n",
       "    </tr>\n",
       "    <tr>\n",
       "      <th>longitude</th>\n",
       "      <td>0.084830</td>\n",
       "      <td>1.000000</td>\n",
       "      <td>-0.149954</td>\n",
       "      <td>-0.062772</td>\n",
       "      <td>0.059015</td>\n",
       "      <td>0.145888</td>\n",
       "      <td>-0.114715</td>\n",
       "      <td>0.082669</td>\n",
       "    </tr>\n",
       "    <tr>\n",
       "      <th>price</th>\n",
       "      <td>0.033899</td>\n",
       "      <td>-0.149954</td>\n",
       "      <td>1.000000</td>\n",
       "      <td>0.042805</td>\n",
       "      <td>-0.047926</td>\n",
       "      <td>-0.030575</td>\n",
       "      <td>0.057462</td>\n",
       "      <td>0.081847</td>\n",
       "    </tr>\n",
       "    <tr>\n",
       "      <th>minimum_nights</th>\n",
       "      <td>0.024893</td>\n",
       "      <td>-0.062772</td>\n",
       "      <td>0.042805</td>\n",
       "      <td>1.000000</td>\n",
       "      <td>-0.080080</td>\n",
       "      <td>-0.121644</td>\n",
       "      <td>0.127962</td>\n",
       "      <td>0.144275</td>\n",
       "    </tr>\n",
       "    <tr>\n",
       "      <th>number_of_reviews</th>\n",
       "      <td>-0.015357</td>\n",
       "      <td>0.059015</td>\n",
       "      <td>-0.047926</td>\n",
       "      <td>-0.080080</td>\n",
       "      <td>1.000000</td>\n",
       "      <td>0.549763</td>\n",
       "      <td>-0.072385</td>\n",
       "      <td>0.171975</td>\n",
       "    </tr>\n",
       "    <tr>\n",
       "      <th>reviews_per_month</th>\n",
       "      <td>-0.010117</td>\n",
       "      <td>0.145888</td>\n",
       "      <td>-0.030575</td>\n",
       "      <td>-0.121644</td>\n",
       "      <td>0.549763</td>\n",
       "      <td>1.000000</td>\n",
       "      <td>-0.009431</td>\n",
       "      <td>0.185730</td>\n",
       "    </tr>\n",
       "    <tr>\n",
       "      <th>calculated_host_listings_count</th>\n",
       "      <td>0.019518</td>\n",
       "      <td>-0.114715</td>\n",
       "      <td>0.057462</td>\n",
       "      <td>0.127962</td>\n",
       "      <td>-0.072385</td>\n",
       "      <td>-0.009431</td>\n",
       "      <td>1.000000</td>\n",
       "      <td>0.225712</td>\n",
       "    </tr>\n",
       "    <tr>\n",
       "      <th>availability_365</th>\n",
       "      <td>-0.010942</td>\n",
       "      <td>0.082669</td>\n",
       "      <td>0.081847</td>\n",
       "      <td>0.144275</td>\n",
       "      <td>0.171975</td>\n",
       "      <td>0.185730</td>\n",
       "      <td>0.225712</td>\n",
       "      <td>1.000000</td>\n",
       "    </tr>\n",
       "  </tbody>\n",
       "</table>\n",
       "</div>"
      ],
      "text/plain": [
       "                                latitude  longitude     price  minimum_nights  \\\n",
       "latitude                        1.000000   0.084830  0.033899        0.024893   \n",
       "longitude                       0.084830   1.000000 -0.149954       -0.062772   \n",
       "price                           0.033899  -0.149954  1.000000        0.042805   \n",
       "minimum_nights                  0.024893  -0.062772  0.042805        1.000000   \n",
       "number_of_reviews              -0.015357   0.059015 -0.047926       -0.080080   \n",
       "reviews_per_month              -0.010117   0.145888 -0.030575       -0.121644   \n",
       "calculated_host_listings_count  0.019518  -0.114715  0.057462        0.127962   \n",
       "availability_365               -0.010942   0.082669  0.081847        0.144275   \n",
       "\n",
       "                                number_of_reviews  reviews_per_month  \\\n",
       "latitude                                -0.015357          -0.010117   \n",
       "longitude                                0.059015           0.145888   \n",
       "price                                   -0.047926          -0.030575   \n",
       "minimum_nights                          -0.080080          -0.121644   \n",
       "number_of_reviews                        1.000000           0.549763   \n",
       "reviews_per_month                        0.549763           1.000000   \n",
       "calculated_host_listings_count          -0.072385          -0.009431   \n",
       "availability_365                         0.171975           0.185730   \n",
       "\n",
       "                                calculated_host_listings_count  \\\n",
       "latitude                                              0.019518   \n",
       "longitude                                            -0.114715   \n",
       "price                                                 0.057462   \n",
       "minimum_nights                                        0.127962   \n",
       "number_of_reviews                                    -0.072385   \n",
       "reviews_per_month                                    -0.009431   \n",
       "calculated_host_listings_count                        1.000000   \n",
       "availability_365                                      0.225712   \n",
       "\n",
       "                                availability_365  \n",
       "latitude                               -0.010942  \n",
       "longitude                               0.082669  \n",
       "price                                   0.081847  \n",
       "minimum_nights                          0.144275  \n",
       "number_of_reviews                       0.171975  \n",
       "reviews_per_month                       0.185730  \n",
       "calculated_host_listings_count          0.225712  \n",
       "availability_365                        1.000000  "
      ]
     },
     "execution_count": 28,
     "metadata": {},
     "output_type": "execute_result"
    }
   ],
   "source": [
    "data.corr()"
   ]
  },
  {
   "cell_type": "code",
   "execution_count": 29,
   "metadata": {},
   "outputs": [
    {
     "data": {
      "image/png": "[encoded data removed]",
      "text/plain": [
       "<Figure size 1440x1440 with 2 Axes>"
      ]
     },
     "metadata": {
      "needs_background": "light"
     },
     "output_type": "display_data"
    }
   ],
   "source": [
    "plt.figure(figsize=(20, 20))\n",
    "sns.heatmap(data.corr(), cmap='Blues_r')\n",
    "plt.show()"
   ]
  },
  {
   "cell_type": "markdown",
   "metadata": {},
   "source": [
    "## Preprocessing & Feature Engineering"
   ]
  },
  {
   "cell_type": "markdown",
   "metadata": {},
   "source": [
    "### Попробуем прологарифмировать столбец цен"
   ]
  },
  {
   "cell_type": "code",
   "execution_count": 30,
   "metadata": {},
   "outputs": [
    {
     "data": {
      "text/plain": [
       "<matplotlib.axes._subplots.AxesSubplot at 0x1248491f0>"
      ]
     },
     "execution_count": 30,
     "metadata": {},
     "output_type": "execute_result"
    },
    {
     "data": {
      "image/png": "[encoded data removed]",
      "text/plain": [
       "<Figure size 576x360 with 1 Axes>"
      ]
     },
     "metadata": {
      "needs_background": "light"
     },
     "output_type": "display_data"
    }
   ],
   "source": [
    "data['price'].apply(np.log).hist(figsize=(8,5))"
   ]
  },
  {
   "cell_type": "markdown",
   "metadata": {},
   "source": [
    "### Похоже, что данные распределены логнормально"
   ]
  },
  {
   "cell_type": "code",
   "execution_count": 31,
   "metadata": {},
   "outputs": [],
   "source": [
    "data['log_price'] = data['price'].apply(np.log)"
   ]
  },
  {
   "cell_type": "markdown",
   "metadata": {},
   "source": [
    "### Добавим признак - расстояние до центра Манхеттана"
   ]
  },
  {
   "cell_type": "code",
   "execution_count": 32,
   "metadata": {},
   "outputs": [],
   "source": [
    "NY_LAT = 40.78343 \n",
    "NY_LONG = -73.96625"
   ]
  },
  {
   "cell_type": "code",
   "execution_count": 33,
   "metadata": {},
   "outputs": [],
   "source": [
    "# Расчет расстояния между двумя точками на сфере (в километрах)\n",
    "def get_distance(point_1: tuple, point_2: tuple) -> float:\n",
    "    lat_1 = np.radians(point_1[0])\n",
    "    long_1 = np.radians(point_1[1])\n",
    "    \n",
    "    lat_2 = np.radians(point_2[0])\n",
    "    long_2 = np.radians(point_2[1])\n",
    "    \n",
    "    dlon = long_2 - long_1\n",
    "    dlat = lat_2 - lat_1\n",
    "    a = np.sin(dlat / 2)**2 + np.cos(lat_1) * np.cos(lat_2) * np.sin(dlon / 2)**2\n",
    "    c = 2 * np.arcsin(np.sqrt(a))\n",
    "    r = 6371\n",
    "    return c*r"
   ]
  },
  {
   "cell_type": "code",
   "execution_count": 34,
   "metadata": {},
   "outputs": [],
   "source": [
    "data['distance'] = data.apply(lambda x: get_distance((NY_LAT, NY_LONG), (x['latitude'], x['longitude'])), axis=1)"
   ]
  },
  {
   "cell_type": "code",
   "execution_count": 35,
   "metadata": {},
   "outputs": [
    {
     "data": {
      "text/plain": [
       "<matplotlib.axes._subplots.AxesSubplot at 0x123eea670>"
      ]
     },
     "execution_count": 35,
     "metadata": {},
     "output_type": "execute_result"
    },
    {
     "data": {
      "image/png": "[encoded data removed]",
      "text/plain": [
       "<Figure size 432x288 with 1 Axes>"
      ]
     },
     "metadata": {
      "needs_background": "light"
     },
     "output_type": "display_data"
    }
   ],
   "source": [
    "data['distance'].hist()"
   ]
  },
  {
   "cell_type": "code",
   "execution_count": 36,
   "metadata": {},
   "outputs": [
    {
     "data": {
      "text/html": [
       "<div>\n",
       "<style scoped>\n",
       "    .dataframe tbody tr th:only-of-type {\n",
       "        vertical-align: middle;\n",
       "    }\n",
       "\n",
       "    .dataframe tbody tr th {\n",
       "        vertical-align: top;\n",
       "    }\n",
       "\n",
       "    .dataframe thead th {\n",
       "        text-align: right;\n",
       "    }\n",
       "</style>\n",
       "<table border=\"1\" class=\"dataframe\">\n",
       "  <thead>\n",
       "    <tr style=\"text-align: right;\">\n",
       "      <th></th>\n",
       "      <th>price</th>\n",
       "      <th>log_price</th>\n",
       "    </tr>\n",
       "    <tr>\n",
       "      <th>id</th>\n",
       "      <th></th>\n",
       "      <th></th>\n",
       "    </tr>\n",
       "  </thead>\n",
       "  <tbody>\n",
       "    <tr>\n",
       "      <th>36487245</th>\n",
       "      <td>90</td>\n",
       "      <td>4.49981</td>\n",
       "    </tr>\n",
       "  </tbody>\n",
       "</table>\n",
       "</div>"
      ],
      "text/plain": [
       "          price  log_price\n",
       "id                        \n",
       "36487245     90    4.49981"
      ]
     },
     "execution_count": 36,
     "metadata": {},
     "output_type": "execute_result"
    }
   ],
   "source": [
    "data[['price', 'log_price']].tail(1)"
   ]
  },
  {
   "cell_type": "markdown",
   "metadata": {},
   "source": [
    "#### Посмотрим как распределены цены в зависимости от расстояния, также отметим цветом и метками различные значения районов и типов комнат"
   ]
  },
  {
   "cell_type": "code",
   "execution_count": 37,
   "metadata": {},
   "outputs": [],
   "source": [
    "plt.rcParams[\"figure.figsize\"] = [15, 10]"
   ]
  },
  {
   "cell_type": "code",
   "execution_count": 38,
   "metadata": {
    "scrolled": true
   },
   "outputs": [
    {
     "data": {
      "text/plain": [
       "<matplotlib.axes._subplots.AxesSubplot at 0x124ee1d00>"
      ]
     },
     "execution_count": 38,
     "metadata": {},
     "output_type": "execute_result"
    },
    {
     "data": {
      "image/png": "[encoded data removed]",
      "text/plain": [
       "<Figure size 1080x720 with 1 Axes>"
      ]
     },
     "metadata": {
      "needs_background": "light"
     },
     "output_type": "display_data"
    }
   ],
   "source": [
    "sns.scatterplot(data=data, x='distance', y='price', hue='neighbourhood_group', style='room_type')"
   ]
  },
  {
   "cell_type": "markdown",
   "metadata": {},
   "source": [
    "### Посмотрим на столбцы - 'number_of_reviews', 'reviews_per_month'. Кажется, они должны быть как-то связаны"
   ]
  },
  {
   "cell_type": "code",
   "execution_count": 39,
   "metadata": {},
   "outputs": [
    {
     "data": {
      "text/html": [
       "<div>\n",
       "<style scoped>\n",
       "    .dataframe tbody tr th:only-of-type {\n",
       "        vertical-align: middle;\n",
       "    }\n",
       "\n",
       "    .dataframe tbody tr th {\n",
       "        vertical-align: top;\n",
       "    }\n",
       "\n",
       "    .dataframe thead th {\n",
       "        text-align: right;\n",
       "    }\n",
       "</style>\n",
       "<table border=\"1\" class=\"dataframe\">\n",
       "  <thead>\n",
       "    <tr style=\"text-align: right;\">\n",
       "      <th></th>\n",
       "      <th>number_of_reviews</th>\n",
       "      <th>reviews_per_month</th>\n",
       "    </tr>\n",
       "    <tr>\n",
       "      <th>id</th>\n",
       "      <th></th>\n",
       "      <th></th>\n",
       "    </tr>\n",
       "  </thead>\n",
       "  <tbody>\n",
       "    <tr>\n",
       "      <th>2539</th>\n",
       "      <td>9</td>\n",
       "      <td>0.21</td>\n",
       "    </tr>\n",
       "    <tr>\n",
       "      <th>2595</th>\n",
       "      <td>45</td>\n",
       "      <td>0.38</td>\n",
       "    </tr>\n",
       "    <tr>\n",
       "      <th>3647</th>\n",
       "      <td>0</td>\n",
       "      <td>NaN</td>\n",
       "    </tr>\n",
       "    <tr>\n",
       "      <th>3831</th>\n",
       "      <td>270</td>\n",
       "      <td>4.64</td>\n",
       "    </tr>\n",
       "    <tr>\n",
       "      <th>5022</th>\n",
       "      <td>9</td>\n",
       "      <td>0.10</td>\n",
       "    </tr>\n",
       "    <tr>\n",
       "      <th>...</th>\n",
       "      <td>...</td>\n",
       "      <td>...</td>\n",
       "    </tr>\n",
       "    <tr>\n",
       "      <th>36484665</th>\n",
       "      <td>0</td>\n",
       "      <td>NaN</td>\n",
       "    </tr>\n",
       "    <tr>\n",
       "      <th>36485057</th>\n",
       "      <td>0</td>\n",
       "      <td>NaN</td>\n",
       "    </tr>\n",
       "    <tr>\n",
       "      <th>36485431</th>\n",
       "      <td>0</td>\n",
       "      <td>NaN</td>\n",
       "    </tr>\n",
       "    <tr>\n",
       "      <th>36485609</th>\n",
       "      <td>0</td>\n",
       "      <td>NaN</td>\n",
       "    </tr>\n",
       "    <tr>\n",
       "      <th>36487245</th>\n",
       "      <td>0</td>\n",
       "      <td>NaN</td>\n",
       "    </tr>\n",
       "  </tbody>\n",
       "</table>\n",
       "<p>48884 rows × 2 columns</p>\n",
       "</div>"
      ],
      "text/plain": [
       "          number_of_reviews  reviews_per_month\n",
       "id                                            \n",
       "2539                      9               0.21\n",
       "2595                     45               0.38\n",
       "3647                      0                NaN\n",
       "3831                    270               4.64\n",
       "5022                      9               0.10\n",
       "...                     ...                ...\n",
       "36484665                  0                NaN\n",
       "36485057                  0                NaN\n",
       "36485431                  0                NaN\n",
       "36485609                  0                NaN\n",
       "36487245                  0                NaN\n",
       "\n",
       "[48884 rows x 2 columns]"
      ]
     },
     "execution_count": 39,
     "metadata": {},
     "output_type": "execute_result"
    }
   ],
   "source": [
    "data[['number_of_reviews', 'reviews_per_month']]"
   ]
  },
  {
   "cell_type": "markdown",
   "metadata": {},
   "source": [
    "### Проставим значение 0 в reviews_per_month везде где общее число ревью - 0"
   ]
  },
  {
   "cell_type": "code",
   "execution_count": 40,
   "metadata": {},
   "outputs": [],
   "source": [
    "data['clear_reviews_per_month'] = data.apply(lambda x: 0 if x['number_of_reviews'] == 0 and np.isnan(x['reviews_per_month']) else x['reviews_per_month'], axis=1)"
   ]
  },
  {
   "cell_type": "code",
   "execution_count": 41,
   "metadata": {},
   "outputs": [
    {
     "name": "stdout",
     "output_type": "stream",
     "text": [
      "<class 'pandas.core.frame.DataFrame'>\n",
      "Int64Index: 48884 entries, 2539 to 36487245\n",
      "Data columns (total 14 columns):\n",
      " #   Column                          Non-Null Count  Dtype  \n",
      "---  ------                          --------------  -----  \n",
      " 0   neighbourhood_group             48884 non-null  object \n",
      " 1   neighbourhood                   48884 non-null  object \n",
      " 2   latitude                        48884 non-null  float64\n",
      " 3   longitude                       48884 non-null  float64\n",
      " 4   room_type                       48884 non-null  object \n",
      " 5   price                           48884 non-null  int64  \n",
      " 6   minimum_nights                  48884 non-null  int64  \n",
      " 7   number_of_reviews               48884 non-null  int64  \n",
      " 8   reviews_per_month               38833 non-null  float64\n",
      " 9   calculated_host_listings_count  48884 non-null  int64  \n",
      " 10  availability_365                48884 non-null  int64  \n",
      " 11  log_price                       48884 non-null  float64\n",
      " 12  distance                        48884 non-null  float64\n",
      " 13  clear_reviews_per_month         48884 non-null  float64\n",
      "dtypes: float64(6), int64(5), object(3)\n",
      "memory usage: 5.6+ MB\n"
     ]
    }
   ],
   "source": [
    "data.info()"
   ]
  },
  {
   "cell_type": "code",
   "execution_count": 42,
   "metadata": {},
   "outputs": [
    {
     "data": {
      "text/plain": [
       "175.0"
      ]
     },
     "execution_count": 42,
     "metadata": {},
     "output_type": "execute_result"
    }
   ],
   "source": [
    "data.price.quantile(q=0.75)"
   ]
  },
  {
   "cell_type": "markdown",
   "metadata": {},
   "source": [
    "### Теперь значение частоты ревью присутствует во всех записях"
   ]
  },
  {
   "cell_type": "code",
   "execution_count": 43,
   "metadata": {},
   "outputs": [
    {
     "data": {
      "text/plain": [
       "<matplotlib.axes._subplots.AxesSubplot at 0x1240d14f0>"
      ]
     },
     "execution_count": 43,
     "metadata": {},
     "output_type": "execute_result"
    },
    {
     "data": {
      "image/png": "[encoded data removed]",
      "text/plain": [
       "<Figure size 1080x720 with 1 Axes>"
      ]
     },
     "metadata": {
      "needs_background": "light"
     },
     "output_type": "display_data"
    }
   ],
   "source": [
    "sns.scatterplot(data=data, x='number_of_reviews', y='clear_reviews_per_month')"
   ]
  },
  {
   "cell_type": "markdown",
   "metadata": {},
   "source": [
    "### Сформируем первый датафрейм и исключим из него ненужные колонки, колонку \"price\" будем исключать непосредственно перед обучением, чтобы посмотреть на разность логарифмированных данных и обычных"
   ]
  },
  {
   "cell_type": "code",
   "execution_count": 44,
   "metadata": {},
   "outputs": [],
   "source": [
    "clear_data_1 = data.drop(columns=['latitude', 'longitude', 'reviews_per_month'], axis=1)"
   ]
  },
  {
   "cell_type": "code",
   "execution_count": 45,
   "metadata": {},
   "outputs": [
    {
     "data": {
      "text/html": [
       "<div>\n",
       "<style scoped>\n",
       "    .dataframe tbody tr th:only-of-type {\n",
       "        vertical-align: middle;\n",
       "    }\n",
       "\n",
       "    .dataframe tbody tr th {\n",
       "        vertical-align: top;\n",
       "    }\n",
       "\n",
       "    .dataframe thead th {\n",
       "        text-align: right;\n",
       "    }\n",
       "</style>\n",
       "<table border=\"1\" class=\"dataframe\">\n",
       "  <thead>\n",
       "    <tr style=\"text-align: right;\">\n",
       "      <th></th>\n",
       "      <th>price</th>\n",
       "      <th>minimum_nights</th>\n",
       "      <th>number_of_reviews</th>\n",
       "      <th>calculated_host_listings_count</th>\n",
       "      <th>availability_365</th>\n",
       "      <th>log_price</th>\n",
       "      <th>distance</th>\n",
       "      <th>clear_reviews_per_month</th>\n",
       "    </tr>\n",
       "  </thead>\n",
       "  <tbody>\n",
       "    <tr>\n",
       "      <th>price</th>\n",
       "      <td>1.000000</td>\n",
       "      <td>0.042805</td>\n",
       "      <td>-0.047926</td>\n",
       "      <td>0.057462</td>\n",
       "      <td>0.081847</td>\n",
       "      <td>0.638184</td>\n",
       "      <td>-0.119562</td>\n",
       "      <td>-0.050531</td>\n",
       "    </tr>\n",
       "    <tr>\n",
       "      <th>minimum_nights</th>\n",
       "      <td>0.042805</td>\n",
       "      <td>1.000000</td>\n",
       "      <td>-0.080080</td>\n",
       "      <td>0.127962</td>\n",
       "      <td>0.144275</td>\n",
       "      <td>0.033236</td>\n",
       "      <td>-0.060842</td>\n",
       "      <td>-0.124870</td>\n",
       "    </tr>\n",
       "    <tr>\n",
       "      <th>number_of_reviews</th>\n",
       "      <td>-0.047926</td>\n",
       "      <td>-0.080080</td>\n",
       "      <td>1.000000</td>\n",
       "      <td>-0.072385</td>\n",
       "      <td>0.171975</td>\n",
       "      <td>-0.042319</td>\n",
       "      <td>0.044804</td>\n",
       "      <td>0.589311</td>\n",
       "    </tr>\n",
       "    <tr>\n",
       "      <th>calculated_host_listings_count</th>\n",
       "      <td>0.057462</td>\n",
       "      <td>0.127962</td>\n",
       "      <td>-0.072385</td>\n",
       "      <td>1.000000</td>\n",
       "      <td>0.225712</td>\n",
       "      <td>0.132655</td>\n",
       "      <td>-0.070758</td>\n",
       "      <td>-0.047322</td>\n",
       "    </tr>\n",
       "    <tr>\n",
       "      <th>availability_365</th>\n",
       "      <td>0.081847</td>\n",
       "      <td>0.144275</td>\n",
       "      <td>0.171975</td>\n",
       "      <td>0.225712</td>\n",
       "      <td>1.000000</td>\n",
       "      <td>0.098844</td>\n",
       "      <td>0.072918</td>\n",
       "      <td>0.163664</td>\n",
       "    </tr>\n",
       "    <tr>\n",
       "      <th>log_price</th>\n",
       "      <td>0.638184</td>\n",
       "      <td>0.033236</td>\n",
       "      <td>-0.042319</td>\n",
       "      <td>0.132655</td>\n",
       "      <td>0.098844</td>\n",
       "      <td>1.000000</td>\n",
       "      <td>-0.277667</td>\n",
       "      <td>-0.060307</td>\n",
       "    </tr>\n",
       "    <tr>\n",
       "      <th>distance</th>\n",
       "      <td>-0.119562</td>\n",
       "      <td>-0.060842</td>\n",
       "      <td>0.044804</td>\n",
       "      <td>-0.070758</td>\n",
       "      <td>0.072918</td>\n",
       "      <td>-0.277667</td>\n",
       "      <td>1.000000</td>\n",
       "      <td>0.088798</td>\n",
       "    </tr>\n",
       "    <tr>\n",
       "      <th>clear_reviews_per_month</th>\n",
       "      <td>-0.050531</td>\n",
       "      <td>-0.124870</td>\n",
       "      <td>0.589311</td>\n",
       "      <td>-0.047322</td>\n",
       "      <td>0.163664</td>\n",
       "      <td>-0.060307</td>\n",
       "      <td>0.088798</td>\n",
       "      <td>1.000000</td>\n",
       "    </tr>\n",
       "  </tbody>\n",
       "</table>\n",
       "</div>"
      ],
      "text/plain": [
       "                                   price  minimum_nights  number_of_reviews  \\\n",
       "price                           1.000000        0.042805          -0.047926   \n",
       "minimum_nights                  0.042805        1.000000          -0.080080   \n",
       "number_of_reviews              -0.047926       -0.080080           1.000000   \n",
       "calculated_host_listings_count  0.057462        0.127962          -0.072385   \n",
       "availability_365                0.081847        0.144275           0.171975   \n",
       "log_price                       0.638184        0.033236          -0.042319   \n",
       "distance                       -0.119562       -0.060842           0.044804   \n",
       "clear_reviews_per_month        -0.050531       -0.124870           0.589311   \n",
       "\n",
       "                                calculated_host_listings_count  \\\n",
       "price                                                 0.057462   \n",
       "minimum_nights                                        0.127962   \n",
       "number_of_reviews                                    -0.072385   \n",
       "calculated_host_listings_count                        1.000000   \n",
       "availability_365                                      0.225712   \n",
       "log_price                                             0.132655   \n",
       "distance                                             -0.070758   \n",
       "clear_reviews_per_month                              -0.047322   \n",
       "\n",
       "                                availability_365  log_price  distance  \\\n",
       "price                                   0.081847   0.638184 -0.119562   \n",
       "minimum_nights                          0.144275   0.033236 -0.060842   \n",
       "number_of_reviews                       0.171975  -0.042319  0.044804   \n",
       "calculated_host_listings_count          0.225712   0.132655 -0.070758   \n",
       "availability_365                        1.000000   0.098844  0.072918   \n",
       "log_price                               0.098844   1.000000 -0.277667   \n",
       "distance                                0.072918  -0.277667  1.000000   \n",
       "clear_reviews_per_month                 0.163664  -0.060307  0.088798   \n",
       "\n",
       "                                clear_reviews_per_month  \n",
       "price                                         -0.050531  \n",
       "minimum_nights                                -0.124870  \n",
       "number_of_reviews                              0.589311  \n",
       "calculated_host_listings_count                -0.047322  \n",
       "availability_365                               0.163664  \n",
       "log_price                                     -0.060307  \n",
       "distance                                       0.088798  \n",
       "clear_reviews_per_month                        1.000000  "
      ]
     },
     "execution_count": 45,
     "metadata": {},
     "output_type": "execute_result"
    }
   ],
   "source": [
    "clear_data_1.corr()"
   ]
  },
  {
   "cell_type": "markdown",
   "metadata": {},
   "source": [
    "### Удалим коррелирующий с number_of_reviews признак - clear_reviews_per_month"
   ]
  },
  {
   "cell_type": "code",
   "execution_count": 46,
   "metadata": {},
   "outputs": [],
   "source": [
    "clear_data = clear_data_1.drop(columns=['clear_reviews_per_month'], axis=1)"
   ]
  },
  {
   "cell_type": "code",
   "execution_count": 47,
   "metadata": {},
   "outputs": [
    {
     "data": {
      "text/plain": [
       "Index(['neighbourhood_group', 'neighbourhood', 'room_type', 'price',\n",
       "       'minimum_nights', 'number_of_reviews', 'calculated_host_listings_count',\n",
       "       'availability_365', 'log_price', 'distance'],\n",
       "      dtype='object')"
      ]
     },
     "execution_count": 47,
     "metadata": {},
     "output_type": "execute_result"
    }
   ],
   "source": [
    "clear_data.columns\n"
   ]
  },
  {
   "cell_type": "code",
   "execution_count": 48,
   "metadata": {},
   "outputs": [],
   "source": [
    "def outlier_detect_IQR(data, col, threshold=3):   \n",
    "    \"\"\"Определяем выбросы через интерквартильное расстояние.\"\"\"\n",
    "    IQR = data[col].quantile(0.75) - data[col].quantile(0.25)\n",
    "    Lower_fence = data[col].quantile(0.25) - (IQR * threshold)\n",
    "    Upper_fence = data[col].quantile(0.75) + (IQR * threshold)\n",
    "    params = (Upper_fence, Lower_fence)\n",
    "    tmp = pd.concat([data[col] > Upper_fence, data[col] < Lower_fence], axis=1)\n",
    "    outlier_index = tmp.any(axis=1)\n",
    "#     print('Количество выбросов в данных:', outlier_index.value_counts()[1])\n",
    "#     print('Доля выбросов:', outlier_index.value_counts()[1] / len(outlier_index))\n",
    "    return outlier_index, params"
   ]
  },
  {
   "cell_type": "code",
   "execution_count": 49,
   "metadata": {},
   "outputs": [],
   "source": [
    "def outlier_detect_MAD(data, col, threshold=3.5):\n",
    "    \"\"\"Определяем выбросы через MAD.\"\"\"\n",
    "    median = data[col].median()\n",
    "    median_absolute_deviation = np.median([np.abs(y - median) for y in data[col]])\n",
    "    modified_z_scores = pd.Series([0.6745 * (y - median) / median_absolute_deviation for y in data[col]])\n",
    "    outlier_index = np.abs(modified_z_scores) > threshold\n",
    "    print('Количество выбросов в данных:', outlier_index.value_counts()[1])\n",
    "    print('Доля выбросов:', outlier_index.value_counts()[1]/len(outlier_index))\n",
    "    return outlier_index"
   ]
  },
  {
   "cell_type": "code",
   "execution_count": 50,
   "metadata": {},
   "outputs": [],
   "source": [
    "def drop_outlier(data, outlier_index):\n",
    "    \"\"\"Выкидываем выбросы.\"\"\"\n",
    "    data_copy = data[~outlier_index]\n",
    "    return data_copy"
   ]
  },
  {
   "cell_type": "code",
   "execution_count": 51,
   "metadata": {},
   "outputs": [],
   "source": [
    "def windsorization(data, col, strategy='both', min_val=None, max_val=None):\n",
    "    \"\"\"Заменяем все значения большие params[1] значением params[1], а значения меньше params[0] значением params[0].\n",
    "    При ``strategy = both`` - заменяем снизу и сверху,\n",
    "        ``strategy = top`` - заменяем только сверху,\n",
    "        ``strategy = bottom`` - заменяем только снизу.\"\"\"\n",
    "    data_copy = data.copy(deep=True)\n",
    "    if strategy == 'both':\n",
    "        data_copy.loc[data_copy[col] > max_val, col] = max_val\n",
    "        data_copy.loc[data_copy[col] < min_val, col] = min_val\n",
    "    elif strategy == 'top':\n",
    "        data_copy.loc[data_copy[col] > max_val, col] = max_val\n",
    "    elif strategy == 'bottom':\n",
    "        data_copy.loc[data_copy[col] < min_val, col] = min_val\n",
    "    else:\n",
    "        raise ValueError(f'strategy - `{strategy}` is not supported')\n",
    "    return data_copy"
   ]
  },
  {
   "cell_type": "code",
   "execution_count": 52,
   "metadata": {},
   "outputs": [
    {
     "name": "stdout",
     "output_type": "stream",
     "text": [
      "Количество выбросов в данных: 538\n",
      "Доля выбросов: 0.011005646019147369\n"
     ]
    }
   ],
   "source": [
    "index_mad = outlier_detect_MAD(data=clear_data, col='minimum_nights', threshold=10)"
   ]
  },
  {
   "cell_type": "code",
   "execution_count": 53,
   "metadata": {},
   "outputs": [],
   "source": [
    "index_iqr, iqr_params = outlier_detect_IQR(data=clear_data, col='minimum_nights', threshold=3.5)"
   ]
  },
  {
   "cell_type": "code",
   "execution_count": 54,
   "metadata": {},
   "outputs": [
    {
     "data": {
      "text/plain": [
       "(19.0, -13.0)"
      ]
     },
     "execution_count": 54,
     "metadata": {},
     "output_type": "execute_result"
    }
   ],
   "source": [
    "iqr_params"
   ]
  },
  {
   "cell_type": "markdown",
   "metadata": {},
   "source": [
    "### Установим  ограничения для значений некоторых колонок"
   ]
  },
  {
   "cell_type": "code",
   "execution_count": 55,
   "metadata": {},
   "outputs": [],
   "source": [
    "cols_to_change = {\n",
    "    'price': {\n",
    "        'strategy': 'top',\n",
    "    }, \n",
    "    'minimum_nights': {\n",
    "        'strategy': 'top',\n",
    "    }, \n",
    "    'number_of_reviews': {\n",
    "        'strategy': 'top',\n",
    "    }, \n",
    "    'calculated_host_listings_count': {\n",
    "        'strategy': 'top',\n",
    "    }, \n",
    "    'availability_365': {\n",
    "        'strategy': 'bottom',\n",
    "    },\n",
    "}"
   ]
  },
  {
   "cell_type": "markdown",
   "metadata": {},
   "source": [
    "clear_data_dropped  - аномальные данные исключены  \n",
    "clear_data_windowrizated - аномальные данные заменены\n"
   ]
  },
  {
   "cell_type": "code",
   "execution_count": 56,
   "metadata": {},
   "outputs": [],
   "source": [
    "clear_data_dropped = clear_data.copy(deep=True)\n",
    "clear_data_windowrizated = clear_data.copy(deep=True)"
   ]
  },
  {
   "cell_type": "code",
   "execution_count": 57,
   "metadata": {},
   "outputs": [
    {
     "data": {
      "text/html": [
       "<div>\n",
       "<style scoped>\n",
       "    .dataframe tbody tr th:only-of-type {\n",
       "        vertical-align: middle;\n",
       "    }\n",
       "\n",
       "    .dataframe tbody tr th {\n",
       "        vertical-align: top;\n",
       "    }\n",
       "\n",
       "    .dataframe thead th {\n",
       "        text-align: right;\n",
       "    }\n",
       "</style>\n",
       "<table border=\"1\" class=\"dataframe\">\n",
       "  <thead>\n",
       "    <tr style=\"text-align: right;\">\n",
       "      <th></th>\n",
       "      <th>price</th>\n",
       "      <th>minimum_nights</th>\n",
       "      <th>number_of_reviews</th>\n",
       "      <th>calculated_host_listings_count</th>\n",
       "      <th>availability_365</th>\n",
       "      <th>log_price</th>\n",
       "      <th>distance</th>\n",
       "    </tr>\n",
       "  </thead>\n",
       "  <tbody>\n",
       "    <tr>\n",
       "      <th>count</th>\n",
       "      <td>48884.000000</td>\n",
       "      <td>48884.000000</td>\n",
       "      <td>48884.000000</td>\n",
       "      <td>48884.000000</td>\n",
       "      <td>48884.000000</td>\n",
       "      <td>48884.000000</td>\n",
       "      <td>48884.000000</td>\n",
       "    </tr>\n",
       "    <tr>\n",
       "      <th>mean</th>\n",
       "      <td>152.755053</td>\n",
       "      <td>7.029887</td>\n",
       "      <td>23.271991</td>\n",
       "      <td>7.144628</td>\n",
       "      <td>112.779498</td>\n",
       "      <td>4.727031</td>\n",
       "      <td>8.214721</td>\n",
       "    </tr>\n",
       "    <tr>\n",
       "      <th>std</th>\n",
       "      <td>240.170260</td>\n",
       "      <td>20.512224</td>\n",
       "      <td>44.551331</td>\n",
       "      <td>32.956185</td>\n",
       "      <td>131.627271</td>\n",
       "      <td>0.698225</td>\n",
       "      <td>4.744056</td>\n",
       "    </tr>\n",
       "    <tr>\n",
       "      <th>min</th>\n",
       "      <td>10.000000</td>\n",
       "      <td>1.000000</td>\n",
       "      <td>0.000000</td>\n",
       "      <td>1.000000</td>\n",
       "      <td>0.000000</td>\n",
       "      <td>2.302585</td>\n",
       "      <td>0.369737</td>\n",
       "    </tr>\n",
       "    <tr>\n",
       "      <th>25%</th>\n",
       "      <td>69.000000</td>\n",
       "      <td>1.000000</td>\n",
       "      <td>1.000000</td>\n",
       "      <td>1.000000</td>\n",
       "      <td>0.000000</td>\n",
       "      <td>4.234107</td>\n",
       "      <td>4.466783</td>\n",
       "    </tr>\n",
       "    <tr>\n",
       "      <th>50%</th>\n",
       "      <td>106.000000</td>\n",
       "      <td>3.000000</td>\n",
       "      <td>5.000000</td>\n",
       "      <td>1.000000</td>\n",
       "      <td>45.000000</td>\n",
       "      <td>4.663439</td>\n",
       "      <td>7.671584</td>\n",
       "    </tr>\n",
       "    <tr>\n",
       "      <th>75%</th>\n",
       "      <td>175.000000</td>\n",
       "      <td>5.000000</td>\n",
       "      <td>24.000000</td>\n",
       "      <td>2.000000</td>\n",
       "      <td>227.000000</td>\n",
       "      <td>5.164786</td>\n",
       "      <td>11.151092</td>\n",
       "    </tr>\n",
       "    <tr>\n",
       "      <th>max</th>\n",
       "      <td>10000.000000</td>\n",
       "      <td>1250.000000</td>\n",
       "      <td>629.000000</td>\n",
       "      <td>327.000000</td>\n",
       "      <td>365.000000</td>\n",
       "      <td>9.210340</td>\n",
       "      <td>39.134388</td>\n",
       "    </tr>\n",
       "  </tbody>\n",
       "</table>\n",
       "</div>"
      ],
      "text/plain": [
       "              price  minimum_nights  number_of_reviews  \\\n",
       "count  48884.000000    48884.000000       48884.000000   \n",
       "mean     152.755053        7.029887          23.271991   \n",
       "std      240.170260       20.512224          44.551331   \n",
       "min       10.000000        1.000000           0.000000   \n",
       "25%       69.000000        1.000000           1.000000   \n",
       "50%      106.000000        3.000000           5.000000   \n",
       "75%      175.000000        5.000000          24.000000   \n",
       "max    10000.000000     1250.000000         629.000000   \n",
       "\n",
       "       calculated_host_listings_count  availability_365     log_price  \\\n",
       "count                    48884.000000      48884.000000  48884.000000   \n",
       "mean                         7.144628        112.779498      4.727031   \n",
       "std                         32.956185        131.627271      0.698225   \n",
       "min                          1.000000          0.000000      2.302585   \n",
       "25%                          1.000000          0.000000      4.234107   \n",
       "50%                          1.000000         45.000000      4.663439   \n",
       "75%                          2.000000        227.000000      5.164786   \n",
       "max                        327.000000        365.000000      9.210340   \n",
       "\n",
       "           distance  \n",
       "count  48884.000000  \n",
       "mean       8.214721  \n",
       "std        4.744056  \n",
       "min        0.369737  \n",
       "25%        4.466783  \n",
       "50%        7.671584  \n",
       "75%       11.151092  \n",
       "max       39.134388  "
      ]
     },
     "execution_count": 57,
     "metadata": {},
     "output_type": "execute_result"
    }
   ],
   "source": [
    "clear_data_windowrizated.describe()"
   ]
  },
  {
   "cell_type": "code",
   "execution_count": 58,
   "metadata": {},
   "outputs": [],
   "source": [
    "for col in cols_to_change.keys():\n",
    "    index_iqr, _ = outlier_detect_IQR(data=clear_data_dropped, col=col, threshold=5)\n",
    "    clear_data_dropped = drop_outlier(data=clear_data_dropped, outlier_index=index_iqr)"
   ]
  },
  {
   "cell_type": "code",
   "execution_count": 59,
   "metadata": {},
   "outputs": [
    {
     "data": {
      "text/html": [
       "<div>\n",
       "<style scoped>\n",
       "    .dataframe tbody tr th:only-of-type {\n",
       "        vertical-align: middle;\n",
       "    }\n",
       "\n",
       "    .dataframe tbody tr th {\n",
       "        vertical-align: top;\n",
       "    }\n",
       "\n",
       "    .dataframe thead th {\n",
       "        text-align: right;\n",
       "    }\n",
       "</style>\n",
       "<table border=\"1\" class=\"dataframe\">\n",
       "  <thead>\n",
       "    <tr style=\"text-align: right;\">\n",
       "      <th></th>\n",
       "      <th>price</th>\n",
       "      <th>minimum_nights</th>\n",
       "      <th>number_of_reviews</th>\n",
       "      <th>calculated_host_listings_count</th>\n",
       "      <th>availability_365</th>\n",
       "      <th>log_price</th>\n",
       "      <th>distance</th>\n",
       "    </tr>\n",
       "  </thead>\n",
       "  <tbody>\n",
       "    <tr>\n",
       "      <th>count</th>\n",
       "      <td>40718.000000</td>\n",
       "      <td>40718.000000</td>\n",
       "      <td>40718.000000</td>\n",
       "      <td>40718.000000</td>\n",
       "      <td>40718.000000</td>\n",
       "      <td>40718.000000</td>\n",
       "      <td>40718.000000</td>\n",
       "    </tr>\n",
       "    <tr>\n",
       "      <th>mean</th>\n",
       "      <td>133.851073</td>\n",
       "      <td>3.236578</td>\n",
       "      <td>19.706788</td>\n",
       "      <td>1.520777</td>\n",
       "      <td>91.434353</td>\n",
       "      <td>4.687087</td>\n",
       "      <td>8.427160</td>\n",
       "    </tr>\n",
       "    <tr>\n",
       "      <th>std</th>\n",
       "      <td>97.268951</td>\n",
       "      <td>3.208929</td>\n",
       "      <td>30.877370</td>\n",
       "      <td>1.087316</td>\n",
       "      <td>121.659727</td>\n",
       "      <td>0.635952</td>\n",
       "      <td>4.766009</td>\n",
       "    </tr>\n",
       "    <tr>\n",
       "      <th>min</th>\n",
       "      <td>10.000000</td>\n",
       "      <td>1.000000</td>\n",
       "      <td>0.000000</td>\n",
       "      <td>1.000000</td>\n",
       "      <td>0.000000</td>\n",
       "      <td>2.302585</td>\n",
       "      <td>0.369737</td>\n",
       "    </tr>\n",
       "    <tr>\n",
       "      <th>25%</th>\n",
       "      <td>69.000000</td>\n",
       "      <td>1.000000</td>\n",
       "      <td>1.000000</td>\n",
       "      <td>1.000000</td>\n",
       "      <td>0.000000</td>\n",
       "      <td>4.234107</td>\n",
       "      <td>4.762531</td>\n",
       "    </tr>\n",
       "    <tr>\n",
       "      <th>50%</th>\n",
       "      <td>100.000000</td>\n",
       "      <td>2.000000</td>\n",
       "      <td>6.000000</td>\n",
       "      <td>1.000000</td>\n",
       "      <td>19.000000</td>\n",
       "      <td>4.605170</td>\n",
       "      <td>7.856995</td>\n",
       "    </tr>\n",
       "    <tr>\n",
       "      <th>75%</th>\n",
       "      <td>170.000000</td>\n",
       "      <td>4.000000</td>\n",
       "      <td>24.000000</td>\n",
       "      <td>2.000000</td>\n",
       "      <td>168.000000</td>\n",
       "      <td>5.135798</td>\n",
       "      <td>11.304703</td>\n",
       "    </tr>\n",
       "    <tr>\n",
       "      <th>max</th>\n",
       "      <td>700.000000</td>\n",
       "      <td>25.000000</td>\n",
       "      <td>157.000000</td>\n",
       "      <td>7.000000</td>\n",
       "      <td>365.000000</td>\n",
       "      <td>6.551080</td>\n",
       "      <td>39.134388</td>\n",
       "    </tr>\n",
       "  </tbody>\n",
       "</table>\n",
       "</div>"
      ],
      "text/plain": [
       "              price  minimum_nights  number_of_reviews  \\\n",
       "count  40718.000000    40718.000000       40718.000000   \n",
       "mean     133.851073        3.236578          19.706788   \n",
       "std       97.268951        3.208929          30.877370   \n",
       "min       10.000000        1.000000           0.000000   \n",
       "25%       69.000000        1.000000           1.000000   \n",
       "50%      100.000000        2.000000           6.000000   \n",
       "75%      170.000000        4.000000          24.000000   \n",
       "max      700.000000       25.000000         157.000000   \n",
       "\n",
       "       calculated_host_listings_count  availability_365     log_price  \\\n",
       "count                    40718.000000      40718.000000  40718.000000   \n",
       "mean                         1.520777         91.434353      4.687087   \n",
       "std                          1.087316        121.659727      0.635952   \n",
       "min                          1.000000          0.000000      2.302585   \n",
       "25%                          1.000000          0.000000      4.234107   \n",
       "50%                          1.000000         19.000000      4.605170   \n",
       "75%                          2.000000        168.000000      5.135798   \n",
       "max                          7.000000        365.000000      6.551080   \n",
       "\n",
       "           distance  \n",
       "count  40718.000000  \n",
       "mean       8.427160  \n",
       "std        4.766009  \n",
       "min        0.369737  \n",
       "25%        4.762531  \n",
       "50%        7.856995  \n",
       "75%       11.304703  \n",
       "max       39.134388  "
      ]
     },
     "execution_count": 59,
     "metadata": {},
     "output_type": "execute_result"
    }
   ],
   "source": [
    "clear_data_dropped.describe()"
   ]
  },
  {
   "cell_type": "markdown",
   "metadata": {},
   "source": [
    "### Как видно, было удалено около 20% данных, что наверное много, но все равно посмотрим на результат обучения"
   ]
  },
  {
   "cell_type": "code",
   "execution_count": 60,
   "metadata": {},
   "outputs": [],
   "source": [
    "for col, params in cols_to_change.items():\n",
    "    _, iqr_params = outlier_detect_IQR(data=clear_data, col=col, threshold=5)\n",
    "    strategy = params['strategy']\n",
    "    clear_data_windowrizated = windsorization(\n",
    "        data=clear_data_windowrizated, \n",
    "        col=col, \n",
    "        strategy=strategy, \n",
    "        min_val=iqr_params[1],\n",
    "        max_val=iqr_params[0],\n",
    "    )"
   ]
  },
  {
   "cell_type": "code",
   "execution_count": 61,
   "metadata": {},
   "outputs": [
    {
     "data": {
      "text/html": [
       "<div>\n",
       "<style scoped>\n",
       "    .dataframe tbody tr th:only-of-type {\n",
       "        vertical-align: middle;\n",
       "    }\n",
       "\n",
       "    .dataframe tbody tr th {\n",
       "        vertical-align: top;\n",
       "    }\n",
       "\n",
       "    .dataframe thead th {\n",
       "        text-align: right;\n",
       "    }\n",
       "</style>\n",
       "<table border=\"1\" class=\"dataframe\">\n",
       "  <thead>\n",
       "    <tr style=\"text-align: right;\">\n",
       "      <th></th>\n",
       "      <th>price</th>\n",
       "      <th>minimum_nights</th>\n",
       "      <th>number_of_reviews</th>\n",
       "      <th>calculated_host_listings_count</th>\n",
       "      <th>availability_365</th>\n",
       "      <th>log_price</th>\n",
       "      <th>distance</th>\n",
       "    </tr>\n",
       "  </thead>\n",
       "  <tbody>\n",
       "    <tr>\n",
       "      <th>count</th>\n",
       "      <td>48884.000000</td>\n",
       "      <td>48884.000000</td>\n",
       "      <td>48884.000000</td>\n",
       "      <td>48884.000000</td>\n",
       "      <td>48884.000000</td>\n",
       "      <td>48884.000000</td>\n",
       "      <td>48884.000000</td>\n",
       "    </tr>\n",
       "    <tr>\n",
       "      <th>mean</th>\n",
       "      <td>142.955425</td>\n",
       "      <td>5.450372</td>\n",
       "      <td>21.131986</td>\n",
       "      <td>1.986703</td>\n",
       "      <td>112.779498</td>\n",
       "      <td>4.727031</td>\n",
       "      <td>8.214721</td>\n",
       "    </tr>\n",
       "    <tr>\n",
       "      <th>std</th>\n",
       "      <td>116.674121</td>\n",
       "      <td>7.307749</td>\n",
       "      <td>34.628470</td>\n",
       "      <td>1.827086</td>\n",
       "      <td>131.627271</td>\n",
       "      <td>0.698225</td>\n",
       "      <td>4.744056</td>\n",
       "    </tr>\n",
       "    <tr>\n",
       "      <th>min</th>\n",
       "      <td>10.000000</td>\n",
       "      <td>1.000000</td>\n",
       "      <td>0.000000</td>\n",
       "      <td>1.000000</td>\n",
       "      <td>0.000000</td>\n",
       "      <td>2.302585</td>\n",
       "      <td>0.369737</td>\n",
       "    </tr>\n",
       "    <tr>\n",
       "      <th>25%</th>\n",
       "      <td>69.000000</td>\n",
       "      <td>1.000000</td>\n",
       "      <td>1.000000</td>\n",
       "      <td>1.000000</td>\n",
       "      <td>0.000000</td>\n",
       "      <td>4.234107</td>\n",
       "      <td>4.466783</td>\n",
       "    </tr>\n",
       "    <tr>\n",
       "      <th>50%</th>\n",
       "      <td>106.000000</td>\n",
       "      <td>3.000000</td>\n",
       "      <td>5.000000</td>\n",
       "      <td>1.000000</td>\n",
       "      <td>45.000000</td>\n",
       "      <td>4.663439</td>\n",
       "      <td>7.671584</td>\n",
       "    </tr>\n",
       "    <tr>\n",
       "      <th>75%</th>\n",
       "      <td>175.000000</td>\n",
       "      <td>5.000000</td>\n",
       "      <td>24.000000</td>\n",
       "      <td>2.000000</td>\n",
       "      <td>227.000000</td>\n",
       "      <td>5.164786</td>\n",
       "      <td>11.151092</td>\n",
       "    </tr>\n",
       "    <tr>\n",
       "      <th>max</th>\n",
       "      <td>705.000000</td>\n",
       "      <td>25.000000</td>\n",
       "      <td>139.000000</td>\n",
       "      <td>7.000000</td>\n",
       "      <td>365.000000</td>\n",
       "      <td>9.210340</td>\n",
       "      <td>39.134388</td>\n",
       "    </tr>\n",
       "  </tbody>\n",
       "</table>\n",
       "</div>"
      ],
      "text/plain": [
       "              price  minimum_nights  number_of_reviews  \\\n",
       "count  48884.000000    48884.000000       48884.000000   \n",
       "mean     142.955425        5.450372          21.131986   \n",
       "std      116.674121        7.307749          34.628470   \n",
       "min       10.000000        1.000000           0.000000   \n",
       "25%       69.000000        1.000000           1.000000   \n",
       "50%      106.000000        3.000000           5.000000   \n",
       "75%      175.000000        5.000000          24.000000   \n",
       "max      705.000000       25.000000         139.000000   \n",
       "\n",
       "       calculated_host_listings_count  availability_365     log_price  \\\n",
       "count                    48884.000000      48884.000000  48884.000000   \n",
       "mean                         1.986703        112.779498      4.727031   \n",
       "std                          1.827086        131.627271      0.698225   \n",
       "min                          1.000000          0.000000      2.302585   \n",
       "25%                          1.000000          0.000000      4.234107   \n",
       "50%                          1.000000         45.000000      4.663439   \n",
       "75%                          2.000000        227.000000      5.164786   \n",
       "max                          7.000000        365.000000      9.210340   \n",
       "\n",
       "           distance  \n",
       "count  48884.000000  \n",
       "mean       8.214721  \n",
       "std        4.744056  \n",
       "min        0.369737  \n",
       "25%        4.466783  \n",
       "50%        7.671584  \n",
       "75%       11.151092  \n",
       "max       39.134388  "
      ]
     },
     "execution_count": 61,
     "metadata": {},
     "output_type": "execute_result"
    }
   ],
   "source": [
    "clear_data_windowrizated.describe()"
   ]
  },
  {
   "cell_type": "code",
   "execution_count": null,
   "metadata": {},
   "outputs": [],
   "source": []
  },
  {
   "cell_type": "markdown",
   "metadata": {},
   "source": [
    "### Преобразуем категориальные признаки"
   ]
  },
  {
   "cell_type": "markdown",
   "metadata": {},
   "source": [
    "#### попробуем начать c dummy"
   ]
  },
  {
   "cell_type": "code",
   "execution_count": 87,
   "metadata": {},
   "outputs": [],
   "source": [
    "dummy_data_dropped = pd.get_dummies(clear_data_dropped, drop_first=True)\n",
    "dummy_data_windowrizated = pd.get_dummies(clear_data_windowrizated, drop_first=True)"
   ]
  },
  {
   "cell_type": "markdown",
   "metadata": {},
   "source": [
    "### Исключаем колонку цены, оставляя только ее логарифм"
   ]
  },
  {
   "cell_type": "code",
   "execution_count": 88,
   "metadata": {},
   "outputs": [],
   "source": [
    "dummy_data_dropped_log = dummy_data_dropped.drop(columns=['price'], axis=1)\n",
    "dummy_data_windowrizated_log = dummy_data_windowrizated.drop(columns=['price'], axis=1)"
   ]
  },
  {
   "cell_type": "code",
   "execution_count": 89,
   "metadata": {},
   "outputs": [
    {
     "data": {
      "text/html": [
       "<div>\n",
       "<style scoped>\n",
       "    .dataframe tbody tr th:only-of-type {\n",
       "        vertical-align: middle;\n",
       "    }\n",
       "\n",
       "    .dataframe tbody tr th {\n",
       "        vertical-align: top;\n",
       "    }\n",
       "\n",
       "    .dataframe thead th {\n",
       "        text-align: right;\n",
       "    }\n",
       "</style>\n",
       "<table border=\"1\" class=\"dataframe\">\n",
       "  <thead>\n",
       "    <tr style=\"text-align: right;\">\n",
       "      <th></th>\n",
       "      <th>price</th>\n",
       "      <th>minimum_nights</th>\n",
       "      <th>number_of_reviews</th>\n",
       "      <th>calculated_host_listings_count</th>\n",
       "      <th>availability_365</th>\n",
       "      <th>log_price</th>\n",
       "      <th>distance</th>\n",
       "      <th>neighbourhood_group_Brooklyn</th>\n",
       "      <th>neighbourhood_group_Manhattan</th>\n",
       "      <th>neighbourhood_group_Queens</th>\n",
       "      <th>...</th>\n",
       "      <th>neighbourhood_Williamsbridge</th>\n",
       "      <th>neighbourhood_Williamsburg</th>\n",
       "      <th>neighbourhood_Willowbrook</th>\n",
       "      <th>neighbourhood_Windsor Terrace</th>\n",
       "      <th>neighbourhood_Woodhaven</th>\n",
       "      <th>neighbourhood_Woodlawn</th>\n",
       "      <th>neighbourhood_Woodrow</th>\n",
       "      <th>neighbourhood_Woodside</th>\n",
       "      <th>room_type_Private room</th>\n",
       "      <th>room_type_Shared room</th>\n",
       "    </tr>\n",
       "    <tr>\n",
       "      <th>id</th>\n",
       "      <th></th>\n",
       "      <th></th>\n",
       "      <th></th>\n",
       "      <th></th>\n",
       "      <th></th>\n",
       "      <th></th>\n",
       "      <th></th>\n",
       "      <th></th>\n",
       "      <th></th>\n",
       "      <th></th>\n",
       "      <th></th>\n",
       "      <th></th>\n",
       "      <th></th>\n",
       "      <th></th>\n",
       "      <th></th>\n",
       "      <th></th>\n",
       "      <th></th>\n",
       "      <th></th>\n",
       "      <th></th>\n",
       "      <th></th>\n",
       "      <th></th>\n",
       "    </tr>\n",
       "  </thead>\n",
       "  <tbody>\n",
       "    <tr>\n",
       "      <th>2539</th>\n",
       "      <td>149</td>\n",
       "      <td>1</td>\n",
       "      <td>9</td>\n",
       "      <td>6</td>\n",
       "      <td>365</td>\n",
       "      <td>5.003946</td>\n",
       "      <td>15.124636</td>\n",
       "      <td>1</td>\n",
       "      <td>0</td>\n",
       "      <td>0</td>\n",
       "      <td>...</td>\n",
       "      <td>0</td>\n",
       "      <td>0</td>\n",
       "      <td>0</td>\n",
       "      <td>0</td>\n",
       "      <td>0</td>\n",
       "      <td>0</td>\n",
       "      <td>0</td>\n",
       "      <td>0</td>\n",
       "      <td>1</td>\n",
       "      <td>0</td>\n",
       "    </tr>\n",
       "  </tbody>\n",
       "</table>\n",
       "<p>1 rows × 232 columns</p>\n",
       "</div>"
      ],
      "text/plain": [
       "      price  minimum_nights  number_of_reviews  \\\n",
       "id                                               \n",
       "2539    149               1                  9   \n",
       "\n",
       "      calculated_host_listings_count  availability_365  log_price   distance  \\\n",
       "id                                                                             \n",
       "2539                               6               365   5.003946  15.124636   \n",
       "\n",
       "      neighbourhood_group_Brooklyn  neighbourhood_group_Manhattan  \\\n",
       "id                                                                  \n",
       "2539                             1                              0   \n",
       "\n",
       "      neighbourhood_group_Queens  ...  neighbourhood_Williamsbridge  \\\n",
       "id                                ...                                 \n",
       "2539                           0  ...                             0   \n",
       "\n",
       "      neighbourhood_Williamsburg  neighbourhood_Willowbrook  \\\n",
       "id                                                            \n",
       "2539                           0                          0   \n",
       "\n",
       "      neighbourhood_Windsor Terrace  neighbourhood_Woodhaven  \\\n",
       "id                                                             \n",
       "2539                              0                        0   \n",
       "\n",
       "      neighbourhood_Woodlawn  neighbourhood_Woodrow  neighbourhood_Woodside  \\\n",
       "id                                                                            \n",
       "2539                       0                      0                       0   \n",
       "\n",
       "      room_type_Private room  room_type_Shared room  \n",
       "id                                                   \n",
       "2539                       1                      0  \n",
       "\n",
       "[1 rows x 232 columns]"
      ]
     },
     "execution_count": 89,
     "metadata": {},
     "output_type": "execute_result"
    }
   ],
   "source": [
    "dummy_data_dropped.head(1)"
   ]
  },
  {
   "cell_type": "markdown",
   "metadata": {},
   "source": [
    "## Modeling"
   ]
  },
  {
   "cell_type": "code",
   "execution_count": 90,
   "metadata": {},
   "outputs": [
    {
     "data": {
      "text/html": [
       "<div>\n",
       "<style scoped>\n",
       "    .dataframe tbody tr th:only-of-type {\n",
       "        vertical-align: middle;\n",
       "    }\n",
       "\n",
       "    .dataframe tbody tr th {\n",
       "        vertical-align: top;\n",
       "    }\n",
       "\n",
       "    .dataframe thead th {\n",
       "        text-align: right;\n",
       "    }\n",
       "</style>\n",
       "<table border=\"1\" class=\"dataframe\">\n",
       "  <thead>\n",
       "    <tr style=\"text-align: right;\">\n",
       "      <th></th>\n",
       "    </tr>\n",
       "    <tr>\n",
       "      <th>error_type</th>\n",
       "    </tr>\n",
       "  </thead>\n",
       "  <tbody>\n",
       "    <tr>\n",
       "      <th>MAE</th>\n",
       "    </tr>\n",
       "    <tr>\n",
       "      <th>RMSE</th>\n",
       "    </tr>\n",
       "    <tr>\n",
       "      <th>R2</th>\n",
       "    </tr>\n",
       "    <tr>\n",
       "      <th>MAPE</th>\n",
       "    </tr>\n",
       "  </tbody>\n",
       "</table>\n",
       "</div>"
      ],
      "text/plain": [
       "Empty DataFrame\n",
       "Columns: []\n",
       "Index: [MAE, RMSE, R2, MAPE]"
      ]
     },
     "execution_count": 90,
     "metadata": {},
     "output_type": "execute_result"
    }
   ],
   "source": [
    "from sklearn.linear_model import LinearRegression, LassoCV, RidgeCV, ElasticNetCV\n",
    "from sklearn.ensemble import RandomForestRegressor\n",
    "from sklearn.preprocessing import StandardScaler, RobustScaler, MinMaxScaler\n",
    "from sklearn.model_selection import train_test_split\n",
    "from sklearn import metrics\n",
    "from sklearn.model_selection import RandomizedSearchCV\n",
    "import category_encoders as ce\n",
    "\n",
    "\n",
    "def mean_absolute_percentage_error(y_true, y_pred): \n",
    "    y_true, y_pred = np.array(y_true), np.array(y_pred)\n",
    "    return np.mean(np.abs((y_true - y_pred) / y_true)) * 100\n",
    "\n",
    "def dataframe_metrics(y_test,y_pred):\n",
    "    stats = [\n",
    "       metrics.mean_absolute_error(y_test, y_pred),\n",
    "       np.sqrt(metrics.mean_squared_error(y_test, y_pred)),\n",
    "       metrics.r2_score(y_test, y_pred),\n",
    "       mean_absolute_percentage_error(y_test, y_pred)\n",
    "    ]\n",
    "    return stats\n",
    "\n",
    "\n",
    "measured_metrics = pd.DataFrame({\"error_type\":[\"MAE\", \"RMSE\", \"R2\", \"MAPE\"]})\n",
    "measured_metrics.set_index(\"error_type\")"
   ]
  },
  {
   "cell_type": "code",
   "execution_count": 91,
   "metadata": {},
   "outputs": [],
   "source": [
    "def get_encoded_data(input_data: pd.DataFrame, target_name: str, encoder_slug: str, **kwargs) -> pd.DataFrame:\n",
    "    if encoder_slug == 'dummy':\n",
    "        return pd.get_dummies(input_data, drop_first=True)\n",
    "    else:\n",
    "        X_train, _, y_train, _ = train_test_split(\n",
    "            input_data, \n",
    "            input_data[target_name], \n",
    "            test_size=0.3\n",
    "        )\n",
    "        if encoder_slug == 'ordinal':\n",
    "            ord_enc = ce.OrdinalEncoder(cols=kwargs['encoded_cols']).fit(X_train, y_train)\n",
    "            return ord_enc.transform(input_data)\n",
    "        elif encoder_slug == 'catboost':\n",
    "            catboost_enc = ce.CatBoostEncoder(cols=kwargs['encoded_cols']).fit(X_train, y_train)\n",
    "            return catboost_enc.transform(input_data)\n",
    "    raise ValueError(f'{encoder_slug} is not available encoder slug')"
   ]
  },
  {
   "cell_type": "code",
   "execution_count": 92,
   "metadata": {},
   "outputs": [],
   "source": [
    "def show_reuslts(\n",
    "    data: pd.DataFrame, \n",
    "    target_name: str, \n",
    "    scaler_class: type, \n",
    "    encoder_slug: str, \n",
    "    encoded_cols: list = None\n",
    ") -> dict:\n",
    "    data = data.copy(deep=True)\n",
    "    measured_metrics = pd.DataFrame({\"error_type\":[\"MAE\", \"RMSE\", \"R2\", \"MAPE\"]})\n",
    "    measured_metrics.set_index(\"error_type\")    \n",
    "    \n",
    "    # Encode string columns\n",
    "    data = get_encoded_data(data, target_name, encoder_slug, encoded_cols=encoded_cols)\n",
    "    \n",
    "    \n",
    "    # Split encoded data\n",
    "    X_train, X_test, y_train, y_test = train_test_split(\n",
    "        data.drop([target_name], axis=1), \n",
    "        data[target_name], \n",
    "        test_size=0.3\n",
    "    )\n",
    "    \n",
    "    # Base line\n",
    "    y_median = np.median(y_train)\n",
    "    y_pred_naive = np.ones(len(y_test)) * y_median\n",
    "    measured_metrics['naive_baseline'] = dataframe_metrics(y_test, y_pred_naive)\n",
    "    \n",
    "    # Liner Models\n",
    "    scaler = scaler_class()\n",
    "\n",
    "    X_train_scaled = X_train.copy()\n",
    "    X_test_scaled = X_test.copy()\n",
    "    X_train_scaled[X_train.columns] = scaler.fit_transform(X_train)\n",
    "    X_test_scaled[X_train.columns] = scaler.transform(X_test)\n",
    "    \n",
    "    lr = LinearRegression()\n",
    "    lr.fit(X_train_scaled, y_train)\n",
    "    measured_metrics['lr'] = dataframe_metrics(y_test, lr.predict(X_test_scaled))\n",
    "    \n",
    "    # Lasso\n",
    "    lasso_cv = LassoCV(cv=5)\n",
    "    lasso_cv.fit(X_train_scaled, y_train)\n",
    "    measured_metrics['lasso_cv'] = dataframe_metrics(y_test, lasso_cv.predict(X_test_scaled))\n",
    "    \n",
    "    # Ridge\n",
    "    ridge_cv = RidgeCV(cv=5)\n",
    "    ridge_cv.fit(X_train_scaled, y_train)\n",
    "    measured_metrics['ridge_cv'] = dataframe_metrics(y_test, ridge_cv.predict(X_test_scaled))\n",
    "    \n",
    "    # Elastic\n",
    "    elastic_cv = ElasticNetCV()\n",
    "    elastic_cv.fit(X_train_scaled, y_train)\n",
    "    measured_metrics['elastic_cv'] = dataframe_metrics(y_test, elastic_cv.predict(X_test_scaled))\n",
    "\n",
    "    \n",
    "    # Trees\n",
    "    # Random Forest\n",
    "    rf = RandomForestRegressor(random_state=42)\n",
    "    rf.fit(X_train, y_train)\n",
    "    measured_metrics['rf'] = dataframe_metrics(y_test, rf.predict(X_test))\n",
    "    \n",
    "    # RandomizedSearchCV\n",
    "    params = {\n",
    "        'n_estimators':[10, 25, 50],\n",
    "        'max_depth':[2, 5, 7, 10],\n",
    "        'max_features':[\n",
    "            'auto', \n",
    "            X_train.shape[1]//2, \n",
    "            'sqrt',\n",
    "            'log2'\n",
    "        ]\n",
    "    }\n",
    "\n",
    "    rscv = RandomizedSearchCV(\n",
    "        estimator=RandomForestRegressor(),\n",
    "        param_distributions = params,\n",
    "        n_jobs=-1,\n",
    "        verbose=1,\n",
    "        random_state=42\n",
    "    )\n",
    "    \n",
    "    rscv.fit(X_train, y_train)\n",
    "    \n",
    "    rscv.best_estimator_.fit(X_train, y_train)\n",
    "    measured_metrics['rf_cv'] = dataframe_metrics(y_test, rscv.best_estimator_.predict(X_test))\n",
    "    \n",
    "    return measured_metrics"
   ]
  },
  {
   "cell_type": "markdown",
   "metadata": {},
   "source": [
    "### Посмотрим какая точность достигается с помошью различных способов масштабирования данных"
   ]
  },
  {
   "cell_type": "markdown",
   "metadata": {},
   "source": [
    "#### Начнем с данных с удаленными аномальными значениями"
   ]
  },
  {
   "cell_type": "code",
   "execution_count": 93,
   "metadata": {},
   "outputs": [
    {
     "name": "stdout",
     "output_type": "stream",
     "text": [
      "Fitting 5 folds for each of 10 candidates, totalling 50 fits\n"
     ]
    },
    {
     "name": "stderr",
     "output_type": "stream",
     "text": [
      "[Parallel(n_jobs=-1)]: Using backend LokyBackend with 4 concurrent workers.\n",
      "[Parallel(n_jobs=-1)]: Done  42 tasks      | elapsed:   36.5s\n",
      "[Parallel(n_jobs=-1)]: Done  50 out of  50 | elapsed:   44.2s finished\n"
     ]
    },
    {
     "data": {
      "text/html": [
       "<div>\n",
       "<style scoped>\n",
       "    .dataframe tbody tr th:only-of-type {\n",
       "        vertical-align: middle;\n",
       "    }\n",
       "\n",
       "    .dataframe tbody tr th {\n",
       "        vertical-align: top;\n",
       "    }\n",
       "\n",
       "    .dataframe thead th {\n",
       "        text-align: right;\n",
       "    }\n",
       "</style>\n",
       "<table border=\"1\" class=\"dataframe\">\n",
       "  <thead>\n",
       "    <tr style=\"text-align: right;\">\n",
       "      <th></th>\n",
       "      <th>error_type</th>\n",
       "      <th>naive_baseline</th>\n",
       "      <th>lr</th>\n",
       "      <th>lasso_cv</th>\n",
       "      <th>ridge_cv</th>\n",
       "      <th>elastic_cv</th>\n",
       "      <th>rf</th>\n",
       "      <th>rf_cv</th>\n",
       "    </tr>\n",
       "  </thead>\n",
       "  <tbody>\n",
       "    <tr>\n",
       "      <th>0</th>\n",
       "      <td>MAE</td>\n",
       "      <td>0.513348</td>\n",
       "      <td>8.444897e+07</td>\n",
       "      <td>0.313722</td>\n",
       "      <td>0.313632</td>\n",
       "      <td>0.313725</td>\n",
       "      <td>0.313429</td>\n",
       "      <td>0.307121</td>\n",
       "    </tr>\n",
       "    <tr>\n",
       "      <th>1</th>\n",
       "      <td>RMSE</td>\n",
       "      <td>0.637334</td>\n",
       "      <td>9.333808e+09</td>\n",
       "      <td>0.411281</td>\n",
       "      <td>0.411307</td>\n",
       "      <td>0.411282</td>\n",
       "      <td>0.412706</td>\n",
       "      <td>0.405136</td>\n",
       "    </tr>\n",
       "    <tr>\n",
       "      <th>2</th>\n",
       "      <td>R2</td>\n",
       "      <td>-0.017202</td>\n",
       "      <td>-2.181681e+20</td>\n",
       "      <td>0.576406</td>\n",
       "      <td>0.576352</td>\n",
       "      <td>0.576403</td>\n",
       "      <td>0.573465</td>\n",
       "      <td>0.588967</td>\n",
       "    </tr>\n",
       "    <tr>\n",
       "      <th>3</th>\n",
       "      <td>MAPE</td>\n",
       "      <td>11.016549</td>\n",
       "      <td>1.938366e+09</td>\n",
       "      <td>6.747193</td>\n",
       "      <td>6.742649</td>\n",
       "      <td>6.747471</td>\n",
       "      <td>6.728013</td>\n",
       "      <td>6.598795</td>\n",
       "    </tr>\n",
       "  </tbody>\n",
       "</table>\n",
       "</div>"
      ],
      "text/plain": [
       "  error_type  naive_baseline            lr  lasso_cv  ridge_cv  elastic_cv  \\\n",
       "0        MAE        0.513348  8.444897e+07  0.313722  0.313632    0.313725   \n",
       "1       RMSE        0.637334  9.333808e+09  0.411281  0.411307    0.411282   \n",
       "2         R2       -0.017202 -2.181681e+20  0.576406  0.576352    0.576403   \n",
       "3       MAPE       11.016549  1.938366e+09  6.747193  6.742649    6.747471   \n",
       "\n",
       "         rf     rf_cv  \n",
       "0  0.313429  0.307121  \n",
       "1  0.412706  0.405136  \n",
       "2  0.573465  0.588967  \n",
       "3  6.728013  6.598795  "
      ]
     },
     "execution_count": 93,
     "metadata": {},
     "output_type": "execute_result"
    }
   ],
   "source": [
    "show_reuslts(data=dummy_data_dropped_log, target_name='log_price', scaler_class=StandardScaler,  encoder_slug='dummy')"
   ]
  },
  {
   "cell_type": "code",
   "execution_count": 94,
   "metadata": {},
   "outputs": [
    {
     "name": "stdout",
     "output_type": "stream",
     "text": [
      "Fitting 5 folds for each of 10 candidates, totalling 50 fits\n"
     ]
    },
    {
     "name": "stderr",
     "output_type": "stream",
     "text": [
      "[Parallel(n_jobs=-1)]: Using backend LokyBackend with 4 concurrent workers.\n",
      "[Parallel(n_jobs=-1)]: Done  42 tasks      | elapsed:   34.7s\n",
      "[Parallel(n_jobs=-1)]: Done  50 out of  50 | elapsed:   42.5s finished\n"
     ]
    },
    {
     "data": {
      "text/html": [
       "<div>\n",
       "<style scoped>\n",
       "    .dataframe tbody tr th:only-of-type {\n",
       "        vertical-align: middle;\n",
       "    }\n",
       "\n",
       "    .dataframe tbody tr th {\n",
       "        vertical-align: top;\n",
       "    }\n",
       "\n",
       "    .dataframe thead th {\n",
       "        text-align: right;\n",
       "    }\n",
       "</style>\n",
       "<table border=\"1\" class=\"dataframe\">\n",
       "  <thead>\n",
       "    <tr style=\"text-align: right;\">\n",
       "      <th></th>\n",
       "      <th>error_type</th>\n",
       "      <th>naive_baseline</th>\n",
       "      <th>lr</th>\n",
       "      <th>lasso_cv</th>\n",
       "      <th>ridge_cv</th>\n",
       "      <th>elastic_cv</th>\n",
       "      <th>rf</th>\n",
       "      <th>rf_cv</th>\n",
       "    </tr>\n",
       "  </thead>\n",
       "  <tbody>\n",
       "    <tr>\n",
       "      <th>0</th>\n",
       "      <td>MAE</td>\n",
       "      <td>0.519319</td>\n",
       "      <td>1.409111e+05</td>\n",
       "      <td>0.315620</td>\n",
       "      <td>0.314558</td>\n",
       "      <td>0.315848</td>\n",
       "      <td>0.312678</td>\n",
       "      <td>0.309363</td>\n",
       "    </tr>\n",
       "    <tr>\n",
       "      <th>1</th>\n",
       "      <td>RMSE</td>\n",
       "      <td>0.643079</td>\n",
       "      <td>1.555141e+07</td>\n",
       "      <td>0.417182</td>\n",
       "      <td>0.416023</td>\n",
       "      <td>0.417421</td>\n",
       "      <td>0.416100</td>\n",
       "      <td>0.410393</td>\n",
       "    </tr>\n",
       "    <tr>\n",
       "      <th>2</th>\n",
       "      <td>R2</td>\n",
       "      <td>-0.017123</td>\n",
       "      <td>-5.948185e+14</td>\n",
       "      <td>0.571947</td>\n",
       "      <td>0.574323</td>\n",
       "      <td>0.571458</td>\n",
       "      <td>0.574166</td>\n",
       "      <td>0.585767</td>\n",
       "    </tr>\n",
       "    <tr>\n",
       "      <th>3</th>\n",
       "      <td>MAPE</td>\n",
       "      <td>11.151499</td>\n",
       "      <td>2.813402e+06</td>\n",
       "      <td>6.794087</td>\n",
       "      <td>6.769838</td>\n",
       "      <td>6.800013</td>\n",
       "      <td>6.721470</td>\n",
       "      <td>6.654912</td>\n",
       "    </tr>\n",
       "  </tbody>\n",
       "</table>\n",
       "</div>"
      ],
      "text/plain": [
       "  error_type  naive_baseline            lr  lasso_cv  ridge_cv  elastic_cv  \\\n",
       "0        MAE        0.519319  1.409111e+05  0.315620  0.314558    0.315848   \n",
       "1       RMSE        0.643079  1.555141e+07  0.417182  0.416023    0.417421   \n",
       "2         R2       -0.017123 -5.948185e+14  0.571947  0.574323    0.571458   \n",
       "3       MAPE       11.151499  2.813402e+06  6.794087  6.769838    6.800013   \n",
       "\n",
       "         rf     rf_cv  \n",
       "0  0.312678  0.309363  \n",
       "1  0.416100  0.410393  \n",
       "2  0.574166  0.585767  \n",
       "3  6.721470  6.654912  "
      ]
     },
     "execution_count": 94,
     "metadata": {},
     "output_type": "execute_result"
    }
   ],
   "source": [
    "show_reuslts(data=dummy_data_dropped_log, target_name='log_price', scaler_class=RobustScaler, encoder_slug='dummy')"
   ]
  },
  {
   "cell_type": "code",
   "execution_count": 95,
   "metadata": {},
   "outputs": [
    {
     "name": "stdout",
     "output_type": "stream",
     "text": [
      "Fitting 5 folds for each of 10 candidates, totalling 50 fits\n"
     ]
    },
    {
     "name": "stderr",
     "output_type": "stream",
     "text": [
      "[Parallel(n_jobs=-1)]: Using backend LokyBackend with 4 concurrent workers.\n",
      "[Parallel(n_jobs=-1)]: Done  42 tasks      | elapsed:   35.2s\n",
      "[Parallel(n_jobs=-1)]: Done  50 out of  50 | elapsed:   42.9s finished\n"
     ]
    },
    {
     "data": {
      "text/html": [
       "<div>\n",
       "<style scoped>\n",
       "    .dataframe tbody tr th:only-of-type {\n",
       "        vertical-align: middle;\n",
       "    }\n",
       "\n",
       "    .dataframe tbody tr th {\n",
       "        vertical-align: top;\n",
       "    }\n",
       "\n",
       "    .dataframe thead th {\n",
       "        text-align: right;\n",
       "    }\n",
       "</style>\n",
       "<table border=\"1\" class=\"dataframe\">\n",
       "  <thead>\n",
       "    <tr style=\"text-align: right;\">\n",
       "      <th></th>\n",
       "      <th>error_type</th>\n",
       "      <th>naive_baseline</th>\n",
       "      <th>lr</th>\n",
       "      <th>lasso_cv</th>\n",
       "      <th>ridge_cv</th>\n",
       "      <th>elastic_cv</th>\n",
       "      <th>rf</th>\n",
       "      <th>rf_cv</th>\n",
       "    </tr>\n",
       "  </thead>\n",
       "  <tbody>\n",
       "    <tr>\n",
       "      <th>0</th>\n",
       "      <td>MAE</td>\n",
       "      <td>0.513593</td>\n",
       "      <td>2.429102e+06</td>\n",
       "      <td>0.311115</td>\n",
       "      <td>0.310258</td>\n",
       "      <td>0.311273</td>\n",
       "      <td>0.310477</td>\n",
       "      <td>0.306070</td>\n",
       "    </tr>\n",
       "    <tr>\n",
       "      <th>1</th>\n",
       "      <td>RMSE</td>\n",
       "      <td>0.637142</td>\n",
       "      <td>1.857048e+08</td>\n",
       "      <td>0.409595</td>\n",
       "      <td>0.408791</td>\n",
       "      <td>0.409832</td>\n",
       "      <td>0.409498</td>\n",
       "      <td>0.403832</td>\n",
       "    </tr>\n",
       "    <tr>\n",
       "      <th>2</th>\n",
       "      <td>R2</td>\n",
       "      <td>-0.021617</td>\n",
       "      <td>-8.678831e+16</td>\n",
       "      <td>0.577793</td>\n",
       "      <td>0.579449</td>\n",
       "      <td>0.577306</td>\n",
       "      <td>0.577994</td>\n",
       "      <td>0.589591</td>\n",
       "    </tr>\n",
       "    <tr>\n",
       "      <th>3</th>\n",
       "      <td>MAPE</td>\n",
       "      <td>10.968532</td>\n",
       "      <td>5.786273e+07</td>\n",
       "      <td>6.651116</td>\n",
       "      <td>6.629021</td>\n",
       "      <td>6.655186</td>\n",
       "      <td>6.633878</td>\n",
       "      <td>6.544874</td>\n",
       "    </tr>\n",
       "  </tbody>\n",
       "</table>\n",
       "</div>"
      ],
      "text/plain": [
       "  error_type  naive_baseline            lr  lasso_cv  ridge_cv  elastic_cv  \\\n",
       "0        MAE        0.513593  2.429102e+06  0.311115  0.310258    0.311273   \n",
       "1       RMSE        0.637142  1.857048e+08  0.409595  0.408791    0.409832   \n",
       "2         R2       -0.021617 -8.678831e+16  0.577793  0.579449    0.577306   \n",
       "3       MAPE       10.968532  5.786273e+07  6.651116  6.629021    6.655186   \n",
       "\n",
       "         rf     rf_cv  \n",
       "0  0.310477  0.306070  \n",
       "1  0.409498  0.403832  \n",
       "2  0.577994  0.589591  \n",
       "3  6.633878  6.544874  "
      ]
     },
     "execution_count": 95,
     "metadata": {},
     "output_type": "execute_result"
    }
   ],
   "source": [
    "show_reuslts(data=dummy_data_dropped_log, target_name='log_price', scaler_class=MinMaxScaler, encoder_slug='dummy')"
   ]
  },
  {
   "cell_type": "markdown",
   "metadata": {},
   "source": [
    "#### Теперь посмотрим как ведут себя данные с заменой аномальных значений"
   ]
  },
  {
   "cell_type": "code",
   "execution_count": 96,
   "metadata": {},
   "outputs": [
    {
     "name": "stdout",
     "output_type": "stream",
     "text": [
      "Fitting 5 folds for each of 10 candidates, totalling 50 fits\n"
     ]
    },
    {
     "name": "stderr",
     "output_type": "stream",
     "text": [
      "[Parallel(n_jobs=-1)]: Using backend LokyBackend with 4 concurrent workers.\n",
      "[Parallel(n_jobs=-1)]: Done  42 tasks      | elapsed:   43.4s\n",
      "[Parallel(n_jobs=-1)]: Done  50 out of  50 | elapsed:   53.0s finished\n"
     ]
    },
    {
     "data": {
      "text/html": [
       "<div>\n",
       "<style scoped>\n",
       "    .dataframe tbody tr th:only-of-type {\n",
       "        vertical-align: middle;\n",
       "    }\n",
       "\n",
       "    .dataframe tbody tr th {\n",
       "        vertical-align: top;\n",
       "    }\n",
       "\n",
       "    .dataframe thead th {\n",
       "        text-align: right;\n",
       "    }\n",
       "</style>\n",
       "<table border=\"1\" class=\"dataframe\">\n",
       "  <thead>\n",
       "    <tr style=\"text-align: right;\">\n",
       "      <th></th>\n",
       "      <th>error_type</th>\n",
       "      <th>naive_baseline</th>\n",
       "      <th>lr</th>\n",
       "      <th>lasso_cv</th>\n",
       "      <th>ridge_cv</th>\n",
       "      <th>elastic_cv</th>\n",
       "      <th>rf</th>\n",
       "      <th>rf_cv</th>\n",
       "    </tr>\n",
       "  </thead>\n",
       "  <tbody>\n",
       "    <tr>\n",
       "      <th>0</th>\n",
       "      <td>MAE</td>\n",
       "      <td>0.551630</td>\n",
       "      <td>7.228400e+09</td>\n",
       "      <td>0.336357</td>\n",
       "      <td>0.336079</td>\n",
       "      <td>0.336411</td>\n",
       "      <td>0.326468</td>\n",
       "      <td>0.326377</td>\n",
       "    </tr>\n",
       "    <tr>\n",
       "      <th>1</th>\n",
       "      <td>RMSE</td>\n",
       "      <td>0.700623</td>\n",
       "      <td>4.377039e+11</td>\n",
       "      <td>0.466878</td>\n",
       "      <td>0.466623</td>\n",
       "      <td>0.466932</td>\n",
       "      <td>0.459684</td>\n",
       "      <td>0.457100</td>\n",
       "    </tr>\n",
       "    <tr>\n",
       "      <th>2</th>\n",
       "      <td>R2</td>\n",
       "      <td>-0.008893</td>\n",
       "      <td>-3.937657e+23</td>\n",
       "      <td>0.551995</td>\n",
       "      <td>0.552482</td>\n",
       "      <td>0.551890</td>\n",
       "      <td>0.565693</td>\n",
       "      <td>0.570564</td>\n",
       "    </tr>\n",
       "    <tr>\n",
       "      <th>3</th>\n",
       "      <td>MAPE</td>\n",
       "      <td>11.715299</td>\n",
       "      <td>1.528253e+11</td>\n",
       "      <td>7.045892</td>\n",
       "      <td>7.038197</td>\n",
       "      <td>7.047452</td>\n",
       "      <td>6.837642</td>\n",
       "      <td>6.835363</td>\n",
       "    </tr>\n",
       "  </tbody>\n",
       "</table>\n",
       "</div>"
      ],
      "text/plain": [
       "  error_type  naive_baseline            lr  lasso_cv  ridge_cv  elastic_cv  \\\n",
       "0        MAE        0.551630  7.228400e+09  0.336357  0.336079    0.336411   \n",
       "1       RMSE        0.700623  4.377039e+11  0.466878  0.466623    0.466932   \n",
       "2         R2       -0.008893 -3.937657e+23  0.551995  0.552482    0.551890   \n",
       "3       MAPE       11.715299  1.528253e+11  7.045892  7.038197    7.047452   \n",
       "\n",
       "         rf     rf_cv  \n",
       "0  0.326468  0.326377  \n",
       "1  0.459684  0.457100  \n",
       "2  0.565693  0.570564  \n",
       "3  6.837642  6.835363  "
      ]
     },
     "execution_count": 96,
     "metadata": {},
     "output_type": "execute_result"
    }
   ],
   "source": [
    "show_reuslts(data=dummy_data_windowrizated_log, target_name='log_price', scaler_class=StandardScaler,  encoder_slug='dummy')"
   ]
  },
  {
   "cell_type": "code",
   "execution_count": 97,
   "metadata": {},
   "outputs": [
    {
     "name": "stdout",
     "output_type": "stream",
     "text": [
      "Fitting 5 folds for each of 10 candidates, totalling 50 fits\n"
     ]
    },
    {
     "name": "stderr",
     "output_type": "stream",
     "text": [
      "[Parallel(n_jobs=-1)]: Using backend LokyBackend with 4 concurrent workers.\n",
      "[Parallel(n_jobs=-1)]: Done  42 tasks      | elapsed:   45.0s\n",
      "[Parallel(n_jobs=-1)]: Done  50 out of  50 | elapsed:   54.8s finished\n"
     ]
    },
    {
     "data": {
      "text/html": [
       "<div>\n",
       "<style scoped>\n",
       "    .dataframe tbody tr th:only-of-type {\n",
       "        vertical-align: middle;\n",
       "    }\n",
       "\n",
       "    .dataframe tbody tr th {\n",
       "        vertical-align: top;\n",
       "    }\n",
       "\n",
       "    .dataframe thead th {\n",
       "        text-align: right;\n",
       "    }\n",
       "</style>\n",
       "<table border=\"1\" class=\"dataframe\">\n",
       "  <thead>\n",
       "    <tr style=\"text-align: right;\">\n",
       "      <th></th>\n",
       "      <th>error_type</th>\n",
       "      <th>naive_baseline</th>\n",
       "      <th>lr</th>\n",
       "      <th>lasso_cv</th>\n",
       "      <th>ridge_cv</th>\n",
       "      <th>elastic_cv</th>\n",
       "      <th>rf</th>\n",
       "      <th>rf_cv</th>\n",
       "    </tr>\n",
       "  </thead>\n",
       "  <tbody>\n",
       "    <tr>\n",
       "      <th>0</th>\n",
       "      <td>MAE</td>\n",
       "      <td>0.550685</td>\n",
       "      <td>4.116874e+04</td>\n",
       "      <td>0.337478</td>\n",
       "      <td>0.336680</td>\n",
       "      <td>0.337581</td>\n",
       "      <td>0.326857</td>\n",
       "      <td>0.327504</td>\n",
       "    </tr>\n",
       "    <tr>\n",
       "      <th>1</th>\n",
       "      <td>RMSE</td>\n",
       "      <td>0.702090</td>\n",
       "      <td>2.878454e+06</td>\n",
       "      <td>0.471419</td>\n",
       "      <td>0.471134</td>\n",
       "      <td>0.471571</td>\n",
       "      <td>0.461969</td>\n",
       "      <td>0.459816</td>\n",
       "    </tr>\n",
       "    <tr>\n",
       "      <th>2</th>\n",
       "      <td>R2</td>\n",
       "      <td>-0.013147</td>\n",
       "      <td>-1.702962e+13</td>\n",
       "      <td>0.543227</td>\n",
       "      <td>0.543780</td>\n",
       "      <td>0.542932</td>\n",
       "      <td>0.561357</td>\n",
       "      <td>0.565435</td>\n",
       "    </tr>\n",
       "    <tr>\n",
       "      <th>3</th>\n",
       "      <td>MAPE</td>\n",
       "      <td>11.635767</td>\n",
       "      <td>8.876367e+05</td>\n",
       "      <td>7.037356</td>\n",
       "      <td>7.014828</td>\n",
       "      <td>7.040414</td>\n",
       "      <td>6.817615</td>\n",
       "      <td>6.832689</td>\n",
       "    </tr>\n",
       "  </tbody>\n",
       "</table>\n",
       "</div>"
      ],
      "text/plain": [
       "  error_type  naive_baseline            lr  lasso_cv  ridge_cv  elastic_cv  \\\n",
       "0        MAE        0.550685  4.116874e+04  0.337478  0.336680    0.337581   \n",
       "1       RMSE        0.702090  2.878454e+06  0.471419  0.471134    0.471571   \n",
       "2         R2       -0.013147 -1.702962e+13  0.543227  0.543780    0.542932   \n",
       "3       MAPE       11.635767  8.876367e+05  7.037356  7.014828    7.040414   \n",
       "\n",
       "         rf     rf_cv  \n",
       "0  0.326857  0.327504  \n",
       "1  0.461969  0.459816  \n",
       "2  0.561357  0.565435  \n",
       "3  6.817615  6.832689  "
      ]
     },
     "execution_count": 97,
     "metadata": {},
     "output_type": "execute_result"
    }
   ],
   "source": [
    "show_reuslts(data=dummy_data_windowrizated_log, target_name='log_price', scaler_class=RobustScaler, encoder_slug='dummy')"
   ]
  },
  {
   "cell_type": "code",
   "execution_count": 98,
   "metadata": {},
   "outputs": [
    {
     "name": "stdout",
     "output_type": "stream",
     "text": [
      "Fitting 5 folds for each of 10 candidates, totalling 50 fits\n"
     ]
    },
    {
     "name": "stderr",
     "output_type": "stream",
     "text": [
      "[Parallel(n_jobs=-1)]: Using backend LokyBackend with 4 concurrent workers.\n",
      "[Parallel(n_jobs=-1)]: Done  42 tasks      | elapsed:   43.7s\n",
      "[Parallel(n_jobs=-1)]: Done  50 out of  50 | elapsed:   53.6s finished\n"
     ]
    },
    {
     "data": {
      "text/html": [
       "<div>\n",
       "<style scoped>\n",
       "    .dataframe tbody tr th:only-of-type {\n",
       "        vertical-align: middle;\n",
       "    }\n",
       "\n",
       "    .dataframe tbody tr th {\n",
       "        vertical-align: top;\n",
       "    }\n",
       "\n",
       "    .dataframe thead th {\n",
       "        text-align: right;\n",
       "    }\n",
       "</style>\n",
       "<table border=\"1\" class=\"dataframe\">\n",
       "  <thead>\n",
       "    <tr style=\"text-align: right;\">\n",
       "      <th></th>\n",
       "      <th>error_type</th>\n",
       "      <th>naive_baseline</th>\n",
       "      <th>lr</th>\n",
       "      <th>lasso_cv</th>\n",
       "      <th>ridge_cv</th>\n",
       "      <th>elastic_cv</th>\n",
       "      <th>rf</th>\n",
       "      <th>rf_cv</th>\n",
       "    </tr>\n",
       "  </thead>\n",
       "  <tbody>\n",
       "    <tr>\n",
       "      <th>0</th>\n",
       "      <td>MAE</td>\n",
       "      <td>0.555354</td>\n",
       "      <td>1.946318e+06</td>\n",
       "      <td>0.338193</td>\n",
       "      <td>0.337612</td>\n",
       "      <td>0.338281</td>\n",
       "      <td>0.327251</td>\n",
       "      <td>0.327121</td>\n",
       "    </tr>\n",
       "    <tr>\n",
       "      <th>1</th>\n",
       "      <td>RMSE</td>\n",
       "      <td>0.702115</td>\n",
       "      <td>1.307763e+08</td>\n",
       "      <td>0.469138</td>\n",
       "      <td>0.468010</td>\n",
       "      <td>0.469323</td>\n",
       "      <td>0.457915</td>\n",
       "      <td>0.456179</td>\n",
       "    </tr>\n",
       "    <tr>\n",
       "      <th>2</th>\n",
       "      <td>R2</td>\n",
       "      <td>-0.002853</td>\n",
       "      <td>-3.479200e+16</td>\n",
       "      <td>0.552263</td>\n",
       "      <td>0.554414</td>\n",
       "      <td>0.551911</td>\n",
       "      <td>0.573430</td>\n",
       "      <td>0.576657</td>\n",
       "    </tr>\n",
       "    <tr>\n",
       "      <th>3</th>\n",
       "      <td>MAPE</td>\n",
       "      <td>11.911806</td>\n",
       "      <td>4.661899e+07</td>\n",
       "      <td>7.151769</td>\n",
       "      <td>7.135725</td>\n",
       "      <td>7.154636</td>\n",
       "      <td>6.920125</td>\n",
       "      <td>6.914628</td>\n",
       "    </tr>\n",
       "  </tbody>\n",
       "</table>\n",
       "</div>"
      ],
      "text/plain": [
       "  error_type  naive_baseline            lr  lasso_cv  ridge_cv  elastic_cv  \\\n",
       "0        MAE        0.555354  1.946318e+06  0.338193  0.337612    0.338281   \n",
       "1       RMSE        0.702115  1.307763e+08  0.469138  0.468010    0.469323   \n",
       "2         R2       -0.002853 -3.479200e+16  0.552263  0.554414    0.551911   \n",
       "3       MAPE       11.911806  4.661899e+07  7.151769  7.135725    7.154636   \n",
       "\n",
       "         rf     rf_cv  \n",
       "0  0.327251  0.327121  \n",
       "1  0.457915  0.456179  \n",
       "2  0.573430  0.576657  \n",
       "3  6.920125  6.914628  "
      ]
     },
     "execution_count": 98,
     "metadata": {},
     "output_type": "execute_result"
    }
   ],
   "source": [
    "show_reuslts(data=dummy_data_windowrizated_log, target_name='log_price', scaler_class=MinMaxScaler, encoder_slug='dummy')"
   ]
  },
  {
   "cell_type": "markdown",
   "metadata": {},
   "source": [
    "### Данные с исключенными аномалиями ведут себя лучше, MinMaxScaler - показал наилучшие результаты"
   ]
  },
  {
   "cell_type": "markdown",
   "metadata": {},
   "source": [
    "### Мы работали с логарифмированными ценами, попробуем теперь посмотреть на точность предсказания для нелогарифмированных цен"
   ]
  },
  {
   "cell_type": "code",
   "execution_count": 99,
   "metadata": {},
   "outputs": [],
   "source": [
    "dummy_data_dropped_not_log = dummy_data_dropped.drop(columns=['log_price'], axis=1)\n",
    "dummy_data_windowrizated_not_log = dummy_data_windowrizated.drop(columns=['log_price'], axis=1)"
   ]
  },
  {
   "cell_type": "code",
   "execution_count": 100,
   "metadata": {},
   "outputs": [
    {
     "data": {
      "text/html": [
       "<div>\n",
       "<style scoped>\n",
       "    .dataframe tbody tr th:only-of-type {\n",
       "        vertical-align: middle;\n",
       "    }\n",
       "\n",
       "    .dataframe tbody tr th {\n",
       "        vertical-align: top;\n",
       "    }\n",
       "\n",
       "    .dataframe thead th {\n",
       "        text-align: right;\n",
       "    }\n",
       "</style>\n",
       "<table border=\"1\" class=\"dataframe\">\n",
       "  <thead>\n",
       "    <tr style=\"text-align: right;\">\n",
       "      <th></th>\n",
       "      <th>price</th>\n",
       "      <th>minimum_nights</th>\n",
       "      <th>number_of_reviews</th>\n",
       "      <th>calculated_host_listings_count</th>\n",
       "      <th>availability_365</th>\n",
       "      <th>distance</th>\n",
       "      <th>neighbourhood_group_Brooklyn</th>\n",
       "      <th>neighbourhood_group_Manhattan</th>\n",
       "      <th>neighbourhood_group_Queens</th>\n",
       "      <th>neighbourhood_group_Staten Island</th>\n",
       "      <th>...</th>\n",
       "      <th>neighbourhood_Williamsbridge</th>\n",
       "      <th>neighbourhood_Williamsburg</th>\n",
       "      <th>neighbourhood_Willowbrook</th>\n",
       "      <th>neighbourhood_Windsor Terrace</th>\n",
       "      <th>neighbourhood_Woodhaven</th>\n",
       "      <th>neighbourhood_Woodlawn</th>\n",
       "      <th>neighbourhood_Woodrow</th>\n",
       "      <th>neighbourhood_Woodside</th>\n",
       "      <th>room_type_Private room</th>\n",
       "      <th>room_type_Shared room</th>\n",
       "    </tr>\n",
       "    <tr>\n",
       "      <th>id</th>\n",
       "      <th></th>\n",
       "      <th></th>\n",
       "      <th></th>\n",
       "      <th></th>\n",
       "      <th></th>\n",
       "      <th></th>\n",
       "      <th></th>\n",
       "      <th></th>\n",
       "      <th></th>\n",
       "      <th></th>\n",
       "      <th></th>\n",
       "      <th></th>\n",
       "      <th></th>\n",
       "      <th></th>\n",
       "      <th></th>\n",
       "      <th></th>\n",
       "      <th></th>\n",
       "      <th></th>\n",
       "      <th></th>\n",
       "      <th></th>\n",
       "      <th></th>\n",
       "    </tr>\n",
       "  </thead>\n",
       "  <tbody>\n",
       "    <tr>\n",
       "      <th>2539</th>\n",
       "      <td>149</td>\n",
       "      <td>1</td>\n",
       "      <td>9</td>\n",
       "      <td>6</td>\n",
       "      <td>365</td>\n",
       "      <td>15.124636</td>\n",
       "      <td>1</td>\n",
       "      <td>0</td>\n",
       "      <td>0</td>\n",
       "      <td>0</td>\n",
       "      <td>...</td>\n",
       "      <td>0</td>\n",
       "      <td>0</td>\n",
       "      <td>0</td>\n",
       "      <td>0</td>\n",
       "      <td>0</td>\n",
       "      <td>0</td>\n",
       "      <td>0</td>\n",
       "      <td>0</td>\n",
       "      <td>1</td>\n",
       "      <td>0</td>\n",
       "    </tr>\n",
       "  </tbody>\n",
       "</table>\n",
       "<p>1 rows × 231 columns</p>\n",
       "</div>"
      ],
      "text/plain": [
       "      price  minimum_nights  number_of_reviews  \\\n",
       "id                                               \n",
       "2539    149               1                  9   \n",
       "\n",
       "      calculated_host_listings_count  availability_365   distance  \\\n",
       "id                                                                  \n",
       "2539                               6               365  15.124636   \n",
       "\n",
       "      neighbourhood_group_Brooklyn  neighbourhood_group_Manhattan  \\\n",
       "id                                                                  \n",
       "2539                             1                              0   \n",
       "\n",
       "      neighbourhood_group_Queens  neighbourhood_group_Staten Island  ...  \\\n",
       "id                                                                   ...   \n",
       "2539                           0                                  0  ...   \n",
       "\n",
       "      neighbourhood_Williamsbridge  neighbourhood_Williamsburg  \\\n",
       "id                                                               \n",
       "2539                             0                           0   \n",
       "\n",
       "      neighbourhood_Willowbrook  neighbourhood_Windsor Terrace  \\\n",
       "id                                                               \n",
       "2539                          0                              0   \n",
       "\n",
       "      neighbourhood_Woodhaven  neighbourhood_Woodlawn  neighbourhood_Woodrow  \\\n",
       "id                                                                             \n",
       "2539                        0                       0                      0   \n",
       "\n",
       "      neighbourhood_Woodside  room_type_Private room  room_type_Shared room  \n",
       "id                                                                           \n",
       "2539                       0                       1                      0  \n",
       "\n",
       "[1 rows x 231 columns]"
      ]
     },
     "execution_count": 100,
     "metadata": {},
     "output_type": "execute_result"
    }
   ],
   "source": [
    "dummy_data_dropped_not_log.head(1)"
   ]
  },
  {
   "cell_type": "code",
   "execution_count": 101,
   "metadata": {},
   "outputs": [
    {
     "name": "stdout",
     "output_type": "stream",
     "text": [
      "Fitting 5 folds for each of 10 candidates, totalling 50 fits\n"
     ]
    },
    {
     "name": "stderr",
     "output_type": "stream",
     "text": [
      "[Parallel(n_jobs=-1)]: Using backend LokyBackend with 4 concurrent workers.\n",
      "[Parallel(n_jobs=-1)]: Done  42 tasks      | elapsed:   38.0s\n",
      "[Parallel(n_jobs=-1)]: Done  50 out of  50 | elapsed:   45.5s finished\n"
     ]
    },
    {
     "data": {
      "text/html": [
       "<div>\n",
       "<style scoped>\n",
       "    .dataframe tbody tr th:only-of-type {\n",
       "        vertical-align: middle;\n",
       "    }\n",
       "\n",
       "    .dataframe tbody tr th {\n",
       "        vertical-align: top;\n",
       "    }\n",
       "\n",
       "    .dataframe thead th {\n",
       "        text-align: right;\n",
       "    }\n",
       "</style>\n",
       "<table border=\"1\" class=\"dataframe\">\n",
       "  <thead>\n",
       "    <tr style=\"text-align: right;\">\n",
       "      <th></th>\n",
       "      <th>error_type</th>\n",
       "      <th>naive_baseline</th>\n",
       "      <th>lr</th>\n",
       "      <th>lasso_cv</th>\n",
       "      <th>ridge_cv</th>\n",
       "      <th>elastic_cv</th>\n",
       "      <th>rf</th>\n",
       "      <th>rf_cv</th>\n",
       "    </tr>\n",
       "  </thead>\n",
       "  <tbody>\n",
       "    <tr>\n",
       "      <th>0</th>\n",
       "      <td>MAE</td>\n",
       "      <td>65.422724</td>\n",
       "      <td>8.125626e+08</td>\n",
       "      <td>47.146364</td>\n",
       "      <td>47.229135</td>\n",
       "      <td>48.448708</td>\n",
       "      <td>46.416263</td>\n",
       "      <td>45.172177</td>\n",
       "    </tr>\n",
       "    <tr>\n",
       "      <th>1</th>\n",
       "      <td>RMSE</td>\n",
       "      <td>102.618780</td>\n",
       "      <td>4.489378e+10</td>\n",
       "      <td>73.555009</td>\n",
       "      <td>73.519048</td>\n",
       "      <td>76.103157</td>\n",
       "      <td>73.644160</td>\n",
       "      <td>72.083379</td>\n",
       "    </tr>\n",
       "    <tr>\n",
       "      <th>2</th>\n",
       "      <td>R2</td>\n",
       "      <td>-0.119417</td>\n",
       "      <td>-2.142448e+17</td>\n",
       "      <td>0.424875</td>\n",
       "      <td>0.425437</td>\n",
       "      <td>0.384337</td>\n",
       "      <td>0.423480</td>\n",
       "      <td>0.447658</td>\n",
       "    </tr>\n",
       "    <tr>\n",
       "      <th>3</th>\n",
       "      <td>MAPE</td>\n",
       "      <td>52.681899</td>\n",
       "      <td>8.473287e+08</td>\n",
       "      <td>40.064138</td>\n",
       "      <td>40.203861</td>\n",
       "      <td>43.690600</td>\n",
       "      <td>38.737319</td>\n",
       "      <td>38.212545</td>\n",
       "    </tr>\n",
       "  </tbody>\n",
       "</table>\n",
       "</div>"
      ],
      "text/plain": [
       "  error_type  naive_baseline            lr   lasso_cv   ridge_cv  elastic_cv  \\\n",
       "0        MAE       65.422724  8.125626e+08  47.146364  47.229135   48.448708   \n",
       "1       RMSE      102.618780  4.489378e+10  73.555009  73.519048   76.103157   \n",
       "2         R2       -0.119417 -2.142448e+17   0.424875   0.425437    0.384337   \n",
       "3       MAPE       52.681899  8.473287e+08  40.064138  40.203861   43.690600   \n",
       "\n",
       "          rf      rf_cv  \n",
       "0  46.416263  45.172177  \n",
       "1  73.644160  72.083379  \n",
       "2   0.423480   0.447658  \n",
       "3  38.737319  38.212545  "
      ]
     },
     "execution_count": 101,
     "metadata": {},
     "output_type": "execute_result"
    }
   ],
   "source": [
    "show_reuslts(data=dummy_data_dropped_not_log, target_name='price', scaler_class=MinMaxScaler, encoder_slug='dummy')"
   ]
  },
  {
   "cell_type": "code",
   "execution_count": 102,
   "metadata": {},
   "outputs": [
    {
     "name": "stdout",
     "output_type": "stream",
     "text": [
      "Fitting 5 folds for each of 10 candidates, totalling 50 fits\n"
     ]
    },
    {
     "name": "stderr",
     "output_type": "stream",
     "text": [
      "[Parallel(n_jobs=-1)]: Using backend LokyBackend with 4 concurrent workers.\n",
      "[Parallel(n_jobs=-1)]: Done  42 tasks      | elapsed:   35.7s\n",
      "[Parallel(n_jobs=-1)]: Done  50 out of  50 | elapsed:   43.8s finished\n"
     ]
    },
    {
     "data": {
      "text/html": [
       "<div>\n",
       "<style scoped>\n",
       "    .dataframe tbody tr th:only-of-type {\n",
       "        vertical-align: middle;\n",
       "    }\n",
       "\n",
       "    .dataframe tbody tr th {\n",
       "        vertical-align: top;\n",
       "    }\n",
       "\n",
       "    .dataframe thead th {\n",
       "        text-align: right;\n",
       "    }\n",
       "</style>\n",
       "<table border=\"1\" class=\"dataframe\">\n",
       "  <thead>\n",
       "    <tr style=\"text-align: right;\">\n",
       "      <th></th>\n",
       "      <th>error_type</th>\n",
       "      <th>naive_baseline</th>\n",
       "      <th>lr</th>\n",
       "      <th>lasso_cv</th>\n",
       "      <th>ridge_cv</th>\n",
       "      <th>elastic_cv</th>\n",
       "      <th>rf</th>\n",
       "      <th>rf_cv</th>\n",
       "    </tr>\n",
       "  </thead>\n",
       "  <tbody>\n",
       "    <tr>\n",
       "      <th>0</th>\n",
       "      <td>MAE</td>\n",
       "      <td>74.791354</td>\n",
       "      <td>2.427780e+08</td>\n",
       "      <td>56.104636</td>\n",
       "      <td>56.187445</td>\n",
       "      <td>57.454012</td>\n",
       "      <td>53.047326</td>\n",
       "      <td>52.617485</td>\n",
       "    </tr>\n",
       "    <tr>\n",
       "      <th>1</th>\n",
       "      <td>RMSE</td>\n",
       "      <td>123.237322</td>\n",
       "      <td>2.078979e+10</td>\n",
       "      <td>93.457433</td>\n",
       "      <td>93.368118</td>\n",
       "      <td>96.137347</td>\n",
       "      <td>90.587725</td>\n",
       "      <td>89.644445</td>\n",
       "    </tr>\n",
       "    <tr>\n",
       "      <th>2</th>\n",
       "      <td>R2</td>\n",
       "      <td>-0.096197</td>\n",
       "      <td>-3.119640e+16</td>\n",
       "      <td>0.369577</td>\n",
       "      <td>0.370781</td>\n",
       "      <td>0.332904</td>\n",
       "      <td>0.407698</td>\n",
       "      <td>0.419969</td>\n",
       "    </tr>\n",
       "    <tr>\n",
       "      <th>3</th>\n",
       "      <td>MAPE</td>\n",
       "      <td>57.544899</td>\n",
       "      <td>2.043775e+08</td>\n",
       "      <td>43.263897</td>\n",
       "      <td>43.433447</td>\n",
       "      <td>47.332993</td>\n",
       "      <td>39.413645</td>\n",
       "      <td>39.867748</td>\n",
       "    </tr>\n",
       "  </tbody>\n",
       "</table>\n",
       "</div>"
      ],
      "text/plain": [
       "  error_type  naive_baseline            lr   lasso_cv   ridge_cv  elastic_cv  \\\n",
       "0        MAE       74.791354  2.427780e+08  56.104636  56.187445   57.454012   \n",
       "1       RMSE      123.237322  2.078979e+10  93.457433  93.368118   96.137347   \n",
       "2         R2       -0.096197 -3.119640e+16   0.369577   0.370781    0.332904   \n",
       "3       MAPE       57.544899  2.043775e+08  43.263897  43.433447   47.332993   \n",
       "\n",
       "          rf      rf_cv  \n",
       "0  53.047326  52.617485  \n",
       "1  90.587725  89.644445  \n",
       "2   0.407698   0.419969  \n",
       "3  39.413645  39.867748  "
      ]
     },
     "execution_count": 102,
     "metadata": {},
     "output_type": "execute_result"
    }
   ],
   "source": [
    "show_reuslts(data=dummy_data_windowrizated_not_log, target_name='price', scaler_class=MinMaxScaler, encoder_slug='dummy')"
   ]
  },
  {
   "cell_type": "markdown",
   "metadata": {},
   "source": [
    "### Сравним точность логарифмированных данных и обычных"
   ]
  },
  {
   "cell_type": "markdown",
   "metadata": {},
   "source": [
    "### Рассмотрим подробнее лучший вариант - RandomForest, с MAE ~ 0.31"
   ]
  },
  {
   "cell_type": "markdown",
   "metadata": {},
   "source": [
    "### Учитывая, что мы предсказыает логарифм цены, то в абсолютных числах ошибку можно вычислить так:\n",
    "#### для нашего доверительного интервала справедливо\n",
    "```\n",
    "y_pred - предсказанное с помощью нашей модели значение\n",
    "y_true - истинное значение цены для входных данных\n",
    "\n",
    "ln(y_pred) - 0.31 < y_true < ln(y_pred) + 0.31\n",
    "ln(y_pred) - 0.31 < ln(y_true) < ln(y_true) + 0.31\n",
    "ln(y_pred) - 0.31 < ln(y_true) < ln(y_pred) + 0.31\n",
    "ln(y_pred) - log(e^0.31) < ln(y_true) < ln(y_pred) + ln(e^0.31)\n",
    "ln(y_pred/e^0.31) < ln(y_true) < ln(y_pred*e^0.31)\n",
    "\n",
    "e^0.31 ~ 1.36\n",
    "\n",
    "```\n",
    "### Таким образом итоговая погрешность для логарифмированных данных составила +- 36%, в то время как для нелогарифмированных +-53 (доллара), учитывая медианное значение цены - 100 (долларов) это примерно +-50%, таким образом можно сделать вывод о том, что лучше перед обучением логарифмировать целевую переменную"
   ]
  },
  {
   "cell_type": "code",
   "execution_count": 112,
   "metadata": {},
   "outputs": [],
   "source": [
    "clear_data_best_dropped = clear_data_dropped.drop(columns=['price'], axis=1)\n",
    "clear_data_best_windowdrised = clear_data_windowrizated.drop(columns=['price'], axis=1)"
   ]
  },
  {
   "cell_type": "markdown",
   "metadata": {},
   "source": [
    "### Теперь посмотрим как точность предсказания зависит от энкодинга категориальных признаков"
   ]
  },
  {
   "cell_type": "code",
   "execution_count": 113,
   "metadata": {},
   "outputs": [
    {
     "data": {
      "text/html": [
       "<div>\n",
       "<style scoped>\n",
       "    .dataframe tbody tr th:only-of-type {\n",
       "        vertical-align: middle;\n",
       "    }\n",
       "\n",
       "    .dataframe tbody tr th {\n",
       "        vertical-align: top;\n",
       "    }\n",
       "\n",
       "    .dataframe thead th {\n",
       "        text-align: right;\n",
       "    }\n",
       "</style>\n",
       "<table border=\"1\" class=\"dataframe\">\n",
       "  <thead>\n",
       "    <tr style=\"text-align: right;\">\n",
       "      <th></th>\n",
       "      <th>neighbourhood_group</th>\n",
       "      <th>neighbourhood</th>\n",
       "      <th>room_type</th>\n",
       "      <th>minimum_nights</th>\n",
       "      <th>number_of_reviews</th>\n",
       "      <th>calculated_host_listings_count</th>\n",
       "      <th>availability_365</th>\n",
       "      <th>log_price</th>\n",
       "      <th>distance</th>\n",
       "    </tr>\n",
       "    <tr>\n",
       "      <th>id</th>\n",
       "      <th></th>\n",
       "      <th></th>\n",
       "      <th></th>\n",
       "      <th></th>\n",
       "      <th></th>\n",
       "      <th></th>\n",
       "      <th></th>\n",
       "      <th></th>\n",
       "      <th></th>\n",
       "    </tr>\n",
       "  </thead>\n",
       "  <tbody>\n",
       "    <tr>\n",
       "      <th>2539</th>\n",
       "      <td>Brooklyn</td>\n",
       "      <td>Kensington</td>\n",
       "      <td>Private room</td>\n",
       "      <td>1</td>\n",
       "      <td>9</td>\n",
       "      <td>6</td>\n",
       "      <td>365</td>\n",
       "      <td>5.003946</td>\n",
       "      <td>15.124636</td>\n",
       "    </tr>\n",
       "  </tbody>\n",
       "</table>\n",
       "</div>"
      ],
      "text/plain": [
       "     neighbourhood_group neighbourhood     room_type  minimum_nights  \\\n",
       "id                                                                     \n",
       "2539            Brooklyn    Kensington  Private room               1   \n",
       "\n",
       "      number_of_reviews  calculated_host_listings_count  availability_365  \\\n",
       "id                                                                          \n",
       "2539                  9                               6               365   \n",
       "\n",
       "      log_price   distance  \n",
       "id                          \n",
       "2539   5.003946  15.124636  "
      ]
     },
     "execution_count": 113,
     "metadata": {},
     "output_type": "execute_result"
    }
   ],
   "source": [
    "clear_data_best.head(1)"
   ]
  },
  {
   "cell_type": "code",
   "execution_count": 114,
   "metadata": {},
   "outputs": [],
   "source": [
    "encoded_cols = ['neighbourhood_group', 'neighbourhood', 'room_type']"
   ]
  },
  {
   "cell_type": "code",
   "execution_count": 115,
   "metadata": {},
   "outputs": [
    {
     "name": "stderr",
     "output_type": "stream",
     "text": [
      "/Users/user/opt/anaconda3/lib/python3.8/site-packages/category_encoders/utils.py:21: FutureWarning: is_categorical is deprecated and will be removed in a future version.  Use is_categorical_dtype instead\n",
      "  elif pd.api.types.is_categorical(cols):\n"
     ]
    },
    {
     "name": "stdout",
     "output_type": "stream",
     "text": [
      "Fitting 5 folds for each of 10 candidates, totalling 50 fits\n"
     ]
    },
    {
     "name": "stderr",
     "output_type": "stream",
     "text": [
      "[Parallel(n_jobs=-1)]: Using backend LokyBackend with 4 concurrent workers.\n",
      "[Parallel(n_jobs=-1)]: Done  42 tasks      | elapsed:    8.3s\n",
      "[Parallel(n_jobs=-1)]: Done  50 out of  50 | elapsed:   10.1s finished\n"
     ]
    },
    {
     "data": {
      "text/html": [
       "<div>\n",
       "<style scoped>\n",
       "    .dataframe tbody tr th:only-of-type {\n",
       "        vertical-align: middle;\n",
       "    }\n",
       "\n",
       "    .dataframe tbody tr th {\n",
       "        vertical-align: top;\n",
       "    }\n",
       "\n",
       "    .dataframe thead th {\n",
       "        text-align: right;\n",
       "    }\n",
       "</style>\n",
       "<table border=\"1\" class=\"dataframe\">\n",
       "  <thead>\n",
       "    <tr style=\"text-align: right;\">\n",
       "      <th></th>\n",
       "      <th>error_type</th>\n",
       "      <th>naive_baseline</th>\n",
       "      <th>lr</th>\n",
       "      <th>lasso_cv</th>\n",
       "      <th>ridge_cv</th>\n",
       "      <th>elastic_cv</th>\n",
       "      <th>rf</th>\n",
       "      <th>rf_cv</th>\n",
       "    </tr>\n",
       "  </thead>\n",
       "  <tbody>\n",
       "    <tr>\n",
       "      <th>0</th>\n",
       "      <td>MAE</td>\n",
       "      <td>0.521340</td>\n",
       "      <td>0.375575</td>\n",
       "      <td>0.375623</td>\n",
       "      <td>0.375588</td>\n",
       "      <td>0.375636</td>\n",
       "      <td>0.315730</td>\n",
       "      <td>0.310738</td>\n",
       "    </tr>\n",
       "    <tr>\n",
       "      <th>1</th>\n",
       "      <td>RMSE</td>\n",
       "      <td>0.648136</td>\n",
       "      <td>0.509751</td>\n",
       "      <td>0.509778</td>\n",
       "      <td>0.509754</td>\n",
       "      <td>0.509781</td>\n",
       "      <td>0.416262</td>\n",
       "      <td>0.410898</td>\n",
       "    </tr>\n",
       "    <tr>\n",
       "      <th>2</th>\n",
       "      <td>R2</td>\n",
       "      <td>-0.018533</td>\n",
       "      <td>0.369974</td>\n",
       "      <td>0.369908</td>\n",
       "      <td>0.369967</td>\n",
       "      <td>0.369901</td>\n",
       "      <td>0.579878</td>\n",
       "      <td>0.590635</td>\n",
       "    </tr>\n",
       "    <tr>\n",
       "      <th>3</th>\n",
       "      <td>MAPE</td>\n",
       "      <td>11.177444</td>\n",
       "      <td>8.181751</td>\n",
       "      <td>8.182728</td>\n",
       "      <td>8.182043</td>\n",
       "      <td>8.182999</td>\n",
       "      <td>6.788225</td>\n",
       "      <td>6.680875</td>\n",
       "    </tr>\n",
       "  </tbody>\n",
       "</table>\n",
       "</div>"
      ],
      "text/plain": [
       "  error_type  naive_baseline        lr  lasso_cv  ridge_cv  elastic_cv  \\\n",
       "0        MAE        0.521340  0.375575  0.375623  0.375588    0.375636   \n",
       "1       RMSE        0.648136  0.509751  0.509778  0.509754    0.509781   \n",
       "2         R2       -0.018533  0.369974  0.369908  0.369967    0.369901   \n",
       "3       MAPE       11.177444  8.181751  8.182728  8.182043    8.182999   \n",
       "\n",
       "         rf     rf_cv  \n",
       "0  0.315730  0.310738  \n",
       "1  0.416262  0.410898  \n",
       "2  0.579878  0.590635  \n",
       "3  6.788225  6.680875  "
      ]
     },
     "execution_count": 115,
     "metadata": {},
     "output_type": "execute_result"
    }
   ],
   "source": [
    "show_reuslts(\n",
    "    data=clear_data_best_dropped, \n",
    "    target_name='log_price', \n",
    "    scaler_class=StandardScaler, \n",
    "    encoder_slug='ordinal', \n",
    "    encoded_cols=encoded_cols\n",
    ")"
   ]
  },
  {
   "cell_type": "code",
   "execution_count": 116,
   "metadata": {},
   "outputs": [
    {
     "name": "stderr",
     "output_type": "stream",
     "text": [
      "/Users/user/opt/anaconda3/lib/python3.8/site-packages/category_encoders/utils.py:21: FutureWarning: is_categorical is deprecated and will be removed in a future version.  Use is_categorical_dtype instead\n",
      "  elif pd.api.types.is_categorical(cols):\n"
     ]
    },
    {
     "name": "stdout",
     "output_type": "stream",
     "text": [
      "Fitting 5 folds for each of 10 candidates, totalling 50 fits\n"
     ]
    },
    {
     "name": "stderr",
     "output_type": "stream",
     "text": [
      "[Parallel(n_jobs=-1)]: Using backend LokyBackend with 4 concurrent workers.\n",
      "[Parallel(n_jobs=-1)]: Done  42 tasks      | elapsed:    8.7s\n",
      "[Parallel(n_jobs=-1)]: Done  50 out of  50 | elapsed:   10.6s finished\n"
     ]
    },
    {
     "data": {
      "text/html": [
       "<div>\n",
       "<style scoped>\n",
       "    .dataframe tbody tr th:only-of-type {\n",
       "        vertical-align: middle;\n",
       "    }\n",
       "\n",
       "    .dataframe tbody tr th {\n",
       "        vertical-align: top;\n",
       "    }\n",
       "\n",
       "    .dataframe thead th {\n",
       "        text-align: right;\n",
       "    }\n",
       "</style>\n",
       "<table border=\"1\" class=\"dataframe\">\n",
       "  <thead>\n",
       "    <tr style=\"text-align: right;\">\n",
       "      <th></th>\n",
       "      <th>error_type</th>\n",
       "      <th>naive_baseline</th>\n",
       "      <th>lr</th>\n",
       "      <th>lasso_cv</th>\n",
       "      <th>ridge_cv</th>\n",
       "      <th>elastic_cv</th>\n",
       "      <th>rf</th>\n",
       "      <th>rf_cv</th>\n",
       "    </tr>\n",
       "  </thead>\n",
       "  <tbody>\n",
       "    <tr>\n",
       "      <th>0</th>\n",
       "      <td>MAE</td>\n",
       "      <td>0.509281</td>\n",
       "      <td>0.312862</td>\n",
       "      <td>0.312844</td>\n",
       "      <td>0.312859</td>\n",
       "      <td>0.312841</td>\n",
       "      <td>0.309926</td>\n",
       "      <td>0.299133</td>\n",
       "    </tr>\n",
       "    <tr>\n",
       "      <th>1</th>\n",
       "      <td>RMSE</td>\n",
       "      <td>0.633221</td>\n",
       "      <td>0.411149</td>\n",
       "      <td>0.411129</td>\n",
       "      <td>0.411147</td>\n",
       "      <td>0.411127</td>\n",
       "      <td>0.410449</td>\n",
       "      <td>0.396376</td>\n",
       "    </tr>\n",
       "    <tr>\n",
       "      <th>2</th>\n",
       "      <td>R2</td>\n",
       "      <td>-0.018125</td>\n",
       "      <td>0.570770</td>\n",
       "      <td>0.570812</td>\n",
       "      <td>0.570776</td>\n",
       "      <td>0.570817</td>\n",
       "      <td>0.572230</td>\n",
       "      <td>0.601063</td>\n",
       "    </tr>\n",
       "    <tr>\n",
       "      <th>3</th>\n",
       "      <td>MAPE</td>\n",
       "      <td>10.907900</td>\n",
       "      <td>6.714754</td>\n",
       "      <td>6.714567</td>\n",
       "      <td>6.714724</td>\n",
       "      <td>6.714536</td>\n",
       "      <td>6.650995</td>\n",
       "      <td>6.413061</td>\n",
       "    </tr>\n",
       "  </tbody>\n",
       "</table>\n",
       "</div>"
      ],
      "text/plain": [
       "  error_type  naive_baseline        lr  lasso_cv  ridge_cv  elastic_cv  \\\n",
       "0        MAE        0.509281  0.312862  0.312844  0.312859    0.312841   \n",
       "1       RMSE        0.633221  0.411149  0.411129  0.411147    0.411127   \n",
       "2         R2       -0.018125  0.570770  0.570812  0.570776    0.570817   \n",
       "3       MAPE       10.907900  6.714754  6.714567  6.714724    6.714536   \n",
       "\n",
       "         rf     rf_cv  \n",
       "0  0.309926  0.299133  \n",
       "1  0.410449  0.396376  \n",
       "2  0.572230  0.601063  \n",
       "3  6.650995  6.413061  "
      ]
     },
     "execution_count": 116,
     "metadata": {},
     "output_type": "execute_result"
    }
   ],
   "source": [
    "show_reuslts(\n",
    "    data=clear_data_best_dropped, \n",
    "    target_name='log_price', \n",
    "    scaler_class=StandardScaler, \n",
    "    encoder_slug='catboost', \n",
    "    encoded_cols=encoded_cols\n",
    ")"
   ]
  },
  {
   "cell_type": "code",
   "execution_count": 117,
   "metadata": {},
   "outputs": [
    {
     "name": "stderr",
     "output_type": "stream",
     "text": [
      "/Users/user/opt/anaconda3/lib/python3.8/site-packages/category_encoders/utils.py:21: FutureWarning: is_categorical is deprecated and will be removed in a future version.  Use is_categorical_dtype instead\n",
      "  elif pd.api.types.is_categorical(cols):\n"
     ]
    },
    {
     "name": "stdout",
     "output_type": "stream",
     "text": [
      "Fitting 5 folds for each of 10 candidates, totalling 50 fits\n"
     ]
    },
    {
     "name": "stderr",
     "output_type": "stream",
     "text": [
      "[Parallel(n_jobs=-1)]: Using backend LokyBackend with 4 concurrent workers.\n",
      "[Parallel(n_jobs=-1)]: Done  42 tasks      | elapsed:   11.2s\n",
      "[Parallel(n_jobs=-1)]: Done  50 out of  50 | elapsed:   13.5s finished\n"
     ]
    },
    {
     "data": {
      "text/html": [
       "<div>\n",
       "<style scoped>\n",
       "    .dataframe tbody tr th:only-of-type {\n",
       "        vertical-align: middle;\n",
       "    }\n",
       "\n",
       "    .dataframe tbody tr th {\n",
       "        vertical-align: top;\n",
       "    }\n",
       "\n",
       "    .dataframe thead th {\n",
       "        text-align: right;\n",
       "    }\n",
       "</style>\n",
       "<table border=\"1\" class=\"dataframe\">\n",
       "  <thead>\n",
       "    <tr style=\"text-align: right;\">\n",
       "      <th></th>\n",
       "      <th>error_type</th>\n",
       "      <th>naive_baseline</th>\n",
       "      <th>lr</th>\n",
       "      <th>lasso_cv</th>\n",
       "      <th>ridge_cv</th>\n",
       "      <th>elastic_cv</th>\n",
       "      <th>rf</th>\n",
       "      <th>rf_cv</th>\n",
       "    </tr>\n",
       "  </thead>\n",
       "  <tbody>\n",
       "    <tr>\n",
       "      <th>0</th>\n",
       "      <td>MAE</td>\n",
       "      <td>0.555439</td>\n",
       "      <td>0.364934</td>\n",
       "      <td>0.364888</td>\n",
       "      <td>0.364933</td>\n",
       "      <td>0.364886</td>\n",
       "      <td>0.327675</td>\n",
       "      <td>0.322908</td>\n",
       "    </tr>\n",
       "    <tr>\n",
       "      <th>1</th>\n",
       "      <td>RMSE</td>\n",
       "      <td>0.702680</td>\n",
       "      <td>0.499529</td>\n",
       "      <td>0.499517</td>\n",
       "      <td>0.499530</td>\n",
       "      <td>0.499520</td>\n",
       "      <td>0.457416</td>\n",
       "      <td>0.449864</td>\n",
       "    </tr>\n",
       "    <tr>\n",
       "      <th>2</th>\n",
       "      <td>R2</td>\n",
       "      <td>-0.005112</td>\n",
       "      <td>0.492051</td>\n",
       "      <td>0.492075</td>\n",
       "      <td>0.492048</td>\n",
       "      <td>0.492069</td>\n",
       "      <td>0.574085</td>\n",
       "      <td>0.588034</td>\n",
       "    </tr>\n",
       "    <tr>\n",
       "      <th>3</th>\n",
       "      <td>MAPE</td>\n",
       "      <td>11.888778</td>\n",
       "      <td>7.725342</td>\n",
       "      <td>7.724515</td>\n",
       "      <td>7.725349</td>\n",
       "      <td>7.724537</td>\n",
       "      <td>6.930211</td>\n",
       "      <td>6.818668</td>\n",
       "    </tr>\n",
       "  </tbody>\n",
       "</table>\n",
       "</div>"
      ],
      "text/plain": [
       "  error_type  naive_baseline        lr  lasso_cv  ridge_cv  elastic_cv  \\\n",
       "0        MAE        0.555439  0.364934  0.364888  0.364933    0.364886   \n",
       "1       RMSE        0.702680  0.499529  0.499517  0.499530    0.499520   \n",
       "2         R2       -0.005112  0.492051  0.492075  0.492048    0.492069   \n",
       "3       MAPE       11.888778  7.725342  7.724515  7.725349    7.724537   \n",
       "\n",
       "         rf     rf_cv  \n",
       "0  0.327675  0.322908  \n",
       "1  0.457416  0.449864  \n",
       "2  0.574085  0.588034  \n",
       "3  6.930211  6.818668  "
      ]
     },
     "execution_count": 117,
     "metadata": {},
     "output_type": "execute_result"
    }
   ],
   "source": [
    "show_reuslts(\n",
    "    data=clear_data_best_windowdrised, \n",
    "    target_name='log_price', \n",
    "    scaler_class=StandardScaler, \n",
    "    encoder_slug='ordinal', \n",
    "    encoded_cols=encoded_cols\n",
    ")"
   ]
  },
  {
   "cell_type": "code",
   "execution_count": 118,
   "metadata": {},
   "outputs": [
    {
     "name": "stderr",
     "output_type": "stream",
     "text": [
      "/Users/user/opt/anaconda3/lib/python3.8/site-packages/category_encoders/utils.py:21: FutureWarning: is_categorical is deprecated and will be removed in a future version.  Use is_categorical_dtype instead\n",
      "  elif pd.api.types.is_categorical(cols):\n"
     ]
    },
    {
     "name": "stdout",
     "output_type": "stream",
     "text": [
      "Fitting 5 folds for each of 10 candidates, totalling 50 fits\n"
     ]
    },
    {
     "name": "stderr",
     "output_type": "stream",
     "text": [
      "[Parallel(n_jobs=-1)]: Using backend LokyBackend with 4 concurrent workers.\n",
      "[Parallel(n_jobs=-1)]: Done  42 tasks      | elapsed:   10.3s\n",
      "[Parallel(n_jobs=-1)]: Done  50 out of  50 | elapsed:   12.6s finished\n"
     ]
    },
    {
     "data": {
      "text/html": [
       "<div>\n",
       "<style scoped>\n",
       "    .dataframe tbody tr th:only-of-type {\n",
       "        vertical-align: middle;\n",
       "    }\n",
       "\n",
       "    .dataframe tbody tr th {\n",
       "        vertical-align: top;\n",
       "    }\n",
       "\n",
       "    .dataframe thead th {\n",
       "        text-align: right;\n",
       "    }\n",
       "</style>\n",
       "<table border=\"1\" class=\"dataframe\">\n",
       "  <thead>\n",
       "    <tr style=\"text-align: right;\">\n",
       "      <th></th>\n",
       "      <th>error_type</th>\n",
       "      <th>naive_baseline</th>\n",
       "      <th>lr</th>\n",
       "      <th>lasso_cv</th>\n",
       "      <th>ridge_cv</th>\n",
       "      <th>elastic_cv</th>\n",
       "      <th>rf</th>\n",
       "      <th>rf_cv</th>\n",
       "    </tr>\n",
       "  </thead>\n",
       "  <tbody>\n",
       "    <tr>\n",
       "      <th>0</th>\n",
       "      <td>MAE</td>\n",
       "      <td>0.553478</td>\n",
       "      <td>0.337424</td>\n",
       "      <td>0.337398</td>\n",
       "      <td>0.337421</td>\n",
       "      <td>0.337395</td>\n",
       "      <td>0.324475</td>\n",
       "      <td>0.316757</td>\n",
       "    </tr>\n",
       "    <tr>\n",
       "      <th>1</th>\n",
       "      <td>RMSE</td>\n",
       "      <td>0.700812</td>\n",
       "      <td>0.471970</td>\n",
       "      <td>0.471974</td>\n",
       "      <td>0.471970</td>\n",
       "      <td>0.471974</td>\n",
       "      <td>0.458657</td>\n",
       "      <td>0.447905</td>\n",
       "    </tr>\n",
       "    <tr>\n",
       "      <th>2</th>\n",
       "      <td>R2</td>\n",
       "      <td>-0.002491</td>\n",
       "      <td>0.545319</td>\n",
       "      <td>0.545312</td>\n",
       "      <td>0.545319</td>\n",
       "      <td>0.545312</td>\n",
       "      <td>0.570608</td>\n",
       "      <td>0.590504</td>\n",
       "    </tr>\n",
       "    <tr>\n",
       "      <th>3</th>\n",
       "      <td>MAPE</td>\n",
       "      <td>11.886119</td>\n",
       "      <td>7.107522</td>\n",
       "      <td>7.107229</td>\n",
       "      <td>7.107532</td>\n",
       "      <td>7.107256</td>\n",
       "      <td>6.843426</td>\n",
       "      <td>6.676545</td>\n",
       "    </tr>\n",
       "  </tbody>\n",
       "</table>\n",
       "</div>"
      ],
      "text/plain": [
       "  error_type  naive_baseline        lr  lasso_cv  ridge_cv  elastic_cv  \\\n",
       "0        MAE        0.553478  0.337424  0.337398  0.337421    0.337395   \n",
       "1       RMSE        0.700812  0.471970  0.471974  0.471970    0.471974   \n",
       "2         R2       -0.002491  0.545319  0.545312  0.545319    0.545312   \n",
       "3       MAPE       11.886119  7.107522  7.107229  7.107532    7.107256   \n",
       "\n",
       "         rf     rf_cv  \n",
       "0  0.324475  0.316757  \n",
       "1  0.458657  0.447905  \n",
       "2  0.570608  0.590504  \n",
       "3  6.843426  6.676545  "
      ]
     },
     "execution_count": 118,
     "metadata": {},
     "output_type": "execute_result"
    }
   ],
   "source": [
    "show_reuslts(\n",
    "    data=clear_data_best_windowdrised, \n",
    "    target_name='log_price', \n",
    "    scaler_class=StandardScaler, \n",
    "    encoder_slug='catboost', \n",
    "    encoded_cols=encoded_cols\n",
    ")"
   ]
  },
  {
   "cell_type": "markdown",
   "metadata": {},
   "source": [
    "### Наилучший результат для линейных моделей достигается на данных с удаленными аномалиями, логарифмированной ценой и применением алгоритма \"catboost\" для энкодинга строковых значений"
   ]
  },
  {
   "cell_type": "markdown",
   "metadata": {},
   "source": [
    "### Все линейные модели показали примерно одинаковый результат, давайте возьмем одну из них и посмотрим на веса признаков"
   ]
  },
  {
   "cell_type": "code",
   "execution_count": null,
   "metadata": {},
   "outputs": [],
   "source": []
  }
 ],
 "metadata": {
  "kernelspec": {
   "display_name": "Python 3",
   "language": "python",
   "name": "python3"
  },
  "language_info": {
   "codemirror_mode": {
    "name": "ipython",
    "version": 3
   },
   "file_extension": ".py",
   "mimetype": "text/x-python",
   "name": "python",
   "nbconvert_exporter": "python",
   "pygments_lexer": "ipython3",
   "version": "3.8.3"
  }
 },
 "nbformat": 4,
 "nbformat_minor": 4
}
