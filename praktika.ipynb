{
 "cells": [
  {
   "cell_type": "raw",
   "metadata": {},
   "source": [
    "# Regression"
   ]
  },
  {
   "cell_type": "code",
   "execution_count": 1,
   "metadata": {},
   "outputs": [],
   "source": [
    "import pandas as pd\n",
    "import numpy as np\n",
    "import matplotlib.pyplot as plt\n",
    "import seaborn as sns\n",
    "\n",
    "import warnings\n",
    "warnings.filterwarnings(\"ignore\")\n",
    "\n",
    "%matplotlib inline"
   ]
  },
  {
   "cell_type": "code",
   "execution_count": 2,
   "metadata": {},
   "outputs": [],
   "source": [
    "data = pd.read_csv(\"data/appstore_games.csv\")"
   ]
  },
  {
   "cell_type": "code",
   "execution_count": 4,
   "metadata": {},
   "outputs": [
    {
     "data": {
      "text/html": [
       "<div>\n",
       "<style scoped>\n",
       "    .dataframe tbody tr th:only-of-type {\n",
       "        vertical-align: middle;\n",
       "    }\n",
       "\n",
       "    .dataframe tbody tr th {\n",
       "        vertical-align: top;\n",
       "    }\n",
       "\n",
       "    .dataframe thead th {\n",
       "        text-align: right;\n",
       "    }\n",
       "</style>\n",
       "<table border=\"1\" class=\"dataframe\">\n",
       "  <thead>\n",
       "    <tr style=\"text-align: right;\">\n",
       "      <th></th>\n",
       "      <th>URL</th>\n",
       "      <th>ID</th>\n",
       "      <th>Name</th>\n",
       "      <th>Subtitle</th>\n",
       "      <th>Icon URL</th>\n",
       "      <th>Average User Rating</th>\n",
       "      <th>User Rating Count</th>\n",
       "      <th>Price</th>\n",
       "      <th>In-app Purchases</th>\n",
       "      <th>Description</th>\n",
       "      <th>Developer</th>\n",
       "      <th>Age Rating</th>\n",
       "      <th>Languages</th>\n",
       "      <th>Size</th>\n",
       "      <th>Primary Genre</th>\n",
       "      <th>Genres</th>\n",
       "      <th>Original Release Date</th>\n",
       "      <th>Current Version Release Date</th>\n",
       "    </tr>\n",
       "  </thead>\n",
       "  <tbody>\n",
       "    <tr>\n",
       "      <th>0</th>\n",
       "      <td>https://apps.apple.com/us/app/sudoku/id284921427</td>\n",
       "      <td>284921427</td>\n",
       "      <td>Sudoku</td>\n",
       "      <td>NaN</td>\n",
       "      <td>https://is2-ssl.mzstatic.com/image/thumb/Purpl...</td>\n",
       "      <td>4.0</td>\n",
       "      <td>3553.0</td>\n",
       "      <td>2.99</td>\n",
       "      <td>NaN</td>\n",
       "      <td>Join over 21,000,000 of our fans and download ...</td>\n",
       "      <td>Mighty Mighty Good Games</td>\n",
       "      <td>4+</td>\n",
       "      <td>DA, NL, EN, FI, FR, DE, IT, JA, KO, NB, PL, PT...</td>\n",
       "      <td>15853568.0</td>\n",
       "      <td>Games</td>\n",
       "      <td>Games, Strategy, Puzzle</td>\n",
       "      <td>11/07/2008</td>\n",
       "      <td>30/05/2017</td>\n",
       "    </tr>\n",
       "    <tr>\n",
       "      <th>1</th>\n",
       "      <td>https://apps.apple.com/us/app/reversi/id284926400</td>\n",
       "      <td>284926400</td>\n",
       "      <td>Reversi</td>\n",
       "      <td>NaN</td>\n",
       "      <td>https://is4-ssl.mzstatic.com/image/thumb/Purpl...</td>\n",
       "      <td>3.5</td>\n",
       "      <td>284.0</td>\n",
       "      <td>1.99</td>\n",
       "      <td>NaN</td>\n",
       "      <td>The classic game of Reversi, also known as Oth...</td>\n",
       "      <td>Kiss The Machine</td>\n",
       "      <td>4+</td>\n",
       "      <td>EN</td>\n",
       "      <td>12328960.0</td>\n",
       "      <td>Games</td>\n",
       "      <td>Games, Strategy, Board</td>\n",
       "      <td>11/07/2008</td>\n",
       "      <td>17/05/2018</td>\n",
       "    </tr>\n",
       "  </tbody>\n",
       "</table>\n",
       "</div>"
      ],
      "text/plain": [
       "                                                 URL         ID     Name  \\\n",
       "0   https://apps.apple.com/us/app/sudoku/id284921427  284921427   Sudoku   \n",
       "1  https://apps.apple.com/us/app/reversi/id284926400  284926400  Reversi   \n",
       "\n",
       "  Subtitle                                           Icon URL  \\\n",
       "0      NaN  https://is2-ssl.mzstatic.com/image/thumb/Purpl...   \n",
       "1      NaN  https://is4-ssl.mzstatic.com/image/thumb/Purpl...   \n",
       "\n",
       "   Average User Rating  User Rating Count  Price In-app Purchases  \\\n",
       "0                  4.0             3553.0   2.99              NaN   \n",
       "1                  3.5              284.0   1.99              NaN   \n",
       "\n",
       "                                         Description  \\\n",
       "0  Join over 21,000,000 of our fans and download ...   \n",
       "1  The classic game of Reversi, also known as Oth...   \n",
       "\n",
       "                  Developer Age Rating  \\\n",
       "0  Mighty Mighty Good Games         4+   \n",
       "1          Kiss The Machine         4+   \n",
       "\n",
       "                                           Languages        Size  \\\n",
       "0  DA, NL, EN, FI, FR, DE, IT, JA, KO, NB, PL, PT...  15853568.0   \n",
       "1                                                 EN  12328960.0   \n",
       "\n",
       "  Primary Genre                   Genres Original Release Date  \\\n",
       "0         Games  Games, Strategy, Puzzle            11/07/2008   \n",
       "1         Games   Games, Strategy, Board            11/07/2008   \n",
       "\n",
       "  Current Version Release Date  \n",
       "0                   30/05/2017  \n",
       "1                   17/05/2018  "
      ]
     },
     "execution_count": 4,
     "metadata": {},
     "output_type": "execute_result"
    }
   ],
   "source": [
    "data.head(2)"
   ]
  },
  {
   "cell_type": "code",
   "execution_count": 5,
   "metadata": {},
   "outputs": [
    {
     "data": {
      "text/plain": [
       "(17007, 18)"
      ]
     },
     "execution_count": 5,
     "metadata": {},
     "output_type": "execute_result"
    }
   ],
   "source": [
    "data.shape"
   ]
  },
  {
   "cell_type": "code",
   "execution_count": 7,
   "metadata": {},
   "outputs": [
    {
     "data": {
      "text/html": [
       "<div>\n",
       "<style scoped>\n",
       "    .dataframe tbody tr th:only-of-type {\n",
       "        vertical-align: middle;\n",
       "    }\n",
       "\n",
       "    .dataframe tbody tr th {\n",
       "        vertical-align: top;\n",
       "    }\n",
       "\n",
       "    .dataframe thead th {\n",
       "        text-align: right;\n",
       "    }\n",
       "</style>\n",
       "<table border=\"1\" class=\"dataframe\">\n",
       "  <thead>\n",
       "    <tr style=\"text-align: right;\">\n",
       "      <th></th>\n",
       "      <th>URL</th>\n",
       "      <th>ID</th>\n",
       "      <th>Name</th>\n",
       "      <th>Subtitle</th>\n",
       "      <th>Icon URL</th>\n",
       "      <th>Average User Rating</th>\n",
       "      <th>User Rating Count</th>\n",
       "      <th>Price</th>\n",
       "      <th>In-app Purchases</th>\n",
       "      <th>Description</th>\n",
       "      <th>Developer</th>\n",
       "      <th>Age Rating</th>\n",
       "      <th>Languages</th>\n",
       "      <th>Size</th>\n",
       "      <th>Primary Genre</th>\n",
       "      <th>Genres</th>\n",
       "      <th>Original Release Date</th>\n",
       "      <th>Current Version Release Date</th>\n",
       "    </tr>\n",
       "  </thead>\n",
       "  <tbody>\n",
       "    <tr>\n",
       "      <th>17005</th>\n",
       "      <td>https://apps.apple.com/us/app/fatall/id1474963671</td>\n",
       "      <td>1474963671</td>\n",
       "      <td>FaTaLL</td>\n",
       "      <td>Most fun game!!!</td>\n",
       "      <td>https://is1-ssl.mzstatic.com/image/thumb/Purpl...</td>\n",
       "      <td>NaN</td>\n",
       "      <td>NaN</td>\n",
       "      <td>0.0</td>\n",
       "      <td>9.99, 49.99, 3.99</td>\n",
       "      <td>Upgrade your character and use your skills to ...</td>\n",
       "      <td>Tayrem Games</td>\n",
       "      <td>4+</td>\n",
       "      <td>EN</td>\n",
       "      <td>196750336.0</td>\n",
       "      <td>Games</td>\n",
       "      <td>Games, Strategy, Action</td>\n",
       "      <td>1/08/2019</td>\n",
       "      <td>1/08/2019</td>\n",
       "    </tr>\n",
       "    <tr>\n",
       "      <th>17006</th>\n",
       "      <td>https://apps.apple.com/us/app/the-three-kingdo...</td>\n",
       "      <td>1475076711</td>\n",
       "      <td>The Three Kingdoms :Bomb</td>\n",
       "      <td>NaN</td>\n",
       "      <td>https://is1-ssl.mzstatic.com/image/thumb/Purpl...</td>\n",
       "      <td>NaN</td>\n",
       "      <td>NaN</td>\n",
       "      <td>0.0</td>\n",
       "      <td>NaN</td>\n",
       "      <td>The protagonist uses the method of placing a b...</td>\n",
       "      <td>ming bo tang</td>\n",
       "      <td>4+</td>\n",
       "      <td>EN, ZH</td>\n",
       "      <td>22952960.0</td>\n",
       "      <td>Games</td>\n",
       "      <td>Games, Strategy, Puzzle</td>\n",
       "      <td>2/08/2019</td>\n",
       "      <td>2/08/2019</td>\n",
       "    </tr>\n",
       "  </tbody>\n",
       "</table>\n",
       "</div>"
      ],
      "text/plain": [
       "                                                     URL          ID  \\\n",
       "17005  https://apps.apple.com/us/app/fatall/id1474963671  1474963671   \n",
       "17006  https://apps.apple.com/us/app/the-three-kingdo...  1475076711   \n",
       "\n",
       "                           Name          Subtitle  \\\n",
       "17005                    FaTaLL  Most fun game!!!   \n",
       "17006  The Three Kingdoms :Bomb               NaN   \n",
       "\n",
       "                                                Icon URL  Average User Rating  \\\n",
       "17005  https://is1-ssl.mzstatic.com/image/thumb/Purpl...                  NaN   \n",
       "17006  https://is1-ssl.mzstatic.com/image/thumb/Purpl...                  NaN   \n",
       "\n",
       "       User Rating Count  Price   In-app Purchases  \\\n",
       "17005                NaN    0.0  9.99, 49.99, 3.99   \n",
       "17006                NaN    0.0                NaN   \n",
       "\n",
       "                                             Description     Developer  \\\n",
       "17005  Upgrade your character and use your skills to ...  Tayrem Games   \n",
       "17006  The protagonist uses the method of placing a b...  ming bo tang   \n",
       "\n",
       "      Age Rating Languages         Size Primary Genre  \\\n",
       "17005         4+        EN  196750336.0         Games   \n",
       "17006         4+    EN, ZH   22952960.0         Games   \n",
       "\n",
       "                        Genres Original Release Date  \\\n",
       "17005  Games, Strategy, Action             1/08/2019   \n",
       "17006  Games, Strategy, Puzzle             2/08/2019   \n",
       "\n",
       "      Current Version Release Date  \n",
       "17005                    1/08/2019  \n",
       "17006                    2/08/2019  "
      ]
     },
     "execution_count": 7,
     "metadata": {},
     "output_type": "execute_result"
    }
   ],
   "source": [
    "data.tail(2)"
   ]
  },
  {
   "cell_type": "markdown",
   "metadata": {},
   "source": [
    "# EDA & Preprocessing"
   ]
  },
  {
   "cell_type": "code",
   "execution_count": 276,
   "metadata": {},
   "outputs": [],
   "source": [
    "to_drop = [\n",
    "    'URL', 'ID', 'Icon URL', \n",
    "    'Name', 'Subtitle', 'In-app Purchases',\n",
    "    'Description', 'Languages',\n",
    "    'Primary Genre', 'Current Version Release Date', \n",
    "    'Original Release Date', 'Genres', 'Developer'\n",
    "]"
   ]
  },
  {
   "cell_type": "markdown",
   "metadata": {},
   "source": [
    "## Duplicates"
   ]
  },
  {
   "cell_type": "code",
   "execution_count": 17,
   "metadata": {},
   "outputs": [],
   "source": [
    "data = data[~data.duplicated()]"
   ]
  },
  {
   "cell_type": "code",
   "execution_count": 19,
   "metadata": {},
   "outputs": [
    {
     "data": {
      "text/plain": [
       "(16847, 18)"
      ]
     },
     "execution_count": 19,
     "metadata": {},
     "output_type": "execute_result"
    }
   ],
   "source": [
    "data.shape"
   ]
  },
  {
   "cell_type": "markdown",
   "metadata": {},
   "source": [
    "## Name"
   ]
  },
  {
   "cell_type": "code",
   "execution_count": 18,
   "metadata": {},
   "outputs": [
    {
     "data": {
      "text/plain": [
       "Pocket Star Saga                                               1\n",
       "Edge Of Sanity                                                 1\n",
       "Backgammon - The Board Game                                    1\n",
       "Modern Counter Terror FPS                                      1\n",
       "Battle Dungeon: Risen Lite                                     1\n",
       "                                                              ..\n",
       "Pool Trick Shots - Billiard Drills & Snooker Challenge Game    1\n",
       "Crazy City Race:Real Racing Simulation                         1\n",
       "Hungry Dragon FREE                                             1\n",
       "MINImax Tinyverse                                              1\n",
       "Rob the Vault                                                  1\n",
       "Name: Name, Length: 16847, dtype: int64"
      ]
     },
     "execution_count": 18,
     "metadata": {},
     "output_type": "execute_result"
    }
   ],
   "source": [
    "data['Name'].value_counts()"
   ]
  },
  {
   "cell_type": "code",
   "execution_count": 23,
   "metadata": {},
   "outputs": [],
   "source": [
    "data['name_length'] = data['Name'].apply(len)"
   ]
  },
  {
   "cell_type": "code",
   "execution_count": 25,
   "metadata": {},
   "outputs": [
    {
     "data": {
      "image/png": "[encoded data removed]",
      "text/plain": [
       "<Figure size 432x288 with 1 Axes>"
      ]
     },
     "metadata": {
      "needs_background": "light"
     },
     "output_type": "display_data"
    }
   ],
   "source": [
    "data['name_length'].hist()\n",
    "plt.title(\"Name length distribution\")\n",
    "sns.despine()\n",
    "plt.show()"
   ]
  },
  {
   "cell_type": "code",
   "execution_count": 30,
   "metadata": {},
   "outputs": [
    {
     "data": {
      "text/plain": [
       "['Sudoku', '(Free)']"
      ]
     },
     "execution_count": 30,
     "metadata": {},
     "output_type": "execute_result"
    }
   ],
   "source": [
    "data['Name'][3].split()"
   ]
  },
  {
   "cell_type": "code",
   "execution_count": 32,
   "metadata": {},
   "outputs": [],
   "source": [
    "data['name_words_count'] = data['Name'].str.split().apply(len)"
   ]
  },
  {
   "cell_type": "code",
   "execution_count": 33,
   "metadata": {},
   "outputs": [
    {
     "data": {
      "text/plain": [
       "<matplotlib.axes._subplots.AxesSubplot at 0x1284629b0>"
      ]
     },
     "execution_count": 33,
     "metadata": {},
     "output_type": "execute_result"
    },
    {
     "data": {
      "image/png": "[encoded data removed]",
      "text/plain": [
       "<Figure size 432x288 with 1 Axes>"
      ]
     },
     "metadata": {
      "needs_background": "light"
     },
     "output_type": "display_data"
    }
   ],
   "source": [
    "data['name_words_count'].hist()"
   ]
  },
  {
   "cell_type": "code",
   "execution_count": 40,
   "metadata": {},
   "outputs": [
    {
     "data": {
      "text/plain": [
       "array(['Bubble Popping King Saga Free - Smash hit bubble trouble buster mania crush deluxe game struggle super memory match wrap blast break unblock pops up 2048 math skyline shotter heros juegos gratis bubble tea board puzzle bubble finder blitz twist spiele'],\n",
       "      dtype=object)"
      ]
     },
     "execution_count": 40,
     "metadata": {},
     "output_type": "execute_result"
    }
   ],
   "source": [
    "data[data.name_words_count == data['name_words_count'].max()].Name.values"
   ]
  },
  {
   "cell_type": "markdown",
   "metadata": {},
   "source": [
    "## Subtitle"
   ]
  },
  {
   "cell_type": "code",
   "execution_count": 44,
   "metadata": {},
   "outputs": [
    {
     "data": {
      "text/plain": [
       "0.6906274114085594"
      ]
     },
     "execution_count": 44,
     "metadata": {},
     "output_type": "execute_result"
    }
   ],
   "source": [
    "data['Subtitle'].isnull().sum()/data.shape[0]"
   ]
  },
  {
   "cell_type": "code",
   "execution_count": 45,
   "metadata": {},
   "outputs": [],
   "source": [
    "data['subtitle_is_null'] = data['Subtitle'].isnull()"
   ]
  },
  {
   "cell_type": "code",
   "execution_count": 46,
   "metadata": {},
   "outputs": [
    {
     "data": {
      "text/plain": [
       "True     11635\n",
       "False     5212\n",
       "Name: subtitle_is_null, dtype: int64"
      ]
     },
     "execution_count": 46,
     "metadata": {},
     "output_type": "execute_result"
    }
   ],
   "source": [
    "data['subtitle_is_null'].value_counts()"
   ]
  },
  {
   "cell_type": "markdown",
   "metadata": {},
   "source": [
    "## Average User Rating"
   ]
  },
  {
   "cell_type": "code",
   "execution_count": 49,
   "metadata": {},
   "outputs": [
    {
     "data": {
      "text/plain": [
       "0.5555291743337093"
      ]
     },
     "execution_count": 49,
     "metadata": {},
     "output_type": "execute_result"
    }
   ],
   "source": [
    "data['Average User Rating'].isnull().sum()/data.shape[0]"
   ]
  },
  {
   "cell_type": "code",
   "execution_count": 52,
   "metadata": {},
   "outputs": [],
   "source": [
    "data.dropna(subset=['Average User Rating'], inplace=True)"
   ]
  },
  {
   "cell_type": "code",
   "execution_count": 53,
   "metadata": {},
   "outputs": [
    {
     "data": {
      "text/plain": [
       "<matplotlib.axes._subplots.AxesSubplot at 0x1283dc320>"
      ]
     },
     "execution_count": 53,
     "metadata": {},
     "output_type": "execute_result"
    },
    {
     "data": {
      "image/png": "[encoded data removed]",
      "text/plain": [
       "<Figure size 432x288 with 1 Axes>"
      ]
     },
     "metadata": {
      "needs_background": "light"
     },
     "output_type": "display_data"
    }
   ],
   "source": [
    "data['Average User Rating'].hist()"
   ]
  },
  {
   "cell_type": "code",
   "execution_count": 55,
   "metadata": {},
   "outputs": [
    {
     "data": {
      "image/png": "[encoded data removed]",
      "text/plain": [
       "<Figure size 432x288 with 1 Axes>"
      ]
     },
     "metadata": {
      "needs_background": "light"
     },
     "output_type": "display_data"
    }
   ],
   "source": [
    "data['Average User Rating'].plot.box()\n",
    "plt.show()"
   ]
  },
  {
   "cell_type": "code",
   "execution_count": 56,
   "metadata": {},
   "outputs": [],
   "source": [
    "data = data[data['Average User Rating']>1.5]"
   ]
  },
  {
   "cell_type": "code",
   "execution_count": 57,
   "metadata": {},
   "outputs": [
    {
     "data": {
      "image/png": "[encoded data removed]",
      "text/plain": [
       "<Figure size 432x288 with 1 Axes>"
      ]
     },
     "metadata": {
      "needs_background": "light"
     },
     "output_type": "display_data"
    }
   ],
   "source": [
    "data['Average User Rating'].plot.box()\n",
    "plt.show()"
   ]
  },
  {
   "cell_type": "markdown",
   "metadata": {},
   "source": [
    "## User Rating Count\t\n"
   ]
  },
  {
   "cell_type": "code",
   "execution_count": 61,
   "metadata": {},
   "outputs": [
    {
     "data": {
      "text/plain": [
       "<matplotlib.axes._subplots.AxesSubplot at 0x1275c9d68>"
      ]
     },
     "execution_count": 61,
     "metadata": {},
     "output_type": "execute_result"
    },
    {
     "data": {
      "image/png": "[encoded data removed]",
      "text/plain": [
       "<Figure size 432x288 with 1 Axes>"
      ]
     },
     "metadata": {
      "needs_background": "light"
     },
     "output_type": "display_data"
    }
   ],
   "source": [
    "data['User Rating Count'].hist()"
   ]
  },
  {
   "cell_type": "code",
   "execution_count": 62,
   "metadata": {},
   "outputs": [
    {
     "data": {
      "text/plain": [
       "<matplotlib.axes._subplots.AxesSubplot at 0x12b3aa550>"
      ]
     },
     "execution_count": 62,
     "metadata": {},
     "output_type": "execute_result"
    },
    {
     "data": {
      "image/png": "[encoded data removed]",
      "text/plain": [
       "<Figure size 432x288 with 1 Axes>"
      ]
     },
     "metadata": {
      "needs_background": "light"
     },
     "output_type": "display_data"
    }
   ],
   "source": [
    "np.log(data['User Rating Count']).hist()"
   ]
  },
  {
   "cell_type": "code",
   "execution_count": 63,
   "metadata": {},
   "outputs": [
    {
     "data": {
      "text/plain": [
       "<matplotlib.axes._subplots.AxesSubplot at 0x12ae5f9b0>"
      ]
     },
     "execution_count": 63,
     "metadata": {},
     "output_type": "execute_result"
    },
    {
     "data": {
      "image/png": "[encoded data removed]",
      "text/plain": [
       "<Figure size 432x288 with 1 Axes>"
      ]
     },
     "metadata": {
      "needs_background": "light"
     },
     "output_type": "display_data"
    }
   ],
   "source": [
    "np.log(data['User Rating Count']).plot.box()"
   ]
  },
  {
   "cell_type": "code",
   "execution_count": 67,
   "metadata": {},
   "outputs": [
    {
     "data": {
      "image/png": "[encoded data removed]",
      "text/plain": [
       "<Figure size 360x360 with 1 Axes>"
      ]
     },
     "metadata": {
      "needs_background": "light"
     },
     "output_type": "display_data"
    }
   ],
   "source": [
    "plt.figure(figsize=(5, 5))\n",
    "plt.scatter(np.log(data['User Rating Count']), data['Average User Rating'])\n",
    "plt.show()"
   ]
  },
  {
   "cell_type": "code",
   "execution_count": 68,
   "metadata": {},
   "outputs": [],
   "source": [
    "data['User Rating Count'] = np.log(data['User Rating Count'])"
   ]
  },
  {
   "cell_type": "markdown",
   "metadata": {},
   "source": [
    "## Price"
   ]
  },
  {
   "cell_type": "code",
   "execution_count": 71,
   "metadata": {},
   "outputs": [
    {
     "data": {
      "text/plain": [
       "0        2.99\n",
       "1        1.99\n",
       "2        0.00\n",
       "3        0.00\n",
       "4        2.99\n",
       "         ... \n",
       "16950    0.00\n",
       "16956    0.00\n",
       "16962    0.00\n",
       "16967    0.00\n",
       "16993    0.00\n",
       "Name: Price, Length: 7416, dtype: float64"
      ]
     },
     "execution_count": 71,
     "metadata": {},
     "output_type": "execute_result"
    }
   ],
   "source": [
    "data['Price']"
   ]
  },
  {
   "cell_type": "code",
   "execution_count": 72,
   "metadata": {},
   "outputs": [
    {
     "data": {
      "text/plain": [
       "0"
      ]
     },
     "execution_count": 72,
     "metadata": {},
     "output_type": "execute_result"
    }
   ],
   "source": [
    "data['Price'].isnull().sum()"
   ]
  },
  {
   "cell_type": "code",
   "execution_count": 73,
   "metadata": {},
   "outputs": [],
   "source": [
    "data['free_to_play'] = data['Price'] == 0"
   ]
  },
  {
   "cell_type": "code",
   "execution_count": 74,
   "metadata": {},
   "outputs": [
    {
     "data": {
      "text/plain": [
       "True     0.838727\n",
       "False    0.161273\n",
       "Name: free_to_play, dtype: float64"
      ]
     },
     "execution_count": 74,
     "metadata": {},
     "output_type": "execute_result"
    }
   ],
   "source": [
    "data['free_to_play'].value_counts(normalize=True)"
   ]
  },
  {
   "cell_type": "markdown",
   "metadata": {},
   "source": [
    "## In-app Purchases"
   ]
  },
  {
   "cell_type": "code",
   "execution_count": 76,
   "metadata": {},
   "outputs": [
    {
     "data": {
      "text/plain": [
       "0.99                                                           386\n",
       "1.99                                                           247\n",
       "2.99                                                           198\n",
       "0.99, 0.99                                                      74\n",
       "4.99                                                            65\n",
       "                                                              ... \n",
       "1.99, 4.99, 0.99, 9.99, 9.99, 4.99, 19.99, 9.99, 4.99, 9.99      1\n",
       "1.99, 9.99, 0.99, 9.99, 2.99, 0.99, 19.99, 0.99, 0.99, 9.99      1\n",
       "1.99, 0.99, 3.99, 9.99, 6.99                                     1\n",
       "0.99, 2.99, 9.99, 4.99, 49.99, 29.99                             1\n",
       "2.99, 2.99, 0.99, 2.99, 1.99, 9.99, 1.99, 1.99, 4.99             1\n",
       "Name: In-app Purchases, Length: 2957, dtype: int64"
      ]
     },
     "execution_count": 76,
     "metadata": {},
     "output_type": "execute_result"
    }
   ],
   "source": [
    "data['In-app Purchases'].value_counts()"
   ]
  },
  {
   "cell_type": "code",
   "execution_count": 83,
   "metadata": {},
   "outputs": [],
   "source": [
    "data['In-app Purchases'].fillna('0.00', inplace=True)"
   ]
  },
  {
   "cell_type": "code",
   "execution_count": 84,
   "metadata": {},
   "outputs": [
    {
     "data": {
      "text/plain": [
       "0.00                                                           2852\n",
       "0.99                                                            386\n",
       "1.99                                                            247\n",
       "2.99                                                            198\n",
       "0.99, 0.99                                                       74\n",
       "                                                               ... \n",
       "1.99, 4.99, 0.99, 9.99, 9.99, 4.99, 19.99, 9.99, 4.99, 9.99       1\n",
       "1.99, 9.99, 0.99, 9.99, 2.99, 0.99, 19.99, 0.99, 0.99, 9.99       1\n",
       "1.99, 0.99, 3.99, 9.99, 6.99                                      1\n",
       "0.99, 2.99, 9.99, 4.99, 49.99, 29.99                              1\n",
       "2.99, 2.99, 0.99, 2.99, 1.99, 9.99, 1.99, 1.99, 4.99              1\n",
       "Name: In-app Purchases, Length: 2958, dtype: int64"
      ]
     },
     "execution_count": 84,
     "metadata": {},
     "output_type": "execute_result"
    }
   ],
   "source": [
    "data['In-app Purchases'].value_counts()"
   ]
  },
  {
   "cell_type": "code",
   "execution_count": 108,
   "metadata": {},
   "outputs": [],
   "source": [
    "data['In-app Purchases'][data['In-app Purchases'].isin(['0', '0.0'])] = '0.00'"
   ]
  },
  {
   "cell_type": "code",
   "execution_count": 85,
   "metadata": {},
   "outputs": [],
   "source": [
    "from sklearn.preprocessing import MultiLabelBinarizer"
   ]
  },
  {
   "cell_type": "code",
   "execution_count": 86,
   "metadata": {},
   "outputs": [],
   "source": [
    "mlb = MultiLabelBinarizer()"
   ]
  },
  {
   "cell_type": "code",
   "execution_count": 130,
   "metadata": {},
   "outputs": [
    {
     "data": {
      "text/plain": [
       "(7416, 77)"
      ]
     },
     "execution_count": 130,
     "metadata": {},
     "output_type": "execute_result"
    }
   ],
   "source": [
    "inapps_encoded = mlb.fit_transform(data['In-app Purchases'].str.replace(',', '').str.split())\n",
    "inapps_encoded.shape"
   ]
  },
  {
   "cell_type": "code",
   "execution_count": 131,
   "metadata": {},
   "outputs": [],
   "source": [
    "inapps_classes = mlb.classes_"
   ]
  },
  {
   "cell_type": "code",
   "execution_count": 132,
   "metadata": {},
   "outputs": [],
   "source": [
    "inapps_classes = [float(inapp) for inapp in inapps_classes]\n",
    "inapps_classes = np.array(inapps_classes)//10"
   ]
  },
  {
   "cell_type": "code",
   "execution_count": 134,
   "metadata": {},
   "outputs": [],
   "source": [
    "inapps_encoded_df = pd.DataFrame(inapps_encoded, columns=inapps_classes.astype(str), index=data.index)"
   ]
  },
  {
   "cell_type": "code",
   "execution_count": 149,
   "metadata": {},
   "outputs": [],
   "source": [
    "inapps_encoded = []\n",
    "\n",
    "for inapp in list(set(inapps_classes.astype(str))):\n",
    "    try:\n",
    "        inapps_encoded.append(inapps_encoded_df[inapp].apply(np.any, axis=1))\n",
    "    except:\n",
    "        inapps_encoded.append(inapps_encoded_df[inapp])"
   ]
  },
  {
   "cell_type": "code",
   "execution_count": 153,
   "metadata": {},
   "outputs": [],
   "source": [
    "inapps_encoded = pd.concat(inapps_encoded, axis=1)"
   ]
  },
  {
   "cell_type": "code",
   "execution_count": 157,
   "metadata": {},
   "outputs": [],
   "source": [
    "inapps_encoded = inapps_encoded.astype(bool)"
   ]
  },
  {
   "cell_type": "code",
   "execution_count": 159,
   "metadata": {},
   "outputs": [],
   "source": [
    "inapps_encoded.columns = [f'inapps_{col}' for col in inapps_encoded.columns]"
   ]
  },
  {
   "cell_type": "code",
   "execution_count": 162,
   "metadata": {},
   "outputs": [],
   "source": [
    "data = pd.concat([data, inapps_encoded], axis=1)"
   ]
  },
  {
   "cell_type": "markdown",
   "metadata": {},
   "source": [
    "## Description"
   ]
  },
  {
   "cell_type": "code",
   "execution_count": 163,
   "metadata": {},
   "outputs": [],
   "source": [
    "data['description_length'] = data['Description'].apply(len)\n",
    "data['description_words_count'] = data['Description'].str.split().apply(len)"
   ]
  },
  {
   "cell_type": "markdown",
   "metadata": {},
   "source": [
    "## Age Rating"
   ]
  },
  {
   "cell_type": "code",
   "execution_count": 166,
   "metadata": {},
   "outputs": [
    {
     "data": {
      "text/plain": [
       "4+     4372\n",
       "9+     1448\n",
       "12+    1310\n",
       "17+     286\n",
       "Name: Age Rating, dtype: int64"
      ]
     },
     "execution_count": 166,
     "metadata": {},
     "output_type": "execute_result"
    }
   ],
   "source": [
    "data['Age Rating'].value_counts()"
   ]
  },
  {
   "cell_type": "code",
   "execution_count": 171,
   "metadata": {},
   "outputs": [],
   "source": [
    "data = pd.get_dummies(data, prefix='age_rating', columns=['Age Rating'])"
   ]
  },
  {
   "cell_type": "markdown",
   "metadata": {},
   "source": [
    "## Languages"
   ]
  },
  {
   "cell_type": "code",
   "execution_count": 172,
   "metadata": {},
   "outputs": [
    {
     "data": {
      "text/plain": [
       "0        DA, NL, EN, FI, FR, DE, IT, JA, KO, NB, PL, PT...\n",
       "1                                                       EN\n",
       "2                                                       EN\n",
       "3        DA, NL, EN, FI, FR, DE, IT, JA, KO, NB, PL, PT...\n",
       "4        DA, NL, EN, FR, DE, EL, IT, JA, KO, NO, PT, RU...\n",
       "                               ...                        \n",
       "16950                                               EN, ZH\n",
       "16956                                                   EN\n",
       "16962                                                   EN\n",
       "16967                                                   EN\n",
       "16993                                                   EN\n",
       "Name: Languages, Length: 7416, dtype: object"
      ]
     },
     "execution_count": 172,
     "metadata": {},
     "output_type": "execute_result"
    }
   ],
   "source": [
    "data['Languages']"
   ]
  },
  {
   "cell_type": "code",
   "execution_count": 185,
   "metadata": {},
   "outputs": [],
   "source": [
    "data['Languages'].fillna(\"EN\", inplace=True)"
   ]
  },
  {
   "cell_type": "code",
   "execution_count": 186,
   "metadata": {},
   "outputs": [],
   "source": [
    "data['lang_eng'] = data['Languages'].str.contains('EN')"
   ]
  },
  {
   "cell_type": "code",
   "execution_count": 189,
   "metadata": {},
   "outputs": [],
   "source": [
    "data['supported_lang_count'] = data['Languages'].str.split().apply(len)"
   ]
  },
  {
   "cell_type": "code",
   "execution_count": 196,
   "metadata": {},
   "outputs": [],
   "source": [
    "data['supported_lang_count'] = np.log(data['supported_lang_count'])"
   ]
  },
  {
   "cell_type": "markdown",
   "metadata": {},
   "source": [
    "## Size"
   ]
  },
  {
   "cell_type": "code",
   "execution_count": 198,
   "metadata": {},
   "outputs": [
    {
     "data": {
      "text/plain": [
       "<matplotlib.axes._subplots.AxesSubplot at 0x139c16080>"
      ]
     },
     "execution_count": 198,
     "metadata": {},
     "output_type": "execute_result"
    },
    {
     "data": {
      "image/png": "[encoded data removed]",
      "text/plain": [
       "<Figure size 432x288 with 1 Axes>"
      ]
     },
     "metadata": {
      "needs_background": "light"
     },
     "output_type": "display_data"
    }
   ],
   "source": [
    "np.log(data['Size']).hist()"
   ]
  },
  {
   "cell_type": "code",
   "execution_count": 199,
   "metadata": {},
   "outputs": [],
   "source": [
    "data['Size'] = np.log(data['Size'])"
   ]
  },
  {
   "cell_type": "markdown",
   "metadata": {},
   "source": [
    "## Primary Genre"
   ]
  },
  {
   "cell_type": "code",
   "execution_count": 203,
   "metadata": {},
   "outputs": [
    {
     "data": {
      "text/plain": [
       "Games                0.964806\n",
       "Entertainment        0.012271\n",
       "Education            0.006203\n",
       "Utilities            0.005798\n",
       "Sports               0.003101\n",
       "Reference            0.002157\n",
       "Finance              0.001079\n",
       "Productivity         0.000809\n",
       "Book                 0.000674\n",
       "Stickers             0.000405\n",
       "Social Networking    0.000405\n",
       "Lifestyle            0.000405\n",
       "Music                0.000405\n",
       "Health & Fitness     0.000270\n",
       "News                 0.000270\n",
       "Business             0.000270\n",
       "Navigation           0.000135\n",
       "Food & Drink         0.000135\n",
       "Travel               0.000135\n",
       "Shopping             0.000135\n",
       "Medical              0.000135\n",
       "Name: Primary Genre, dtype: float64"
      ]
     },
     "execution_count": 203,
     "metadata": {},
     "output_type": "execute_result"
    }
   ],
   "source": [
    "data['Primary Genre'].value_counts(normalize=True)"
   ]
  },
  {
   "cell_type": "code",
   "execution_count": 204,
   "metadata": {},
   "outputs": [],
   "source": [
    "data['primary_genre_is_games'] = data['Primary Genre']=='Games'"
   ]
  },
  {
   "cell_type": "markdown",
   "metadata": {},
   "source": [
    "## Genres"
   ]
  },
  {
   "cell_type": "code",
   "execution_count": 205,
   "metadata": {},
   "outputs": [
    {
     "data": {
      "text/plain": [
       "0                       Games, Strategy, Puzzle\n",
       "1                        Games, Strategy, Board\n",
       "2                        Games, Board, Strategy\n",
       "3                       Games, Strategy, Puzzle\n",
       "4             Games, Strategy, Board, Education\n",
       "                          ...                  \n",
       "16950    Games, Strategy, Entertainment, Puzzle\n",
       "16956    Games, Entertainment, Action, Strategy\n",
       "16962               Games, Simulation, Strategy\n",
       "16967               Games, Simulation, Strategy\n",
       "16993         Games, Strategy, Board, Utilities\n",
       "Name: Genres, Length: 7416, dtype: object"
      ]
     },
     "execution_count": 205,
     "metadata": {},
     "output_type": "execute_result"
    }
   ],
   "source": [
    "data['Genres']"
   ]
  },
  {
   "cell_type": "code",
   "execution_count": 212,
   "metadata": {},
   "outputs": [
    {
     "data": {
      "text/plain": [
       "(7416, 48)"
      ]
     },
     "execution_count": 212,
     "metadata": {},
     "output_type": "execute_result"
    }
   ],
   "source": [
    "genres_encoded = mlb.fit_transform(data['Genres'].str.replace(',', '').str.replace('&', ' ').str.split())\n",
    "genres_encoded.shape"
   ]
  },
  {
   "cell_type": "code",
   "execution_count": 216,
   "metadata": {},
   "outputs": [],
   "source": [
    "genres_encoded = pd.DataFrame(genres_encoded, columns=mlb.classes_, index=data.index)"
   ]
  },
  {
   "cell_type": "code",
   "execution_count": 219,
   "metadata": {},
   "outputs": [],
   "source": [
    "data= pd.concat([data, genres_encoded], axis=1)"
   ]
  },
  {
   "cell_type": "code",
   "execution_count": 220,
   "metadata": {},
   "outputs": [],
   "source": [
    "data['genres_count'] = data['Genres'].str.replace(',', '').str.replace('&', ' ').str.split().apply(len)"
   ]
  },
  {
   "cell_type": "code",
   "execution_count": 221,
   "metadata": {},
   "outputs": [
    {
     "data": {
      "text/plain": [
       "<matplotlib.axes._subplots.AxesSubplot at 0x13a616fd0>"
      ]
     },
     "execution_count": 221,
     "metadata": {},
     "output_type": "execute_result"
    },
    {
     "data": {
      "image/png": "[encoded data removed]",
      "text/plain": [
       "<Figure size 432x288 with 1 Axes>"
      ]
     },
     "metadata": {
      "needs_background": "light"
     },
     "output_type": "display_data"
    }
   ],
   "source": [
    "data['genres_count'].hist()"
   ]
  },
  {
   "cell_type": "markdown",
   "metadata": {},
   "source": [
    "## Original Release Date\n",
    "## Current Version Release Date"
   ]
  },
  {
   "cell_type": "code",
   "execution_count": 227,
   "metadata": {},
   "outputs": [
    {
     "data": {
      "text/plain": [
       "0        11/07/2008\n",
       "1        11/07/2008\n",
       "2        11/07/2008\n",
       "3        23/07/2008\n",
       "4        18/07/2008\n",
       "            ...    \n",
       "16950    31/07/2019\n",
       "16956    23/07/2019\n",
       "16962    31/07/2019\n",
       "16967    28/07/2019\n",
       "16993    30/07/2019\n",
       "Name: Original Release Date, Length: 7416, dtype: object"
      ]
     },
     "execution_count": 227,
     "metadata": {},
     "output_type": "execute_result"
    }
   ],
   "source": [
    "data['Original Release Date']"
   ]
  },
  {
   "cell_type": "code",
   "execution_count": 236,
   "metadata": {},
   "outputs": [],
   "source": [
    "data['Original Release Date'] = pd.to_datetime(\n",
    "    data['Original Release Date'], \n",
    "    format='%d/%m/%y', \n",
    "    errors='ignore'\n",
    ")\n",
    "\n",
    "data['Original Release Date'] = pd.to_datetime(data['Original Release Date'])"
   ]
  },
  {
   "cell_type": "code",
   "execution_count": 238,
   "metadata": {},
   "outputs": [
    {
     "data": {
      "text/plain": [
       "<matplotlib.axes._subplots.AxesSubplot at 0x139c4d4e0>"
      ]
     },
     "execution_count": 238,
     "metadata": {},
     "output_type": "execute_result"
    },
    {
     "data": {
      "image/png": "[encoded data removed]",
      "text/plain": [
       "<Figure size 432x288 with 1 Axes>"
      ]
     },
     "metadata": {
      "needs_background": "light"
     },
     "output_type": "display_data"
    }
   ],
   "source": [
    "data['Original Release Date'].hist()"
   ]
  },
  {
   "cell_type": "code",
   "execution_count": 239,
   "metadata": {},
   "outputs": [],
   "source": [
    "data['Current Version Release Date'] = pd.to_datetime(\n",
    "    data['Current Version Release Date'], \n",
    "    format='%d/%m/%y', \n",
    "    errors='ignore'\n",
    ")\n",
    "\n",
    "data['Current Version Release Date'] = pd.to_datetime(data['Current Version Release Date'])"
   ]
  },
  {
   "cell_type": "code",
   "execution_count": 240,
   "metadata": {},
   "outputs": [
    {
     "data": {
      "text/plain": [
       "<matplotlib.axes._subplots.AxesSubplot at 0x139060518>"
      ]
     },
     "execution_count": 240,
     "metadata": {},
     "output_type": "execute_result"
    },
    {
     "data": {
      "image/png": "[encoded data removed]",
      "text/plain": [
       "<Figure size 432x288 with 1 Axes>"
      ]
     },
     "metadata": {
      "needs_background": "light"
     },
     "output_type": "display_data"
    }
   ],
   "source": [
    "data['Current Version Release Date'].hist()"
   ]
  },
  {
   "cell_type": "code",
   "execution_count": 242,
   "metadata": {},
   "outputs": [
    {
     "data": {
      "text/plain": [
       "Timestamp('2019-12-06 00:00:00')"
      ]
     },
     "execution_count": 242,
     "metadata": {},
     "output_type": "execute_result"
    }
   ],
   "source": [
    "max(data['Original Release Date'])"
   ]
  },
  {
   "cell_type": "code",
   "execution_count": 243,
   "metadata": {},
   "outputs": [],
   "source": [
    "max_date = max(data['Current Version Release Date'])"
   ]
  },
  {
   "cell_type": "code",
   "execution_count": 245,
   "metadata": {},
   "outputs": [],
   "source": [
    "data['days_from_creation'] = (max_date - data['Original Release Date']).dt.days"
   ]
  },
  {
   "cell_type": "code",
   "execution_count": 247,
   "metadata": {},
   "outputs": [
    {
     "data": {
      "text/plain": [
       "<matplotlib.axes._subplots.AxesSubplot at 0x13c38bf98>"
      ]
     },
     "execution_count": 247,
     "metadata": {},
     "output_type": "execute_result"
    },
    {
     "data": {
      "image/png": "[encoded data removed]",
      "text/plain": [
       "<Figure size 432x288 with 1 Axes>"
      ]
     },
     "metadata": {
      "needs_background": "light"
     },
     "output_type": "display_data"
    }
   ],
   "source": [
    "data['days_from_creation'].hist()"
   ]
  },
  {
   "cell_type": "code",
   "execution_count": 248,
   "metadata": {},
   "outputs": [],
   "source": [
    "data['days_from_update'] = (max_date - data['Current Version Release Date']).dt.days"
   ]
  },
  {
   "cell_type": "code",
   "execution_count": 249,
   "metadata": {},
   "outputs": [
    {
     "data": {
      "text/plain": [
       "<matplotlib.axes._subplots.AxesSubplot at 0x13a543390>"
      ]
     },
     "execution_count": 249,
     "metadata": {},
     "output_type": "execute_result"
    },
    {
     "data": {
      "image/png": "[encoded data removed]",
      "text/plain": [
       "<Figure size 432x288 with 1 Axes>"
      ]
     },
     "metadata": {
      "needs_background": "light"
     },
     "output_type": "display_data"
    }
   ],
   "source": [
    "data['days_from_update'].hist()"
   ]
  },
  {
   "cell_type": "code",
   "execution_count": 254,
   "metadata": {},
   "outputs": [
    {
     "data": {
      "image/png": "[encoded data removed]",
      "text/plain": [
       "<Figure size 504x504 with 1 Axes>"
      ]
     },
     "metadata": {
      "needs_background": "light"
     },
     "output_type": "display_data"
    }
   ],
   "source": [
    "plt.figure(figsize=(7, 7))\n",
    "plt.scatter(data['days_from_update'], data['Average User Rating'])\n",
    "sns.despine()\n",
    "plt.show()"
   ]
  },
  {
   "cell_type": "code",
   "execution_count": 259,
   "metadata": {},
   "outputs": [
    {
     "data": {
      "text/html": [
       "<div>\n",
       "<style scoped>\n",
       "    .dataframe tbody tr th:only-of-type {\n",
       "        vertical-align: middle;\n",
       "    }\n",
       "\n",
       "    .dataframe tbody tr th {\n",
       "        vertical-align: top;\n",
       "    }\n",
       "\n",
       "    .dataframe thead th {\n",
       "        text-align: right;\n",
       "    }\n",
       "</style>\n",
       "<table border=\"1\" class=\"dataframe\">\n",
       "  <thead>\n",
       "    <tr style=\"text-align: right;\">\n",
       "      <th></th>\n",
       "      <th>Average User Rating</th>\n",
       "      <th>User Rating Count</th>\n",
       "      <th>Price</th>\n",
       "      <th>Size</th>\n",
       "      <th>name_length</th>\n",
       "      <th>name_words_count</th>\n",
       "      <th>subtitle_is_null</th>\n",
       "      <th>free_to_play</th>\n",
       "      <th>inapps_11.0</th>\n",
       "      <th>inapps_0</th>\n",
       "      <th>...</th>\n",
       "      <th>Strategy</th>\n",
       "      <th>Travel</th>\n",
       "      <th>Trivia</th>\n",
       "      <th>Utilities</th>\n",
       "      <th>Video</th>\n",
       "      <th>Weather</th>\n",
       "      <th>Word</th>\n",
       "      <th>genres_count</th>\n",
       "      <th>days_from_creation</th>\n",
       "      <th>days_from_update</th>\n",
       "    </tr>\n",
       "  </thead>\n",
       "  <tbody>\n",
       "    <tr>\n",
       "      <th>Average User Rating</th>\n",
       "      <td>1.000000</td>\n",
       "      <td>0.176330</td>\n",
       "      <td>0.006474</td>\n",
       "      <td>0.165159</td>\n",
       "      <td>-0.043157</td>\n",
       "      <td>-0.039979</td>\n",
       "      <td>-0.183838</td>\n",
       "      <td>0.016899</td>\n",
       "      <td>-0.034312</td>\n",
       "      <td>0.040883</td>\n",
       "      <td>...</td>\n",
       "      <td>-0.006773</td>\n",
       "      <td>0.012863</td>\n",
       "      <td>-0.017441</td>\n",
       "      <td>-0.018477</td>\n",
       "      <td>0.011032</td>\n",
       "      <td>-0.017878</td>\n",
       "      <td>-0.003746</td>\n",
       "      <td>-0.022006</td>\n",
       "      <td>-0.248651</td>\n",
       "      <td>-0.251558</td>\n",
       "    </tr>\n",
       "    <tr>\n",
       "      <th>User Rating Count</th>\n",
       "      <td>0.176330</td>\n",
       "      <td>1.000000</td>\n",
       "      <td>0.036988</td>\n",
       "      <td>0.222288</td>\n",
       "      <td>-0.069621</td>\n",
       "      <td>-0.081034</td>\n",
       "      <td>-0.192376</td>\n",
       "      <td>-0.037366</td>\n",
       "      <td>-0.010056</td>\n",
       "      <td>0.167864</td>\n",
       "      <td>...</td>\n",
       "      <td>0.001058</td>\n",
       "      <td>-0.015088</td>\n",
       "      <td>-0.027493</td>\n",
       "      <td>-0.035199</td>\n",
       "      <td>-0.007716</td>\n",
       "      <td>-0.014015</td>\n",
       "      <td>-0.027027</td>\n",
       "      <td>0.094731</td>\n",
       "      <td>0.182645</td>\n",
       "      <td>-0.157188</td>\n",
       "    </tr>\n",
       "    <tr>\n",
       "      <th>Price</th>\n",
       "      <td>0.006474</td>\n",
       "      <td>0.036988</td>\n",
       "      <td>1.000000</td>\n",
       "      <td>0.115437</td>\n",
       "      <td>-0.048969</td>\n",
       "      <td>-0.060083</td>\n",
       "      <td>-0.001192</td>\n",
       "      <td>-0.531502</td>\n",
       "      <td>-0.002707</td>\n",
       "      <td>-0.057515</td>\n",
       "      <td>...</td>\n",
       "      <td>0.002707</td>\n",
       "      <td>-0.008664</td>\n",
       "      <td>-0.019520</td>\n",
       "      <td>-0.002072</td>\n",
       "      <td>-0.008564</td>\n",
       "      <td>0.045104</td>\n",
       "      <td>-0.012078</td>\n",
       "      <td>0.001048</td>\n",
       "      <td>0.064388</td>\n",
       "      <td>-0.058285</td>\n",
       "    </tr>\n",
       "    <tr>\n",
       "      <th>Size</th>\n",
       "      <td>0.165159</td>\n",
       "      <td>0.222288</td>\n",
       "      <td>0.115437</td>\n",
       "      <td>1.000000</td>\n",
       "      <td>-0.036871</td>\n",
       "      <td>-0.062917</td>\n",
       "      <td>-0.299253</td>\n",
       "      <td>-0.059979</td>\n",
       "      <td>0.006836</td>\n",
       "      <td>0.188714</td>\n",
       "      <td>...</td>\n",
       "      <td>-0.000109</td>\n",
       "      <td>0.001929</td>\n",
       "      <td>-0.046672</td>\n",
       "      <td>-0.074686</td>\n",
       "      <td>-0.001683</td>\n",
       "      <td>-0.004377</td>\n",
       "      <td>-0.035772</td>\n",
       "      <td>-0.019517</td>\n",
       "      <td>-0.446772</td>\n",
       "      <td>-0.454136</td>\n",
       "    </tr>\n",
       "    <tr>\n",
       "      <th>name_length</th>\n",
       "      <td>-0.043157</td>\n",
       "      <td>-0.069621</td>\n",
       "      <td>-0.048969</td>\n",
       "      <td>-0.036871</td>\n",
       "      <td>1.000000</td>\n",
       "      <td>0.922857</td>\n",
       "      <td>0.130737</td>\n",
       "      <td>0.097440</td>\n",
       "      <td>0.005074</td>\n",
       "      <td>-0.022720</td>\n",
       "      <td>...</td>\n",
       "      <td>0.005832</td>\n",
       "      <td>0.080109</td>\n",
       "      <td>0.017806</td>\n",
       "      <td>-0.005501</td>\n",
       "      <td>0.018520</td>\n",
       "      <td>-0.012064</td>\n",
       "      <td>-0.016634</td>\n",
       "      <td>0.086110</td>\n",
       "      <td>-0.001624</td>\n",
       "      <td>0.179939</td>\n",
       "    </tr>\n",
       "    <tr>\n",
       "      <th>...</th>\n",
       "      <td>...</td>\n",
       "      <td>...</td>\n",
       "      <td>...</td>\n",
       "      <td>...</td>\n",
       "      <td>...</td>\n",
       "      <td>...</td>\n",
       "      <td>...</td>\n",
       "      <td>...</td>\n",
       "      <td>...</td>\n",
       "      <td>...</td>\n",
       "      <td>...</td>\n",
       "      <td>...</td>\n",
       "      <td>...</td>\n",
       "      <td>...</td>\n",
       "      <td>...</td>\n",
       "      <td>...</td>\n",
       "      <td>...</td>\n",
       "      <td>...</td>\n",
       "      <td>...</td>\n",
       "      <td>...</td>\n",
       "      <td>...</td>\n",
       "    </tr>\n",
       "    <tr>\n",
       "      <th>Weather</th>\n",
       "      <td>-0.017878</td>\n",
       "      <td>-0.014015</td>\n",
       "      <td>0.045104</td>\n",
       "      <td>-0.004377</td>\n",
       "      <td>-0.012064</td>\n",
       "      <td>-0.013174</td>\n",
       "      <td>-0.015411</td>\n",
       "      <td>-0.026483</td>\n",
       "      <td>-0.000135</td>\n",
       "      <td>-0.003442</td>\n",
       "      <td>...</td>\n",
       "      <td>0.000135</td>\n",
       "      <td>-0.000822</td>\n",
       "      <td>-0.001190</td>\n",
       "      <td>-0.001205</td>\n",
       "      <td>-0.000427</td>\n",
       "      <td>1.000000</td>\n",
       "      <td>-0.000917</td>\n",
       "      <td>0.005527</td>\n",
       "      <td>-0.014930</td>\n",
       "      <td>-0.007907</td>\n",
       "    </tr>\n",
       "    <tr>\n",
       "      <th>Word</th>\n",
       "      <td>-0.003746</td>\n",
       "      <td>-0.027027</td>\n",
       "      <td>-0.012078</td>\n",
       "      <td>-0.035772</td>\n",
       "      <td>-0.016634</td>\n",
       "      <td>-0.014462</td>\n",
       "      <td>-0.008359</td>\n",
       "      <td>0.011294</td>\n",
       "      <td>-0.000917</td>\n",
       "      <td>-0.010813</td>\n",
       "      <td>...</td>\n",
       "      <td>0.000917</td>\n",
       "      <td>0.018781</td>\n",
       "      <td>-0.008092</td>\n",
       "      <td>-0.008198</td>\n",
       "      <td>0.043899</td>\n",
       "      <td>-0.000917</td>\n",
       "      <td>1.000000</td>\n",
       "      <td>0.011460</td>\n",
       "      <td>0.003564</td>\n",
       "      <td>0.000304</td>\n",
       "    </tr>\n",
       "    <tr>\n",
       "      <th>genres_count</th>\n",
       "      <td>-0.022006</td>\n",
       "      <td>0.094731</td>\n",
       "      <td>0.001048</td>\n",
       "      <td>-0.019517</td>\n",
       "      <td>0.086110</td>\n",
       "      <td>0.079637</td>\n",
       "      <td>-0.044370</td>\n",
       "      <td>0.009490</td>\n",
       "      <td>0.005527</td>\n",
       "      <td>0.074793</td>\n",
       "      <td>...</td>\n",
       "      <td>0.012147</td>\n",
       "      <td>0.036612</td>\n",
       "      <td>0.022428</td>\n",
       "      <td>0.051381</td>\n",
       "      <td>0.062226</td>\n",
       "      <td>0.005527</td>\n",
       "      <td>0.011460</td>\n",
       "      <td>1.000000</td>\n",
       "      <td>0.113729</td>\n",
       "      <td>0.025432</td>\n",
       "    </tr>\n",
       "    <tr>\n",
       "      <th>days_from_creation</th>\n",
       "      <td>-0.248651</td>\n",
       "      <td>0.182645</td>\n",
       "      <td>0.064388</td>\n",
       "      <td>-0.446772</td>\n",
       "      <td>-0.001624</td>\n",
       "      <td>0.004438</td>\n",
       "      <td>0.436682</td>\n",
       "      <td>-0.199898</td>\n",
       "      <td>-0.003879</td>\n",
       "      <td>-0.091695</td>\n",
       "      <td>...</td>\n",
       "      <td>0.016288</td>\n",
       "      <td>-0.002321</td>\n",
       "      <td>-0.005622</td>\n",
       "      <td>-0.001325</td>\n",
       "      <td>-0.016627</td>\n",
       "      <td>-0.014930</td>\n",
       "      <td>0.003564</td>\n",
       "      <td>0.113729</td>\n",
       "      <td>1.000000</td>\n",
       "      <td>0.557091</td>\n",
       "    </tr>\n",
       "    <tr>\n",
       "      <th>days_from_update</th>\n",
       "      <td>-0.251558</td>\n",
       "      <td>-0.157188</td>\n",
       "      <td>-0.058285</td>\n",
       "      <td>-0.454136</td>\n",
       "      <td>0.179939</td>\n",
       "      <td>0.200842</td>\n",
       "      <td>0.592012</td>\n",
       "      <td>0.057893</td>\n",
       "      <td>-0.011820</td>\n",
       "      <td>-0.130012</td>\n",
       "      <td>...</td>\n",
       "      <td>0.009960</td>\n",
       "      <td>-0.012788</td>\n",
       "      <td>0.001547</td>\n",
       "      <td>-0.016280</td>\n",
       "      <td>-0.000527</td>\n",
       "      <td>-0.007907</td>\n",
       "      <td>0.000304</td>\n",
       "      <td>0.025432</td>\n",
       "      <td>0.557091</td>\n",
       "      <td>1.000000</td>\n",
       "    </tr>\n",
       "  </tbody>\n",
       "</table>\n",
       "<p>84 rows × 84 columns</p>\n",
       "</div>"
      ],
      "text/plain": [
       "                     Average User Rating  User Rating Count     Price  \\\n",
       "Average User Rating             1.000000           0.176330  0.006474   \n",
       "User Rating Count               0.176330           1.000000  0.036988   \n",
       "Price                           0.006474           0.036988  1.000000   \n",
       "Size                            0.165159           0.222288  0.115437   \n",
       "name_length                    -0.043157          -0.069621 -0.048969   \n",
       "...                                  ...                ...       ...   \n",
       "Weather                        -0.017878          -0.014015  0.045104   \n",
       "Word                           -0.003746          -0.027027 -0.012078   \n",
       "genres_count                   -0.022006           0.094731  0.001048   \n",
       "days_from_creation             -0.248651           0.182645  0.064388   \n",
       "days_from_update               -0.251558          -0.157188 -0.058285   \n",
       "\n",
       "                         Size  name_length  name_words_count  \\\n",
       "Average User Rating  0.165159    -0.043157         -0.039979   \n",
       "User Rating Count    0.222288    -0.069621         -0.081034   \n",
       "Price                0.115437    -0.048969         -0.060083   \n",
       "Size                 1.000000    -0.036871         -0.062917   \n",
       "name_length         -0.036871     1.000000          0.922857   \n",
       "...                       ...          ...               ...   \n",
       "Weather             -0.004377    -0.012064         -0.013174   \n",
       "Word                -0.035772    -0.016634         -0.014462   \n",
       "genres_count        -0.019517     0.086110          0.079637   \n",
       "days_from_creation  -0.446772    -0.001624          0.004438   \n",
       "days_from_update    -0.454136     0.179939          0.200842   \n",
       "\n",
       "                     subtitle_is_null  free_to_play  inapps_11.0  inapps_0  \\\n",
       "Average User Rating         -0.183838      0.016899    -0.034312  0.040883   \n",
       "User Rating Count           -0.192376     -0.037366    -0.010056  0.167864   \n",
       "Price                       -0.001192     -0.531502    -0.002707 -0.057515   \n",
       "Size                        -0.299253     -0.059979     0.006836  0.188714   \n",
       "name_length                  0.130737      0.097440     0.005074 -0.022720   \n",
       "...                               ...           ...          ...       ...   \n",
       "Weather                     -0.015411     -0.026483    -0.000135 -0.003442   \n",
       "Word                        -0.008359      0.011294    -0.000917 -0.010813   \n",
       "genres_count                -0.044370      0.009490     0.005527  0.074793   \n",
       "days_from_creation           0.436682     -0.199898    -0.003879 -0.091695   \n",
       "days_from_update             0.592012      0.057893    -0.011820 -0.130012   \n",
       "\n",
       "                     ...  Strategy    Travel    Trivia  Utilities     Video  \\\n",
       "Average User Rating  ... -0.006773  0.012863 -0.017441  -0.018477  0.011032   \n",
       "User Rating Count    ...  0.001058 -0.015088 -0.027493  -0.035199 -0.007716   \n",
       "Price                ...  0.002707 -0.008664 -0.019520  -0.002072 -0.008564   \n",
       "Size                 ... -0.000109  0.001929 -0.046672  -0.074686 -0.001683   \n",
       "name_length          ...  0.005832  0.080109  0.017806  -0.005501  0.018520   \n",
       "...                  ...       ...       ...       ...        ...       ...   \n",
       "Weather              ...  0.000135 -0.000822 -0.001190  -0.001205 -0.000427   \n",
       "Word                 ...  0.000917  0.018781 -0.008092  -0.008198  0.043899   \n",
       "genres_count         ...  0.012147  0.036612  0.022428   0.051381  0.062226   \n",
       "days_from_creation   ...  0.016288 -0.002321 -0.005622  -0.001325 -0.016627   \n",
       "days_from_update     ...  0.009960 -0.012788  0.001547  -0.016280 -0.000527   \n",
       "\n",
       "                      Weather      Word  genres_count  days_from_creation  \\\n",
       "Average User Rating -0.017878 -0.003746     -0.022006           -0.248651   \n",
       "User Rating Count   -0.014015 -0.027027      0.094731            0.182645   \n",
       "Price                0.045104 -0.012078      0.001048            0.064388   \n",
       "Size                -0.004377 -0.035772     -0.019517           -0.446772   \n",
       "name_length         -0.012064 -0.016634      0.086110           -0.001624   \n",
       "...                       ...       ...           ...                 ...   \n",
       "Weather              1.000000 -0.000917      0.005527           -0.014930   \n",
       "Word                -0.000917  1.000000      0.011460            0.003564   \n",
       "genres_count         0.005527  0.011460      1.000000            0.113729   \n",
       "days_from_creation  -0.014930  0.003564      0.113729            1.000000   \n",
       "days_from_update    -0.007907  0.000304      0.025432            0.557091   \n",
       "\n",
       "                     days_from_update  \n",
       "Average User Rating         -0.251558  \n",
       "User Rating Count           -0.157188  \n",
       "Price                       -0.058285  \n",
       "Size                        -0.454136  \n",
       "name_length                  0.179939  \n",
       "...                               ...  \n",
       "Weather                     -0.007907  \n",
       "Word                         0.000304  \n",
       "genres_count                 0.025432  \n",
       "days_from_creation           0.557091  \n",
       "days_from_update             1.000000  \n",
       "\n",
       "[84 rows x 84 columns]"
      ]
     },
     "execution_count": 259,
     "metadata": {},
     "output_type": "execute_result"
    }
   ],
   "source": [
    "data.drop(to_drop, axis=1).corr()"
   ]
  },
  {
   "cell_type": "code",
   "execution_count": 262,
   "metadata": {},
   "outputs": [
    {
     "data": {
      "image/png": "[encoded data removed]",
      "text/plain": [
       "<Figure size 1440x1440 with 2 Axes>"
      ]
     },
     "metadata": {
      "needs_background": "light"
     },
     "output_type": "display_data"
    }
   ],
   "source": [
    "plt.figure(figsize=(20, 20))\n",
    "sns.heatmap(data.drop(to_drop, axis=1).corr(), cmap='Blues')\n",
    "plt.show()"
   ]
  },
  {
   "cell_type": "markdown",
   "metadata": {},
   "source": [
    "# ML"
   ]
  },
  {
   "cell_type": "code",
   "execution_count": 264,
   "metadata": {},
   "outputs": [
    {
     "data": {
      "text/html": [
       "<div>\n",
       "<style scoped>\n",
       "    .dataframe tbody tr th:only-of-type {\n",
       "        vertical-align: middle;\n",
       "    }\n",
       "\n",
       "    .dataframe tbody tr th {\n",
       "        vertical-align: top;\n",
       "    }\n",
       "\n",
       "    .dataframe thead th {\n",
       "        text-align: right;\n",
       "    }\n",
       "</style>\n",
       "<table border=\"1\" class=\"dataframe\">\n",
       "  <thead>\n",
       "    <tr style=\"text-align: right;\">\n",
       "      <th></th>\n",
       "    </tr>\n",
       "    <tr>\n",
       "      <th>error_type</th>\n",
       "    </tr>\n",
       "  </thead>\n",
       "  <tbody>\n",
       "    <tr>\n",
       "      <th>MAE</th>\n",
       "    </tr>\n",
       "    <tr>\n",
       "      <th>RMSE</th>\n",
       "    </tr>\n",
       "    <tr>\n",
       "      <th>R2</th>\n",
       "    </tr>\n",
       "    <tr>\n",
       "      <th>MAPE</th>\n",
       "    </tr>\n",
       "  </tbody>\n",
       "</table>\n",
       "</div>"
      ],
      "text/plain": [
       "Empty DataFrame\n",
       "Columns: []\n",
       "Index: [MAE, RMSE, R2, MAPE]"
      ]
     },
     "execution_count": 264,
     "metadata": {},
     "output_type": "execute_result"
    }
   ],
   "source": [
    "from sklearn.linear_model import LinearRegression, LassoCV, RidgeCV, ElasticNetCV\n",
    "from sklearn.ensemble import RandomForestRegressor\n",
    "from sklearn.preprocessing import StandardScaler\n",
    "from sklearn.model_selection import train_test_split\n",
    "from sklearn import metrics  # подгружаем метрики\n",
    "\n",
    "def mean_absolute_percentage_error(y_true, y_pred): \n",
    "    y_true, y_pred = np.array(y_true), np.array(y_pred)\n",
    "    return np.mean(np.abs((y_true - y_pred) / y_true)) * 100\n",
    "\n",
    "def dataframe_metrics(y_test,y_pred):\n",
    "    stats = [\n",
    "       metrics.mean_absolute_error(y_test, y_pred),\n",
    "       np.sqrt(metrics.mean_squared_error(y_test, y_pred)),\n",
    "       metrics.r2_score(y_test, y_pred),\n",
    "       mean_absolute_percentage_error(y_test, y_pred)\n",
    "    ]\n",
    "    return stats\n",
    "\n",
    "\n",
    "measured_metrics = pd.DataFrame({\"error_type\":[\"MAE\", \"RMSE\", \"R2\", \"MAPE\"]})\n",
    "measured_metrics.set_index(\"error_type\")"
   ]
  },
  {
   "cell_type": "code",
   "execution_count": 278,
   "metadata": {},
   "outputs": [],
   "source": [
    "data_clean = data.drop(to_drop, axis=1)"
   ]
  },
  {
   "cell_type": "code",
   "execution_count": 285,
   "metadata": {},
   "outputs": [],
   "source": [
    "X_train, X_test, y_train, y_test = train_test_split(\n",
    "    data_clean.drop(['Average User Rating'], axis=1), \n",
    "    data_clean['Average User Rating'], \n",
    "    test_size=0.3\n",
    ")"
   ]
  },
  {
   "cell_type": "markdown",
   "metadata": {},
   "source": [
    "## Baseline"
   ]
  },
  {
   "cell_type": "code",
   "execution_count": 266,
   "metadata": {},
   "outputs": [
    {
     "data": {
      "text/plain": [
       "array([4.5, 4.5, 4.5, 4.5, 4.5])"
      ]
     },
     "execution_count": 266,
     "metadata": {},
     "output_type": "execute_result"
    }
   ],
   "source": [
    "y_median = np.median(y_train)                   \n",
    "y_pred_naive = np.ones(len(y_test)) * y_median  \n",
    "y_pred_naive[:5]"
   ]
  },
  {
   "cell_type": "code",
   "execution_count": 268,
   "metadata": {},
   "outputs": [],
   "source": [
    "measured_metrics['naive_baseline'] = dataframe_metrics(y_test, y_pred_naive)"
   ]
  },
  {
   "cell_type": "code",
   "execution_count": 270,
   "metadata": {},
   "outputs": [
    {
     "data": {
      "text/html": [
       "<div>\n",
       "<style scoped>\n",
       "    .dataframe tbody tr th:only-of-type {\n",
       "        vertical-align: middle;\n",
       "    }\n",
       "\n",
       "    .dataframe tbody tr th {\n",
       "        vertical-align: top;\n",
       "    }\n",
       "\n",
       "    .dataframe thead th {\n",
       "        text-align: right;\n",
       "    }\n",
       "</style>\n",
       "<table border=\"1\" class=\"dataframe\">\n",
       "  <thead>\n",
       "    <tr style=\"text-align: right;\">\n",
       "      <th></th>\n",
       "      <th>error_type</th>\n",
       "      <th>naive_baseline</th>\n",
       "    </tr>\n",
       "  </thead>\n",
       "  <tbody>\n",
       "    <tr>\n",
       "      <th>0</th>\n",
       "      <td>MAE</td>\n",
       "      <td>0.539101</td>\n",
       "    </tr>\n",
       "    <tr>\n",
       "      <th>1</th>\n",
       "      <td>RMSE</td>\n",
       "      <td>0.802454</td>\n",
       "    </tr>\n",
       "    <tr>\n",
       "      <th>2</th>\n",
       "      <td>R2</td>\n",
       "      <td>-0.324253</td>\n",
       "    </tr>\n",
       "    <tr>\n",
       "      <th>3</th>\n",
       "      <td>MAPE</td>\n",
       "      <td>16.775441</td>\n",
       "    </tr>\n",
       "  </tbody>\n",
       "</table>\n",
       "</div>"
      ],
      "text/plain": [
       "  error_type  naive_baseline\n",
       "0        MAE        0.539101\n",
       "1       RMSE        0.802454\n",
       "2         R2       -0.324253\n",
       "3       MAPE       16.775441"
      ]
     },
     "execution_count": 270,
     "metadata": {},
     "output_type": "execute_result"
    }
   ],
   "source": [
    "measured_metrics"
   ]
  },
  {
   "cell_type": "markdown",
   "metadata": {},
   "source": [
    "## Linear models"
   ]
  },
  {
   "cell_type": "code",
   "execution_count": 289,
   "metadata": {},
   "outputs": [],
   "source": [
    "scaler = StandardScaler()\n",
    "\n",
    "X_train_scaled = X_train.copy()\n",
    "X_test_scaled = X_test.copy()\n",
    "\n",
    "X_train_scaled[X_train.columns] = scaler.fit_transform(X_train)\n",
    "X_test_scaled[X_train.columns] = scaler.transform(X_test)"
   ]
  },
  {
   "cell_type": "code",
   "execution_count": 290,
   "metadata": {},
   "outputs": [
    {
     "data": {
      "text/plain": [
       "LinearRegression(copy_X=True, fit_intercept=True, n_jobs=None, normalize=False)"
      ]
     },
     "execution_count": 290,
     "metadata": {},
     "output_type": "execute_result"
    }
   ],
   "source": [
    "lr = LinearRegression()\n",
    "lr.fit(X_train_scaled, y_train)"
   ]
  },
  {
   "cell_type": "code",
   "execution_count": 291,
   "metadata": {},
   "outputs": [],
   "source": [
    "measured_metrics['lr'] = dataframe_metrics(y_test, lr.predict(X_test_scaled))"
   ]
  },
  {
   "cell_type": "code",
   "execution_count": 301,
   "metadata": {},
   "outputs": [],
   "source": [
    "np.set_printoptions(precision=3)"
   ]
  },
  {
   "cell_type": "code",
   "execution_count": 299,
   "metadata": {},
   "outputs": [
    {
     "data": {
      "image/png": "[encoded data removed]",
      "text/plain": [
       "<Figure size 720x432 with 1 Axes>"
      ]
     },
     "metadata": {
      "needs_background": "light"
     },
     "output_type": "display_data"
    }
   ],
   "source": [
    "featureImportance = pd.DataFrame({\"feature\": X_train.columns, \n",
    "                                  \"importance\": lr.coef_})\n",
    "\n",
    "featureImportance.set_index('feature', inplace=True)\n",
    "featureImportance.sort_values([\"importance\"], ascending=False, inplace=True)\n",
    "featureImportance[\"importance\"].plot('bar', figsize=(10, 6));"
   ]
  },
  {
   "cell_type": "code",
   "execution_count": 304,
   "metadata": {},
   "outputs": [
    {
     "data": {
      "text/html": [
       "<div>\n",
       "<style scoped>\n",
       "    .dataframe tbody tr th:only-of-type {\n",
       "        vertical-align: middle;\n",
       "    }\n",
       "\n",
       "    .dataframe tbody tr th {\n",
       "        vertical-align: top;\n",
       "    }\n",
       "\n",
       "    .dataframe thead th {\n",
       "        text-align: right;\n",
       "    }\n",
       "</style>\n",
       "<table border=\"1\" class=\"dataframe\">\n",
       "  <thead>\n",
       "    <tr style=\"text-align: right;\">\n",
       "      <th></th>\n",
       "      <th>error_type</th>\n",
       "      <th>naive_baseline</th>\n",
       "      <th>lr</th>\n",
       "      <th>lasso_cv</th>\n",
       "    </tr>\n",
       "  </thead>\n",
       "  <tbody>\n",
       "    <tr>\n",
       "      <th>0</th>\n",
       "      <td>MAE</td>\n",
       "      <td>0.539101</td>\n",
       "      <td>7.721481e+08</td>\n",
       "      <td>0.501208</td>\n",
       "    </tr>\n",
       "    <tr>\n",
       "      <th>1</th>\n",
       "      <td>RMSE</td>\n",
       "      <td>0.802454</td>\n",
       "      <td>3.642215e+10</td>\n",
       "      <td>0.652164</td>\n",
       "    </tr>\n",
       "    <tr>\n",
       "      <th>2</th>\n",
       "      <td>R2</td>\n",
       "      <td>-0.324253</td>\n",
       "      <td>-2.746799e+21</td>\n",
       "      <td>0.119337</td>\n",
       "    </tr>\n",
       "    <tr>\n",
       "      <th>3</th>\n",
       "      <td>MAPE</td>\n",
       "      <td>16.775441</td>\n",
       "      <td>3.088592e+10</td>\n",
       "      <td>14.060883</td>\n",
       "    </tr>\n",
       "  </tbody>\n",
       "</table>\n",
       "</div>"
      ],
      "text/plain": [
       "  error_type  naive_baseline            lr   lasso_cv\n",
       "0        MAE        0.539101  7.721481e+08   0.501208\n",
       "1       RMSE        0.802454  3.642215e+10   0.652164\n",
       "2         R2       -0.324253 -2.746799e+21   0.119337\n",
       "3       MAPE       16.775441  3.088592e+10  14.060883"
      ]
     },
     "execution_count": 304,
     "metadata": {},
     "output_type": "execute_result"
    }
   ],
   "source": [
    "lasso_cv = LassoCV()\n",
    "lasso_cv.fit(X_train_scaled, y_train)\n",
    "measured_metrics['lasso_cv'] = dataframe_metrics(y_test, lasso_cv.predict(X_test_scaled))\n",
    "measured_metrics"
   ]
  },
  {
   "cell_type": "code",
   "execution_count": 305,
   "metadata": {},
   "outputs": [
    {
     "data": {
      "image/png": "[encoded data removed]",
      "text/plain": [
       "<Figure size 720x432 with 1 Axes>"
      ]
     },
     "metadata": {
      "needs_background": "light"
     },
     "output_type": "display_data"
    }
   ],
   "source": [
    "featureImportance = pd.DataFrame({\"feature\": X_train.columns[lasso_cv.coef_!=0], \n",
    "                                  \"importance\": lasso_cv.coef_[lasso_cv.coef_!=0]})\n",
    "\n",
    "featureImportance.set_index('feature', inplace=True)\n",
    "featureImportance.sort_values([\"importance\"], ascending=False, inplace=True)\n",
    "featureImportance[\"importance\"].plot('bar', figsize=(10, 6));"
   ]
  },
  {
   "cell_type": "code",
   "execution_count": 306,
   "metadata": {},
   "outputs": [
    {
     "data": {
      "text/html": [
       "<div>\n",
       "<style scoped>\n",
       "    .dataframe tbody tr th:only-of-type {\n",
       "        vertical-align: middle;\n",
       "    }\n",
       "\n",
       "    .dataframe tbody tr th {\n",
       "        vertical-align: top;\n",
       "    }\n",
       "\n",
       "    .dataframe thead th {\n",
       "        text-align: right;\n",
       "    }\n",
       "</style>\n",
       "<table border=\"1\" class=\"dataframe\">\n",
       "  <thead>\n",
       "    <tr style=\"text-align: right;\">\n",
       "      <th></th>\n",
       "      <th>error_type</th>\n",
       "      <th>naive_baseline</th>\n",
       "      <th>lr</th>\n",
       "      <th>lasso_cv</th>\n",
       "      <th>ridge_cv</th>\n",
       "    </tr>\n",
       "  </thead>\n",
       "  <tbody>\n",
       "    <tr>\n",
       "      <th>0</th>\n",
       "      <td>MAE</td>\n",
       "      <td>0.539101</td>\n",
       "      <td>7.721481e+08</td>\n",
       "      <td>0.501208</td>\n",
       "      <td>0.502455</td>\n",
       "    </tr>\n",
       "    <tr>\n",
       "      <th>1</th>\n",
       "      <td>RMSE</td>\n",
       "      <td>0.802454</td>\n",
       "      <td>3.642215e+10</td>\n",
       "      <td>0.652164</td>\n",
       "      <td>0.655147</td>\n",
       "    </tr>\n",
       "    <tr>\n",
       "      <th>2</th>\n",
       "      <td>R2</td>\n",
       "      <td>-0.324253</td>\n",
       "      <td>-2.746799e+21</td>\n",
       "      <td>0.119337</td>\n",
       "      <td>0.111262</td>\n",
       "    </tr>\n",
       "    <tr>\n",
       "      <th>3</th>\n",
       "      <td>MAPE</td>\n",
       "      <td>16.775441</td>\n",
       "      <td>3.088592e+10</td>\n",
       "      <td>14.060883</td>\n",
       "      <td>14.078513</td>\n",
       "    </tr>\n",
       "  </tbody>\n",
       "</table>\n",
       "</div>"
      ],
      "text/plain": [
       "  error_type  naive_baseline            lr   lasso_cv   ridge_cv\n",
       "0        MAE        0.539101  7.721481e+08   0.501208   0.502455\n",
       "1       RMSE        0.802454  3.642215e+10   0.652164   0.655147\n",
       "2         R2       -0.324253 -2.746799e+21   0.119337   0.111262\n",
       "3       MAPE       16.775441  3.088592e+10  14.060883  14.078513"
      ]
     },
     "execution_count": 306,
     "metadata": {},
     "output_type": "execute_result"
    }
   ],
   "source": [
    "ridge_cv = RidgeCV()\n",
    "ridge_cv.fit(X_train_scaled, y_train)\n",
    "measured_metrics['ridge_cv'] = dataframe_metrics(y_test, ridge_cv.predict(X_test_scaled))\n",
    "measured_metrics"
   ]
  },
  {
   "cell_type": "code",
   "execution_count": 308,
   "metadata": {},
   "outputs": [],
   "source": [
    "# featureImportance = pd.DataFrame({\"feature\": X_train.columns[ridge_cv.coef_!=0], \n",
    "#                                   \"importance\": ridge_cv.coef_[ridge_cv.coef_!=0]})\n",
    "\n",
    "# featureImportance.set_index('feature', inplace=True)\n",
    "# featureImportance.sort_values([\"importance\"], ascending=False, inplace=True)\n",
    "# featureImportance[\"importance\"].plot('bar', figsize=(10, 6));"
   ]
  },
  {
   "cell_type": "code",
   "execution_count": 309,
   "metadata": {},
   "outputs": [
    {
     "data": {
      "text/html": [
       "<div>\n",
       "<style scoped>\n",
       "    .dataframe tbody tr th:only-of-type {\n",
       "        vertical-align: middle;\n",
       "    }\n",
       "\n",
       "    .dataframe tbody tr th {\n",
       "        vertical-align: top;\n",
       "    }\n",
       "\n",
       "    .dataframe thead th {\n",
       "        text-align: right;\n",
       "    }\n",
       "</style>\n",
       "<table border=\"1\" class=\"dataframe\">\n",
       "  <thead>\n",
       "    <tr style=\"text-align: right;\">\n",
       "      <th></th>\n",
       "      <th>error_type</th>\n",
       "      <th>naive_baseline</th>\n",
       "      <th>lr</th>\n",
       "      <th>lasso_cv</th>\n",
       "      <th>ridge_cv</th>\n",
       "      <th>elastic_cv</th>\n",
       "    </tr>\n",
       "  </thead>\n",
       "  <tbody>\n",
       "    <tr>\n",
       "      <th>0</th>\n",
       "      <td>MAE</td>\n",
       "      <td>0.539101</td>\n",
       "      <td>7.721481e+08</td>\n",
       "      <td>0.501208</td>\n",
       "      <td>0.502455</td>\n",
       "      <td>0.501125</td>\n",
       "    </tr>\n",
       "    <tr>\n",
       "      <th>1</th>\n",
       "      <td>RMSE</td>\n",
       "      <td>0.802454</td>\n",
       "      <td>3.642215e+10</td>\n",
       "      <td>0.652164</td>\n",
       "      <td>0.655147</td>\n",
       "      <td>0.652088</td>\n",
       "    </tr>\n",
       "    <tr>\n",
       "      <th>2</th>\n",
       "      <td>R2</td>\n",
       "      <td>-0.324253</td>\n",
       "      <td>-2.746799e+21</td>\n",
       "      <td>0.119337</td>\n",
       "      <td>0.111262</td>\n",
       "      <td>0.119542</td>\n",
       "    </tr>\n",
       "    <tr>\n",
       "      <th>3</th>\n",
       "      <td>MAPE</td>\n",
       "      <td>16.775441</td>\n",
       "      <td>3.088592e+10</td>\n",
       "      <td>14.060883</td>\n",
       "      <td>14.078513</td>\n",
       "      <td>14.060557</td>\n",
       "    </tr>\n",
       "  </tbody>\n",
       "</table>\n",
       "</div>"
      ],
      "text/plain": [
       "  error_type  naive_baseline            lr   lasso_cv   ridge_cv  elastic_cv\n",
       "0        MAE        0.539101  7.721481e+08   0.501208   0.502455    0.501125\n",
       "1       RMSE        0.802454  3.642215e+10   0.652164   0.655147    0.652088\n",
       "2         R2       -0.324253 -2.746799e+21   0.119337   0.111262    0.119542\n",
       "3       MAPE       16.775441  3.088592e+10  14.060883  14.078513   14.060557"
      ]
     },
     "execution_count": 309,
     "metadata": {},
     "output_type": "execute_result"
    }
   ],
   "source": [
    "elastic_cv = ElasticNetCV()\n",
    "elastic_cv.fit(X_train_scaled, y_train)\n",
    "measured_metrics['elastic_cv'] = dataframe_metrics(y_test, elastic_cv.predict(X_test_scaled))\n",
    "measured_metrics"
   ]
  },
  {
   "cell_type": "code",
   "execution_count": 310,
   "metadata": {},
   "outputs": [
    {
     "data": {
      "image/png": "[encoded data removed]",
      "text/plain": [
       "<Figure size 720x432 with 1 Axes>"
      ]
     },
     "metadata": {
      "needs_background": "light"
     },
     "output_type": "display_data"
    }
   ],
   "source": [
    "featureImportance = pd.DataFrame({\"feature\": X_train.columns[elastic_cv.coef_!=0], \n",
    "                                  \"importance\": elastic_cv.coef_[elastic_cv.coef_!=0]})\n",
    "\n",
    "featureImportance.set_index('feature', inplace=True)\n",
    "featureImportance.sort_values([\"importance\"], ascending=False, inplace=True)\n",
    "featureImportance[\"importance\"].plot('bar', figsize=(10, 6))"
   ]
  },
  {
   "cell_type": "code",
   "execution_count": 311,
   "metadata": {},
   "outputs": [
    {
     "data": {
      "text/html": [
       "<div>\n",
       "<style scoped>\n",
       "    .dataframe tbody tr th:only-of-type {\n",
       "        vertical-align: middle;\n",
       "    }\n",
       "\n",
       "    .dataframe tbody tr th {\n",
       "        vertical-align: top;\n",
       "    }\n",
       "\n",
       "    .dataframe thead th {\n",
       "        text-align: right;\n",
       "    }\n",
       "</style>\n",
       "<table border=\"1\" class=\"dataframe\">\n",
       "  <thead>\n",
       "    <tr style=\"text-align: right;\">\n",
       "      <th></th>\n",
       "      <th>error_type</th>\n",
       "      <th>naive_baseline</th>\n",
       "      <th>lr</th>\n",
       "      <th>lasso_cv</th>\n",
       "      <th>ridge_cv</th>\n",
       "      <th>elastic_cv</th>\n",
       "      <th>rf</th>\n",
       "    </tr>\n",
       "  </thead>\n",
       "  <tbody>\n",
       "    <tr>\n",
       "      <th>0</th>\n",
       "      <td>MAE</td>\n",
       "      <td>0.539101</td>\n",
       "      <td>7.721481e+08</td>\n",
       "      <td>0.501208</td>\n",
       "      <td>0.502455</td>\n",
       "      <td>0.501125</td>\n",
       "      <td>0.493191</td>\n",
       "    </tr>\n",
       "    <tr>\n",
       "      <th>1</th>\n",
       "      <td>RMSE</td>\n",
       "      <td>0.802454</td>\n",
       "      <td>3.642215e+10</td>\n",
       "      <td>0.652164</td>\n",
       "      <td>0.655147</td>\n",
       "      <td>0.652088</td>\n",
       "      <td>0.658057</td>\n",
       "    </tr>\n",
       "    <tr>\n",
       "      <th>2</th>\n",
       "      <td>R2</td>\n",
       "      <td>-0.324253</td>\n",
       "      <td>-2.746799e+21</td>\n",
       "      <td>0.119337</td>\n",
       "      <td>0.111262</td>\n",
       "      <td>0.119542</td>\n",
       "      <td>0.103350</td>\n",
       "    </tr>\n",
       "    <tr>\n",
       "      <th>3</th>\n",
       "      <td>MAPE</td>\n",
       "      <td>16.775441</td>\n",
       "      <td>3.088592e+10</td>\n",
       "      <td>14.060883</td>\n",
       "      <td>14.078513</td>\n",
       "      <td>14.060557</td>\n",
       "      <td>13.667421</td>\n",
       "    </tr>\n",
       "  </tbody>\n",
       "</table>\n",
       "</div>"
      ],
      "text/plain": [
       "  error_type  naive_baseline            lr   lasso_cv   ridge_cv  elastic_cv  \\\n",
       "0        MAE        0.539101  7.721481e+08   0.501208   0.502455    0.501125   \n",
       "1       RMSE        0.802454  3.642215e+10   0.652164   0.655147    0.652088   \n",
       "2         R2       -0.324253 -2.746799e+21   0.119337   0.111262    0.119542   \n",
       "3       MAPE       16.775441  3.088592e+10  14.060883  14.078513   14.060557   \n",
       "\n",
       "          rf  \n",
       "0   0.493191  \n",
       "1   0.658057  \n",
       "2   0.103350  \n",
       "3  13.667421  "
      ]
     },
     "execution_count": 311,
     "metadata": {},
     "output_type": "execute_result"
    }
   ],
   "source": [
    "rf = RandomForestRegressor()\n",
    "rf.fit(X_train, y_train)\n",
    "measured_metrics['rf'] = dataframe_metrics(y_test, rf.predict(X_test))\n",
    "measured_metrics"
   ]
  },
  {
   "cell_type": "code",
   "execution_count": 314,
   "metadata": {},
   "outputs": [
    {
     "data": {
      "image/png": "[encoded data removed]",
      "text/plain": [
       "<Figure size 432x1080 with 1 Axes>"
      ]
     },
     "metadata": {
      "needs_background": "light"
     },
     "output_type": "display_data"
    }
   ],
   "source": [
    "featureImportance = pd.DataFrame({\"feature\": X_train.columns, \n",
    "                                  \"importance\": rf.feature_importances_})\n",
    "\n",
    "featureImportance.set_index('feature', inplace=True)\n",
    "featureImportance.sort_values([\"importance\"], ascending=False, inplace=True)\n",
    "featureImportance[\"importance\"].plot('barh', figsize=(6, 15));"
   ]
  },
  {
   "cell_type": "markdown",
   "metadata": {},
   "source": [
    "## GridSearchCV()"
   ]
  },
  {
   "cell_type": "code",
   "execution_count": 315,
   "metadata": {},
   "outputs": [],
   "source": [
    "from sklearn.model_selection import RandomizedSearchCV"
   ]
  },
  {
   "cell_type": "code",
   "execution_count": null,
   "metadata": {},
   "outputs": [],
   "source": [
    "RandomForestRegressor()"
   ]
  },
  {
   "cell_type": "code",
   "execution_count": 319,
   "metadata": {},
   "outputs": [
    {
     "data": {
      "text/plain": [
       "41"
      ]
     },
     "execution_count": 319,
     "metadata": {},
     "output_type": "execute_result"
    }
   ],
   "source": [
    "X_train.shape[1]//2"
   ]
  },
  {
   "cell_type": "code",
   "execution_count": 321,
   "metadata": {},
   "outputs": [],
   "source": [
    "params = {\n",
    "    'n_estimators':[10, 50, 100],\n",
    "    'max_depth':[1, 2, 5, 7, 10],\n",
    "    'max_features':[\n",
    "        'auto', \n",
    "        X_train.shape[1]//2, \n",
    "        'sqrt',\n",
    "        'log2'\n",
    "    ]\n",
    "}\n",
    "\n",
    "rscv = RandomizedSearchCV(\n",
    "    estimator=RandomForestRegressor(),\n",
    "    param_distributions = params,\n",
    "    n_jobs=-1,\n",
    "    verbose=1\n",
    ")"
   ]
  },
  {
   "cell_type": "code",
   "execution_count": 322,
   "metadata": {},
   "outputs": [
    {
     "name": "stdout",
     "output_type": "stream",
     "text": [
      "Fitting 3 folds for each of 10 candidates, totalling 30 fits\n"
     ]
    },
    {
     "name": "stderr",
     "output_type": "stream",
     "text": [
      "[Parallel(n_jobs=-1)]: Using backend LokyBackend with 8 concurrent workers.\n",
      "[Parallel(n_jobs=-1)]: Done  30 out of  30 | elapsed:    6.7s finished\n"
     ]
    },
    {
     "data": {
      "text/plain": [
       "RandomizedSearchCV(cv='warn', error_score='raise-deprecating',\n",
       "                   estimator=RandomForestRegressor(bootstrap=True,\n",
       "                                                   criterion='mse',\n",
       "                                                   max_depth=None,\n",
       "                                                   max_features='auto',\n",
       "                                                   max_leaf_nodes=None,\n",
       "                                                   min_impurity_decrease=0.0,\n",
       "                                                   min_impurity_split=None,\n",
       "                                                   min_samples_leaf=1,\n",
       "                                                   min_samples_split=2,\n",
       "                                                   min_weight_fraction_leaf=0.0,\n",
       "                                                   n_estimators='warn',\n",
       "                                                   n_jobs=None, oob_score=False,\n",
       "                                                   random_state=None, verbose=0,\n",
       "                                                   warm_start=False),\n",
       "                   iid='warn', n_iter=10, n_jobs=-1,\n",
       "                   param_distributions={'max_depth': [1, 2, 5, 7, 10],\n",
       "                                        'max_features': ['auto', 41, 'sqrt',\n",
       "                                                         'log2'],\n",
       "                                        'n_estimators': [10, 50, 100]},\n",
       "                   pre_dispatch='2*n_jobs', random_state=None, refit=True,\n",
       "                   return_train_score=False, scoring=None, verbose=1)"
      ]
     },
     "execution_count": 322,
     "metadata": {},
     "output_type": "execute_result"
    }
   ],
   "source": [
    "rscv.fit(X_train, y_train)"
   ]
  },
  {
   "cell_type": "code",
   "execution_count": 323,
   "metadata": {},
   "outputs": [
    {
     "data": {
      "text/plain": [
       "{'n_estimators': 10, 'max_features': 'auto', 'max_depth': 7}"
      ]
     },
     "execution_count": 323,
     "metadata": {},
     "output_type": "execute_result"
    }
   ],
   "source": [
    "rscv.best_params_"
   ]
  },
  {
   "cell_type": "code",
   "execution_count": 330,
   "metadata": {},
   "outputs": [
    {
     "data": {
      "text/plain": [
       "0.17101017495314305"
      ]
     },
     "execution_count": 330,
     "metadata": {},
     "output_type": "execute_result"
    }
   ],
   "source": [
    "rscv.best_score_"
   ]
  },
  {
   "cell_type": "code",
   "execution_count": 328,
   "metadata": {},
   "outputs": [
    {
     "data": {
      "text/plain": [
       "RandomForestRegressor(bootstrap=True, criterion='mse', max_depth=7,\n",
       "                      max_features='auto', max_leaf_nodes=None,\n",
       "                      min_impurity_decrease=0.0, min_impurity_split=None,\n",
       "                      min_samples_leaf=1, min_samples_split=2,\n",
       "                      min_weight_fraction_leaf=0.0, n_estimators=10,\n",
       "                      n_jobs=None, oob_score=False, random_state=None,\n",
       "                      verbose=0, warm_start=False)"
      ]
     },
     "execution_count": 328,
     "metadata": {},
     "output_type": "execute_result"
    }
   ],
   "source": [
    "rscv.best_estimator_.fit(X_train, y_train)"
   ]
  },
  {
   "cell_type": "code",
   "execution_count": 329,
   "metadata": {},
   "outputs": [
    {
     "data": {
      "text/html": [
       "<div>\n",
       "<style scoped>\n",
       "    .dataframe tbody tr th:only-of-type {\n",
       "        vertical-align: middle;\n",
       "    }\n",
       "\n",
       "    .dataframe tbody tr th {\n",
       "        vertical-align: top;\n",
       "    }\n",
       "\n",
       "    .dataframe thead th {\n",
       "        text-align: right;\n",
       "    }\n",
       "</style>\n",
       "<table border=\"1\" class=\"dataframe\">\n",
       "  <thead>\n",
       "    <tr style=\"text-align: right;\">\n",
       "      <th></th>\n",
       "      <th>error_type</th>\n",
       "      <th>naive_baseline</th>\n",
       "      <th>lr</th>\n",
       "      <th>lasso_cv</th>\n",
       "      <th>ridge_cv</th>\n",
       "      <th>elastic_cv</th>\n",
       "      <th>rf</th>\n",
       "      <th>rf_cv</th>\n",
       "    </tr>\n",
       "  </thead>\n",
       "  <tbody>\n",
       "    <tr>\n",
       "      <th>0</th>\n",
       "      <td>MAE</td>\n",
       "      <td>0.539101</td>\n",
       "      <td>7.721481e+08</td>\n",
       "      <td>0.501208</td>\n",
       "      <td>0.502455</td>\n",
       "      <td>0.501125</td>\n",
       "      <td>0.493191</td>\n",
       "      <td>0.478412</td>\n",
       "    </tr>\n",
       "    <tr>\n",
       "      <th>1</th>\n",
       "      <td>RMSE</td>\n",
       "      <td>0.802454</td>\n",
       "      <td>3.642215e+10</td>\n",
       "      <td>0.652164</td>\n",
       "      <td>0.655147</td>\n",
       "      <td>0.652088</td>\n",
       "      <td>0.658057</td>\n",
       "      <td>0.632623</td>\n",
       "    </tr>\n",
       "    <tr>\n",
       "      <th>2</th>\n",
       "      <td>R2</td>\n",
       "      <td>-0.324253</td>\n",
       "      <td>-2.746799e+21</td>\n",
       "      <td>0.119337</td>\n",
       "      <td>0.111262</td>\n",
       "      <td>0.119542</td>\n",
       "      <td>0.103350</td>\n",
       "      <td>0.171321</td>\n",
       "    </tr>\n",
       "    <tr>\n",
       "      <th>3</th>\n",
       "      <td>MAPE</td>\n",
       "      <td>16.775441</td>\n",
       "      <td>3.088592e+10</td>\n",
       "      <td>14.060883</td>\n",
       "      <td>14.078513</td>\n",
       "      <td>14.060557</td>\n",
       "      <td>13.667421</td>\n",
       "      <td>13.411456</td>\n",
       "    </tr>\n",
       "  </tbody>\n",
       "</table>\n",
       "</div>"
      ],
      "text/plain": [
       "  error_type  naive_baseline            lr   lasso_cv   ridge_cv  elastic_cv  \\\n",
       "0        MAE        0.539101  7.721481e+08   0.501208   0.502455    0.501125   \n",
       "1       RMSE        0.802454  3.642215e+10   0.652164   0.655147    0.652088   \n",
       "2         R2       -0.324253 -2.746799e+21   0.119337   0.111262    0.119542   \n",
       "3       MAPE       16.775441  3.088592e+10  14.060883  14.078513   14.060557   \n",
       "\n",
       "          rf      rf_cv  \n",
       "0   0.493191   0.478412  \n",
       "1   0.658057   0.632623  \n",
       "2   0.103350   0.171321  \n",
       "3  13.667421  13.411456  "
      ]
     },
     "execution_count": 329,
     "metadata": {},
     "output_type": "execute_result"
    }
   ],
   "source": [
    "measured_metrics['rf_cv'] = dataframe_metrics(y_test, rscv.best_estimator_.predict(X_test))\n",
    "measured_metrics"
   ]
  },
  {
   "cell_type": "code",
   "execution_count": 331,
   "metadata": {},
   "outputs": [
    {
     "data": {
      "image/png": "[encoded data removed]",
      "text/plain": [
       "<Figure size 432x1080 with 1 Axes>"
      ]
     },
     "metadata": {
      "needs_background": "light"
     },
     "output_type": "display_data"
    }
   ],
   "source": [
    "featureImportance = pd.DataFrame({\"feature\": X_train.columns, \n",
    "                                  \"importance\": rscv.best_estimator_.feature_importances_})\n",
    "\n",
    "featureImportance.set_index('feature', inplace=True)\n",
    "featureImportance.sort_values([\"importance\"], ascending=False, inplace=True)\n",
    "featureImportance[\"importance\"].plot('barh', figsize=(6, 15));"
   ]
  }
 ],
 "metadata": {
  "kernelspec": {
   "display_name": "Python 3",
   "language": "python",
   "name": "python3"
  },
  "language_info": {
   "codemirror_mode": {
    "name": "ipython",
    "version": 3
   },
   "file_extension": ".py",
   "mimetype": "text/x-python",
   "name": "python",
   "nbconvert_exporter": "python",
   "pygments_lexer": "ipython3",
   "version": "3.8.3"
  },
  "varInspector": {
   "cols": {
    "lenName": 16,
    "lenType": 16,
    "lenVar": 40
   },
   "kernels_config": {
    "python": {
     "delete_cmd_postfix": "",
     "delete_cmd_prefix": "del ",
     "library": "var_list.py",
     "varRefreshCmd": "print(var_dic_list())"
    },
    "r": {
     "delete_cmd_postfix": ") ",
     "delete_cmd_prefix": "rm(",
     "library": "var_list.r",
     "varRefreshCmd": "cat(var_dic_list()) "
    }
   },
   "types_to_exclude": [
    "module",
    "function",
    "builtin_function_or_method",
    "instance",
    "_Feature"
   ],
   "window_display": false
  }
 },
 "nbformat": 4,
 "nbformat_minor": 2
}
